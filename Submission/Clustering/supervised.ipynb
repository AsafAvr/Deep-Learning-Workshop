{
 "cells": [
  {
   "cell_type": "code",
   "execution_count": 1,
   "metadata": {},
   "outputs": [],
   "source": [
    "import numpy as np\n",
    "import pandas as pd\n",
    "from time import time\n",
    "from sklearn.cluster import KMeans\n",
    "from sklearn.preprocessing import StandardScaler\n",
    "\n",
    "from random import randint\n",
    "import os\n",
    "import matplotlib.pyplot as plt\n",
    "import tensorflow_addons as tfa\n",
    "\n",
    "\n",
    "import matplotlib.pyplot as plt\n",
    "\n",
    "import tensorflow as tf\n",
    "from sklearn.metrics import accuracy_score, precision_score, recall_score\n",
    "from sklearn.model_selection import train_test_split\n",
    "\n",
    "import plotting_funcs as pf\n",
    "import clustering_model as cm\n",
    "import config as conf\n",
    "\n",
    "from sklearn.manifold import TSNE\n",
    "from sklearn.decomposition import TruncatedSVD"
   ]
  },
  {
   "cell_type": "code",
   "execution_count": 2,
   "metadata": {},
   "outputs": [
    {
     "name": "stdout",
     "output_type": "stream",
     "text": [
      "(3864, 32, 5) (3864,)\n"
     ]
    }
   ],
   "source": [
    "X = np.load('x_clean.npy')\n",
    "y = np.load('y_clean.npy')\n",
    "types = np.array([conf.wells_to_genetype_dict[well] for well in y])\n",
    "y_letter = np.array([well[:1] for well in y])\n",
    "from sklearn import preprocessing\n",
    "le = preprocessing.LabelEncoder()\n",
    "labs = le.fit_transform(y)\n",
    "labs_by_letter = le.fit_transform(y_letter)\n",
    "labs_by_type = le.fit_transform(types)\n",
    "X, labs\n",
    "print(X.shape , labs_by_type.shape)"
   ]
  },
  {
   "cell_type": "code",
   "execution_count": 3,
   "metadata": {},
   "outputs": [
    {
     "data": {
      "text/plain": [
       "<AxesSubplot:>"
      ]
     },
     "execution_count": 3,
     "metadata": {},
     "output_type": "execute_result"
    },
    {
     "data": {
      "image/png": "[encoded data removed]",
      "text/plain": [
       "<Figure size 432x288 with 1 Axes>"
      ]
     },
     "metadata": {
      "needs_background": "light"
     },
     "output_type": "display_data"
    }
   ],
   "source": [
    "pd.Series(types).hist()"
   ]
  },
  {
   "cell_type": "code",
   "execution_count": 4,
   "metadata": {},
   "outputs": [],
   "source": [
    "X_train,X_test,y_train,y_test = train_test_split(X,labs_by_type,test_size=0.2,random_state=42)"
   ]
  },
  {
   "cell_type": "code",
   "execution_count": 5,
   "metadata": {},
   "outputs": [
    {
     "name": "stdout",
     "output_type": "stream",
     "text": [
      "(3091, 32, 5) (3091,)\n",
      "(773, 32, 5) (773,)\n"
     ]
    }
   ],
   "source": [
    "print(X_train.shape,y_train.shape)\n",
    "print(X_test.shape,y_test.shape)"
   ]
  },
  {
   "cell_type": "code",
   "execution_count": 6,
   "metadata": {},
   "outputs": [],
   "source": [
    "from sklearn.preprocessing import StandardScaler\n",
    "scaler = StandardScaler()\n",
    "X_train = scaler.fit_transform(X_train.reshape(-1, X_train.shape[-1])).reshape(X_train.shape)\n",
    "X_test = scaler.transform(X_test.reshape(-1, X_test.shape[-1])).reshape(X_test.shape)"
   ]
  },
  {
   "cell_type": "code",
   "execution_count": 17,
   "metadata": {},
   "outputs": [],
   "source": [
    "#model params\n",
    "input_dim = X_train.shape[-1]\n",
    "num_labels = len(np.unique(y_train))\n",
    "timesteps = X_train.shape[-2]\n",
    "n_filters = [64,64,32]\n",
    "kernel_size = 8\n",
    "strides = 1\n",
    "pool_size = 8\n",
    "n_units = [64,8]\n",
    "\n",
    "optimizer='adam'\n",
    "#optimizer = Adam(lr=0.01)\n",
    "#loss = 'categorical_crossentropy' # need one ot encoded labels\n",
    "loss = 'sparse_categorical_crossentropy' # need label encoded labels\n",
    "epochs=100\n",
    "batch_size=256\n",
    "save_dir='results/tmp'\n",
    "verbose=1"
   ]
  },
  {
   "cell_type": "code",
   "execution_count": 18,
   "metadata": {},
   "outputs": [
    {
     "name": "stdout",
     "output_type": "stream",
     "text": [
      "Model: \"classifier\"\n",
      "_________________________________________________________________\n",
      " Layer (type)                Output Shape              Param #   \n",
      "=================================================================\n",
      " input_seq (InputLayer)      [(None, 32, 5)]           0         \n",
      "                                                                 \n",
      " conv1d_9 (Conv1D)           (None, 32, 64)            2624      \n",
      "                                                                 \n",
      " conv1d_10 (Conv1D)          (None, 32, 64)            32832     \n",
      "                                                                 \n",
      " conv1d_11 (Conv1D)          (None, 32, 32)            16416     \n",
      "                                                                 \n",
      " leaky_re_lu_6 (LeakyReLU)   (None, 32, 32)            0         \n",
      "                                                                 \n",
      " max_pooling1d_3 (MaxPooling  (None, 4, 32)            0         \n",
      " 1D)                                                             \n",
      "                                                                 \n",
      " bidirectional_6 (Bidirectio  (None, 4, 64)            49664     \n",
      " nal)                                                            \n",
      "                                                                 \n",
      " leaky_re_lu_7 (LeakyReLU)   (None, 4, 64)             0         \n",
      "                                                                 \n",
      " bidirectional_7 (Bidirectio  (None, 4, 8)             4672      \n",
      " nal)                                                            \n",
      "                                                                 \n",
      " latent (Flatten)            (None, 32)                0         \n",
      "                                                                 \n",
      " classes (Dense)             (None, 5)                 165       \n",
      "                                                                 \n",
      "=================================================================\n",
      "Total params: 106,373\n",
      "Trainable params: 106,373\n",
      "Non-trainable params: 0\n",
      "_________________________________________________________________\n"
     ]
    }
   ],
   "source": [
    "classifier_model,encoder_model = cm.temporal_classifier(input_dim,num_labels,timesteps,n_filters,kernel_size,strides,pool_size,n_units)\n",
    "classifier_model.compile(loss=loss, optimizer=optimizer, metrics=['accuracy'])\n",
    "classifier_model.summary()"
   ]
  },
  {
   "cell_type": "code",
   "execution_count": 15,
   "metadata": {},
   "outputs": [
    {
     "name": "stdout",
     "output_type": "stream",
     "text": [
      "Epoch 1/30\n",
      "13/13 [==============================] - 7s 144ms/step - loss: 1.3206 - accuracy: 0.5403 - val_loss: 1.2369 - val_accuracy: 0.5317\n",
      "Epoch 2/30\n",
      "13/13 [==============================] - 0s 36ms/step - loss: 1.2294 - accuracy: 0.5458 - val_loss: 1.2378 - val_accuracy: 0.5317\n",
      "Epoch 3/30\n",
      "13/13 [==============================] - 0s 34ms/step - loss: 1.2204 - accuracy: 0.5458 - val_loss: 1.2338 - val_accuracy: 0.5317\n",
      "Epoch 4/30\n",
      "13/13 [==============================] - 0s 34ms/step - loss: 1.2143 - accuracy: 0.5458 - val_loss: 1.2377 - val_accuracy: 0.5317\n",
      "Epoch 5/30\n",
      "13/13 [==============================] - 0s 35ms/step - loss: 1.2107 - accuracy: 0.5458 - val_loss: 1.2341 - val_accuracy: 0.5317\n",
      "Epoch 6/30\n",
      "13/13 [==============================] - 0s 38ms/step - loss: 1.2072 - accuracy: 0.5458 - val_loss: 1.2390 - val_accuracy: 0.5317\n",
      "Epoch 7/30\n",
      "13/13 [==============================] - 0s 35ms/step - loss: 1.2031 - accuracy: 0.5458 - val_loss: 1.2375 - val_accuracy: 0.5317\n",
      "Epoch 8/30\n",
      "13/13 [==============================] - 0s 34ms/step - loss: 1.2003 - accuracy: 0.5458 - val_loss: 1.2392 - val_accuracy: 0.5317\n",
      "Epoch 9/30\n",
      "13/13 [==============================] - 0s 36ms/step - loss: 1.1969 - accuracy: 0.5458 - val_loss: 1.2380 - val_accuracy: 0.5317\n",
      "Epoch 10/30\n",
      "13/13 [==============================] - 1s 41ms/step - loss: 1.1898 - accuracy: 0.5464 - val_loss: 1.2457 - val_accuracy: 0.5330\n",
      "Epoch 11/30\n",
      "13/13 [==============================] - 0s 35ms/step - loss: 1.1822 - accuracy: 0.5464 - val_loss: 1.2403 - val_accuracy: 0.5330\n",
      "Epoch 12/30\n",
      "13/13 [==============================] - 0s 37ms/step - loss: 1.1734 - accuracy: 0.5464 - val_loss: 1.2479 - val_accuracy: 0.5330\n",
      "Epoch 13/30\n",
      "13/13 [==============================] - 0s 37ms/step - loss: 1.1666 - accuracy: 0.5467 - val_loss: 1.2501 - val_accuracy: 0.5356\n",
      "Epoch 14/30\n",
      "13/13 [==============================] - 0s 35ms/step - loss: 1.1558 - accuracy: 0.5477 - val_loss: 1.2623 - val_accuracy: 0.5330\n",
      "Epoch 15/30\n",
      "13/13 [==============================] - 0s 39ms/step - loss: 1.1661 - accuracy: 0.5480 - val_loss: 1.2495 - val_accuracy: 0.5343\n",
      "Epoch 16/30\n",
      "13/13 [==============================] - 0s 38ms/step - loss: 1.1539 - accuracy: 0.5471 - val_loss: 1.2542 - val_accuracy: 0.5343\n",
      "Epoch 17/30\n",
      "13/13 [==============================] - 1s 39ms/step - loss: 1.1450 - accuracy: 0.5500 - val_loss: 1.2637 - val_accuracy: 0.5356\n",
      "Epoch 18/30\n",
      "13/13 [==============================] - 0s 39ms/step - loss: 1.1224 - accuracy: 0.5552 - val_loss: 1.2615 - val_accuracy: 0.5356\n",
      "Epoch 19/30\n",
      "13/13 [==============================] - 1s 40ms/step - loss: 1.1137 - accuracy: 0.5597 - val_loss: 1.2739 - val_accuracy: 0.5226\n",
      "Epoch 20/30\n",
      "13/13 [==============================] - 0s 37ms/step - loss: 1.1036 - accuracy: 0.5620 - val_loss: 1.2729 - val_accuracy: 0.5343\n",
      "Epoch 21/30\n",
      "13/13 [==============================] - 0s 36ms/step - loss: 1.0914 - accuracy: 0.5665 - val_loss: 1.2831 - val_accuracy: 0.5291\n",
      "Epoch 22/30\n",
      "13/13 [==============================] - 0s 37ms/step - loss: 1.0766 - accuracy: 0.5726 - val_loss: 1.2935 - val_accuracy: 0.5317\n",
      "Epoch 23/30\n",
      "13/13 [==============================] - 1s 40ms/step - loss: 1.0562 - accuracy: 0.5707 - val_loss: 1.3281 - val_accuracy: 0.5188\n",
      "Epoch 24/30\n",
      "13/13 [==============================] - 0s 38ms/step - loss: 1.0477 - accuracy: 0.5768 - val_loss: 1.3253 - val_accuracy: 0.4890\n",
      "Epoch 25/30\n",
      "13/13 [==============================] - 0s 37ms/step - loss: 1.0083 - accuracy: 0.5940 - val_loss: 1.3327 - val_accuracy: 0.4851\n",
      "Epoch 26/30\n",
      "13/13 [==============================] - 0s 36ms/step - loss: 0.9908 - accuracy: 0.6066 - val_loss: 1.3500 - val_accuracy: 0.4994\n",
      "Epoch 27/30\n",
      "13/13 [==============================] - 1s 39ms/step - loss: 0.9726 - accuracy: 0.6166 - val_loss: 1.3603 - val_accuracy: 0.5019\n",
      "Epoch 28/30\n",
      "13/13 [==============================] - 0s 37ms/step - loss: 0.9722 - accuracy: 0.6179 - val_loss: 1.3822 - val_accuracy: 0.4580\n",
      "Epoch 29/30\n",
      "13/13 [==============================] - 0s 39ms/step - loss: 0.9375 - accuracy: 0.6296 - val_loss: 1.3979 - val_accuracy: 0.4386\n",
      "Epoch 30/30\n",
      "13/13 [==============================] - 1s 40ms/step - loss: 0.9188 - accuracy: 0.6386 - val_loss: 1.4133 - val_accuracy: 0.4812\n",
      "Pretraining time:  21.18906807899475\n"
     ]
    }
   ],
   "source": [
    "t0 = time()\n",
    "history = classifier_model.fit(X_train, y_train,validation_data=(X_test,y_test) , batch_size=batch_size, epochs=epochs, verbose=verbose)\n",
    "print('Pretraining time: ', time() - t0)"
   ]
  },
  {
   "cell_type": "code",
   "execution_count": null,
   "metadata": {},
   "outputs": [],
   "source": [
    "_, train_acc = classifier_model.evaluate(X_train, y_train, verbose=0)\n",
    "_, test_acc = classifier_model.evaluate(X_test, y_test, verbose=0)\n",
    "print('Train: %.3f, Test: %.3f' % (train_acc, test_acc))\n",
    "# plot loss during training\n",
    "plt.subplot(211)\n",
    "plt.title('Loss')\n",
    "plt.plot(history.history['loss'], label='train')\n",
    "plt.plot(history.history['val_loss'], label='test')\n",
    "plt.legend()\n",
    "# plot accuracy during training\n",
    "plt.subplot(212)\n",
    "plt.title('Accuracy')\n",
    "plt.plot(history.history['accuracy'], label='train')\n",
    "plt.plot(history.history['val_accuracy'], label='test')\n",
    "plt.legend()\n",
    "plt.show()"
   ]
  }
 ],
 "metadata": {
  "kernelspec": {
   "display_name": "Python 3.8.9 64-bit",
   "language": "python",
   "name": "python3"
  },
  "language_info": {
   "codemirror_mode": {
    "name": "ipython",
    "version": 3
   },
   "file_extension": ".py",
   "mimetype": "text/x-python",
   "name": "python",
   "nbconvert_exporter": "python",
   "pygments_lexer": "ipython3",
   "version": "3.8.9"
  },
  "orig_nbformat": 4,
  "vscode": {
   "interpreter": {
    "hash": "31f2aee4e71d21fbe5cf8b01ff0e069b9275f58929596ceb00d14d90e3e16cd6"
   }
  }
 },
 "nbformat": 4,
 "nbformat_minor": 2
}
