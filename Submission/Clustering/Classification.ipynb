{
 "cells": [
  {
   "cell_type": "markdown",
   "metadata": {},
   "source": [
    "# Classification"
   ]
  },
  {
   "cell_type": "code",
   "execution_count": 56,
   "metadata": {},
   "outputs": [],
   "source": [
    "import numpy as np\n",
    "import pandas as pd\n",
    "from sklearn.preprocessing import StandardScaler, LabelEncoder\n",
    "from scipy import stats\n",
    "from preprocessing import *\n",
    "from config import *\n",
    "import matplotlib.pyplot as plt\n",
    "from sklearn.model_selection import train_test_split\n",
    "from keras.callbacks import EarlyStopping\n",
    "plt.style.use(\"fivethirtyeight\")\n",
    "np.random.seed(42)"
   ]
  },
  {
   "cell_type": "markdown",
   "metadata": {},
   "source": [
    "## Load data"
   ]
  },
  {
   "cell_type": "code",
   "execution_count": 11,
   "metadata": {},
   "outputs": [],
   "source": [
    "track_length = 16"
   ]
  },
  {
   "cell_type": "code",
   "execution_count": 12,
   "metadata": {},
   "outputs": [
    {
     "name": "stdout",
     "output_type": "stream",
     "text": [
      "(29808, 16, 5) (29808,)\n"
     ]
    }
   ],
   "source": [
    "y = np.load(rf'data_files\\labels_All{track_length}.npy')\n",
    "x = np.load(rf'data_files\\features_All{track_length}.npy')\n",
    "print(x.shape, y.shape)"
   ]
  },
  {
   "cell_type": "code",
   "execution_count": 22,
   "metadata": {},
   "outputs": [],
   "source": [
    "y2treat = pd.Series(y).map(wells_to_genetype_dict)\n",
    "y2treat = pd.DataFrame(y2treat)"
   ]
  },
  {
   "cell_type": "code",
   "execution_count": 23,
   "metadata": {},
   "outputs": [
    {
     "data": {
      "text/plain": [
       "<AxesSubplot:xlabel='0'>"
      ]
     },
     "execution_count": 23,
     "metadata": {},
     "output_type": "execute_result"
    },
    {
     "data": {
      "image/png": "[encoded data removed]",
      "text/plain": [
       "<Figure size 640x480 with 1 Axes>"
      ]
     },
     "metadata": {},
     "output_type": "display_data"
    }
   ],
   "source": [
    "y2treat.value_counts().plot.bar()"
   ]
  },
  {
   "cell_type": "code",
   "execution_count": 43,
   "metadata": {},
   "outputs": [
    {
     "data": {
      "text/plain": [
       "2017"
      ]
     },
     "execution_count": 43,
     "metadata": {},
     "output_type": "execute_result"
    }
   ],
   "source": [
    "y2treat.groupby(0).size().min()"
   ]
  },
  {
   "cell_type": "code",
   "execution_count": 36,
   "metadata": {},
   "outputs": [
    {
     "data": {
      "text/plain": [
       "(10000, 1)"
      ]
     },
     "execution_count": 36,
     "metadata": {},
     "output_type": "execute_result"
    }
   ],
   "source": [
    "y_treat_sample = y2treat.groupby(0).sample(2000)\n",
    "y_sample.shape"
   ]
  },
  {
   "cell_type": "code",
   "execution_count": 39,
   "metadata": {},
   "outputs": [
    {
     "data": {
      "text/plain": [
       "(10000,)"
      ]
     },
     "execution_count": 39,
     "metadata": {},
     "output_type": "execute_result"
    }
   ],
   "source": [
    "y_sample = y[y_treat_sample.index.values]\n",
    "y_sample.shape"
   ]
  },
  {
   "cell_type": "code",
   "execution_count": 40,
   "metadata": {},
   "outputs": [
    {
     "data": {
      "text/plain": [
       "(10000, 16, 5)"
      ]
     },
     "execution_count": 40,
     "metadata": {},
     "output_type": "execute_result"
    }
   ],
   "source": [
    "x_sample = x[y_treat_sample.index.values]\n",
    "x_sample.shape"
   ]
  },
  {
   "cell_type": "code",
   "execution_count": 45,
   "metadata": {},
   "outputs": [],
   "source": [
    "np.save('x_balanced_sample_16.npy',x_sample)\n",
    "np.save('y_balanced_sample_16.npy',y_sample)"
   ]
  },
  {
   "cell_type": "markdown",
   "metadata": {},
   "source": [
    "## Normalize"
   ]
  },
  {
   "cell_type": "code",
   "execution_count": 42,
   "metadata": {},
   "outputs": [
    {
     "data": {
      "text/plain": [
       "(10000, 16, 5)"
      ]
     },
     "execution_count": 42,
     "metadata": {},
     "output_type": "execute_result"
    }
   ],
   "source": [
    "x_norm , scaler= normalize_axis(x_sample)\n",
    "x_norm.shape"
   ]
  },
  {
   "cell_type": "code",
   "execution_count": 125,
   "metadata": {},
   "outputs": [],
   "source": [
    "from keras.models import Model, Sequential\n",
    "from keras.layers.convolutional import Conv1D\n",
    "from keras.layers.pooling import MaxPooling1D\n",
    "from keras.layers.core import Dense, Dropout, Flatten, Reshape\n",
    "from keras.layers import Input, LSTM, UpSampling1D\n",
    "from keras.layers.merge import Concatenate\n",
    "from keras.models import Model\n",
    "from keras.layers import BatchNormalization, Activation\n",
    "import keras.backend as K\n",
    "\n",
    "def xy_ts_rnn_model(t, n_channels=2, n_classes=2, do_rate=0.3, reg=None, min_dim=128):\n",
    "    '''\n",
    "    Accepts X, Y time series as input, performs 1D convs with an LSTM layer and\n",
    "    classifies\n",
    "\n",
    "    Parameters\n",
    "    ----------\n",
    "    t : integer.\n",
    "        length of time series.\n",
    "    n_channels : integer.\n",
    "        number of channels in data.\n",
    "    n_classes : integer.\n",
    "        number of output classes.\n",
    "    reg : callable or None.\n",
    "        regularizer.\n",
    "\n",
    "    Returns\n",
    "    -------\n",
    "    model : keras model object.\n",
    "    '''\n",
    "\n",
    "    x = Input(shape=(t, n_channels))\n",
    "\n",
    "    cv1 = Conv1D(16, 3, padding='same', activation='relu', activity_regularizer=reg)(x)\n",
    "    cv2 = Conv1D(16, 3, padding='same', activation='relu', activity_regularizer=reg)(cv1)\n",
    "    cv3 = Conv1D(32, 3, padding='same', activation='relu', activity_regularizer=reg)(cv2)\n",
    "    cv4 = Conv1D(32, 3, padding='same', activation='relu', activity_regularizer=reg)(cv3)\n",
    "    p1 = MaxPooling1D(pool_size=2)(cv4)\n",
    "\n",
    "    lstm = LSTM(256, dropout=0.2, recurrent_dropout=0.2)(p1)\n",
    "\n",
    "    d1 = Dense(256, activation='relu')(lstm)\n",
    "    do1 = Dropout(rate=do_rate)(d1)\n",
    "    d2 = Dense(128, activation='relu')(do1)\n",
    "    do2 = Dropout(rate=do_rate)(d2)\n",
    "\n",
    "    classif = Dense(n_classes, activation='softmax')(do2)\n",
    "\n",
    "    model = Model(x, classif)\n",
    "\n",
    "    return model"
   ]
  },
  {
   "cell_type": "code",
   "execution_count": null,
   "metadata": {},
   "outputs": [],
   "source": [
    "le = LabelEncoder()\n",
    "y2treat = pd.Series(y_sample).map(wells_to_genetype_dict)\n",
    "y_lab = le.fit_transform(y2treat)\n",
    "y_lab"
   ]
  },
  {
   "cell_type": "code",
   "execution_count": 127,
   "metadata": {},
   "outputs": [],
   "source": [
    "model = xy_ts_rnn_model(t = 16, n_channels=2, n_classes=5, do_rate=0.5, reg=None, min_dim=128)"
   ]
  },
  {
   "cell_type": "code",
   "execution_count": 128,
   "metadata": {},
   "outputs": [],
   "source": [
    "model.compile(loss='sparse_categorical_crossentropy', optimizer='adam',metrics=['accuracy'])"
   ]
  },
  {
   "cell_type": "code",
   "execution_count": 131,
   "metadata": {},
   "outputs": [],
   "source": [
    "X_train,X_test,y_train,y_test = train_test_split(x_sample[:,:,:2], y_lab, test_size=0.3, random_state=42)"
   ]
  },
  {
   "cell_type": "code",
   "execution_count": 132,
   "metadata": {},
   "outputs": [
    {
     "data": {
      "text/plain": [
       "(7000, 16, 2)"
      ]
     },
     "execution_count": 132,
     "metadata": {},
     "output_type": "execute_result"
    }
   ],
   "source": [
    "X_train.shape"
   ]
  },
  {
   "cell_type": "code",
   "execution_count": 133,
   "metadata": {},
   "outputs": [
    {
     "data": {
      "text/plain": [
       "(7000,)"
      ]
     },
     "execution_count": 133,
     "metadata": {},
     "output_type": "execute_result"
    }
   ],
   "source": [
    "y_train.shape"
   ]
  },
  {
   "cell_type": "code",
   "execution_count": 134,
   "metadata": {},
   "outputs": [
    {
     "name": "stdout",
     "output_type": "stream",
     "text": [
      "Epoch 1/1000\n",
      "110/110 [==============================] - 5s 29ms/step - loss: 1.6148 - accuracy: 0.2060 - val_loss: 1.6081 - val_accuracy: 0.2163\n",
      "Epoch 2/1000\n",
      "110/110 [==============================] - 3s 28ms/step - loss: 1.6088 - accuracy: 0.2109 - val_loss: 1.6044 - val_accuracy: 0.2417\n",
      "Epoch 3/1000\n",
      "110/110 [==============================] - 3s 28ms/step - loss: 1.6044 - accuracy: 0.2276 - val_loss: 1.5964 - val_accuracy: 0.2310\n",
      "Epoch 4/1000\n",
      "110/110 [==============================] - 3s 30ms/step - loss: 1.5882 - accuracy: 0.2514 - val_loss: 1.5711 - val_accuracy: 0.2763\n",
      "Epoch 5/1000\n",
      "110/110 [==============================] - 3s 30ms/step - loss: 1.5707 - accuracy: 0.2754 - val_loss: 1.5536 - val_accuracy: 0.2930\n",
      "Epoch 6/1000\n",
      "110/110 [==============================] - 3s 28ms/step - loss: 1.5582 - accuracy: 0.2941 - val_loss: 1.5479 - val_accuracy: 0.3013\n",
      "Epoch 7/1000\n",
      "110/110 [==============================] - 3s 29ms/step - loss: 1.5278 - accuracy: 0.3177 - val_loss: 1.5155 - val_accuracy: 0.3230\n",
      "Epoch 8/1000\n",
      "110/110 [==============================] - 4s 34ms/step - loss: 1.5099 - accuracy: 0.3371 - val_loss: 1.4935 - val_accuracy: 0.3330\n",
      "Epoch 9/1000\n",
      "110/110 [==============================] - 4s 33ms/step - loss: 1.4802 - accuracy: 0.3489 - val_loss: 1.4939 - val_accuracy: 0.3297\n",
      "Epoch 10/1000\n",
      "110/110 [==============================] - 4s 34ms/step - loss: 1.4644 - accuracy: 0.3607 - val_loss: 1.4592 - val_accuracy: 0.3520\n",
      "Epoch 11/1000\n",
      "110/110 [==============================] - 4s 34ms/step - loss: 1.4376 - accuracy: 0.3731 - val_loss: 1.4495 - val_accuracy: 0.3477\n",
      "Epoch 12/1000\n",
      "110/110 [==============================] - 4s 34ms/step - loss: 1.4169 - accuracy: 0.3914 - val_loss: 1.4422 - val_accuracy: 0.3657\n",
      "Epoch 13/1000\n",
      "110/110 [==============================] - 4s 33ms/step - loss: 1.3977 - accuracy: 0.4009 - val_loss: 1.4455 - val_accuracy: 0.3633\n",
      "Epoch 14/1000\n",
      "110/110 [==============================] - 4s 33ms/step - loss: 1.3704 - accuracy: 0.4136 - val_loss: 1.4204 - val_accuracy: 0.3673\n",
      "Epoch 15/1000\n",
      "110/110 [==============================] - 4s 36ms/step - loss: 1.3516 - accuracy: 0.4236 - val_loss: 1.4094 - val_accuracy: 0.3767\n",
      "Epoch 16/1000\n",
      "110/110 [==============================] - 4s 34ms/step - loss: 1.3208 - accuracy: 0.4460 - val_loss: 1.4103 - val_accuracy: 0.3833\n",
      "Epoch 17/1000\n",
      "110/110 [==============================] - 4s 36ms/step - loss: 1.3054 - accuracy: 0.4554 - val_loss: 1.4095 - val_accuracy: 0.3907\n",
      "Epoch 18/1000\n",
      "110/110 [==============================] - 4s 36ms/step - loss: 1.2961 - accuracy: 0.4571 - val_loss: 1.4063 - val_accuracy: 0.3903\n",
      "Epoch 19/1000\n",
      "110/110 [==============================] - 4s 36ms/step - loss: 1.2788 - accuracy: 0.4666 - val_loss: 1.3924 - val_accuracy: 0.4113\n",
      "Epoch 20/1000\n",
      "110/110 [==============================] - 4s 36ms/step - loss: 1.2685 - accuracy: 0.4753 - val_loss: 1.4005 - val_accuracy: 0.3840\n",
      "Epoch 21/1000\n",
      "110/110 [==============================] - 4s 36ms/step - loss: 1.2399 - accuracy: 0.4847 - val_loss: 1.4429 - val_accuracy: 0.3923\n",
      "Epoch 22/1000\n",
      "110/110 [==============================] - 4s 35ms/step - loss: 1.2208 - accuracy: 0.4931 - val_loss: 1.4380 - val_accuracy: 0.3983\n",
      "Epoch 23/1000\n",
      "110/110 [==============================] - 4s 36ms/step - loss: 1.2100 - accuracy: 0.4996 - val_loss: 1.4054 - val_accuracy: 0.4000\n",
      "Epoch 24/1000\n",
      "110/110 [==============================] - 4s 37ms/step - loss: 1.1896 - accuracy: 0.5107 - val_loss: 1.4034 - val_accuracy: 0.4120\n",
      "Epoch 25/1000\n",
      "110/110 [==============================] - 4s 39ms/step - loss: 1.1859 - accuracy: 0.5053 - val_loss: 1.3923 - val_accuracy: 0.4187\n",
      "Epoch 26/1000\n",
      "110/110 [==============================] - 4s 37ms/step - loss: 1.1629 - accuracy: 0.5203 - val_loss: 1.4070 - val_accuracy: 0.4123\n",
      "Epoch 27/1000\n",
      "110/110 [==============================] - 4s 36ms/step - loss: 1.1514 - accuracy: 0.5263 - val_loss: 1.4456 - val_accuracy: 0.4003\n",
      "Epoch 28/1000\n",
      "110/110 [==============================] - 4s 38ms/step - loss: 1.1404 - accuracy: 0.5336 - val_loss: 1.4176 - val_accuracy: 0.4120\n",
      "Epoch 29/1000\n",
      "110/110 [==============================] - 4s 38ms/step - loss: 1.1348 - accuracy: 0.5291 - val_loss: 1.3831 - val_accuracy: 0.4130\n",
      "Epoch 30/1000\n",
      "110/110 [==============================] - 4s 39ms/step - loss: 1.1221 - accuracy: 0.5443 - val_loss: 1.4263 - val_accuracy: 0.4223\n",
      "Epoch 31/1000\n",
      "110/110 [==============================] - 4s 38ms/step - loss: 1.1000 - accuracy: 0.5416 - val_loss: 1.4118 - val_accuracy: 0.4170\n",
      "Epoch 32/1000\n",
      "110/110 [==============================] - 4s 39ms/step - loss: 1.0914 - accuracy: 0.5557 - val_loss: 1.4253 - val_accuracy: 0.4093\n",
      "Epoch 33/1000\n",
      "110/110 [==============================] - 4s 39ms/step - loss: 1.0771 - accuracy: 0.5623 - val_loss: 1.4891 - val_accuracy: 0.4230\n",
      "Epoch 34/1000\n",
      "110/110 [==============================] - 4s 38ms/step - loss: 1.0628 - accuracy: 0.5657 - val_loss: 1.4116 - val_accuracy: 0.4227\n",
      "Epoch 35/1000\n",
      "110/110 [==============================] - 4s 38ms/step - loss: 1.0567 - accuracy: 0.5734 - val_loss: 1.4698 - val_accuracy: 0.4070\n",
      "Epoch 36/1000\n",
      "110/110 [==============================] - 4s 38ms/step - loss: 1.0346 - accuracy: 0.5813 - val_loss: 1.4667 - val_accuracy: 0.4170\n",
      "Epoch 37/1000\n",
      "110/110 [==============================] - 4s 38ms/step - loss: 1.0307 - accuracy: 0.5801 - val_loss: 1.4768 - val_accuracy: 0.4170\n",
      "Epoch 38/1000\n",
      "110/110 [==============================] - 4s 38ms/step - loss: 1.0167 - accuracy: 0.5824 - val_loss: 1.4933 - val_accuracy: 0.4257\n",
      "Epoch 39/1000\n",
      "110/110 [==============================] - 4s 39ms/step - loss: 1.0019 - accuracy: 0.5884 - val_loss: 1.5076 - val_accuracy: 0.4283\n",
      "Epoch 40/1000\n",
      "110/110 [==============================] - 4s 38ms/step - loss: 0.9813 - accuracy: 0.5959 - val_loss: 1.4887 - val_accuracy: 0.4257\n",
      "Epoch 41/1000\n",
      "110/110 [==============================] - 4s 38ms/step - loss: 0.9697 - accuracy: 0.6049 - val_loss: 1.5056 - val_accuracy: 0.4153\n",
      "Epoch 42/1000\n",
      "110/110 [==============================] - 4s 39ms/step - loss: 0.9753 - accuracy: 0.6020 - val_loss: 1.5193 - val_accuracy: 0.4187\n",
      "Epoch 43/1000\n",
      "110/110 [==============================] - 4s 38ms/step - loss: 0.9586 - accuracy: 0.6084 - val_loss: 1.5903 - val_accuracy: 0.4167\n",
      "Epoch 44/1000\n",
      "110/110 [==============================] - 4s 38ms/step - loss: 0.9430 - accuracy: 0.6231 - val_loss: 1.5729 - val_accuracy: 0.4180\n",
      "Epoch 45/1000\n",
      "110/110 [==============================] - 4s 39ms/step - loss: 0.9237 - accuracy: 0.6243 - val_loss: 1.5981 - val_accuracy: 0.4120\n",
      "Epoch 46/1000\n",
      "110/110 [==============================] - 4s 38ms/step - loss: 0.9194 - accuracy: 0.6303 - val_loss: 1.5369 - val_accuracy: 0.4143\n",
      "Epoch 47/1000\n",
      "110/110 [==============================] - 4s 41ms/step - loss: 0.9062 - accuracy: 0.6351 - val_loss: 1.6463 - val_accuracy: 0.4273\n",
      "Epoch 48/1000\n",
      "110/110 [==============================] - 4s 38ms/step - loss: 0.8727 - accuracy: 0.6506 - val_loss: 1.6656 - val_accuracy: 0.4230\n",
      "Epoch 49/1000\n",
      "110/110 [==============================] - 4s 39ms/step - loss: 0.8800 - accuracy: 0.6587 - val_loss: 1.6517 - val_accuracy: 0.4233\n"
     ]
    },
    {
     "data": {
      "text/plain": [
       "<keras.callbacks.History at 0x143d2db0700>"
      ]
     },
     "execution_count": 134,
     "metadata": {},
     "output_type": "execute_result"
    }
   ],
   "source": [
    "batch_size = 64\n",
    "model.fit(\n",
    "    X_train, y_train,\n",
    "    batch_size=batch_size,\n",
    "    shuffle=True,\n",
    "    epochs=1000,\n",
    "    validation_data=(X_test, y_test),\n",
    "    callbacks=callbacks)"
   ]
  },
  {
   "cell_type": "code",
   "execution_count": 136,
   "metadata": {},
   "outputs": [
    {
     "data": {
      "text/plain": [
       "array([3, 4, 2, ..., 3, 3, 3], dtype=int64)"
      ]
     },
     "execution_count": 136,
     "metadata": {},
     "output_type": "execute_result"
    }
   ],
   "source": [
    "np.argmax(model.predict(X_test),axis=1)"
   ]
  },
  {
   "cell_type": "code",
   "execution_count": 135,
   "metadata": {},
   "outputs": [
    {
     "ename": "TypeError",
     "evalue": "only size-1 arrays can be converted to Python scalars",
     "output_type": "error",
     "traceback": [
      "\u001b[1;31m---------------------------------------------------------------------------\u001b[0m",
      "\u001b[1;31mTypeError\u001b[0m                                 Traceback (most recent call last)",
      "\u001b[1;32mc:\\Projects\\TAU\\DL-Workshop\\Git Folder\\DL-WORKSHOP\\Submission\\Clustering\\Classification.ipynb Cell 23\u001b[0m in \u001b[0;36m<cell line: 1>\u001b[1;34m()\u001b[0m\n\u001b[1;32m----> <a href='vscode-notebook-cell:/c%3A/Projects/TAU/DL-Workshop/Git%20Folder/DL-WORKSHOP/Submission/Clustering/Classification.ipynb#X50sZmlsZQ%3D%3D?line=0'>1</a>\u001b[0m y_pred \u001b[39m=\u001b[39m \u001b[39mint\u001b[39;49m(np\u001b[39m.\u001b[39;49mmax(model\u001b[39m.\u001b[39;49mpredict(X_test),axis\u001b[39m=\u001b[39;49m\u001b[39m1\u001b[39;49m))\n\u001b[0;32m      <a href='vscode-notebook-cell:/c%3A/Projects/TAU/DL-Workshop/Git%20Folder/DL-WORKSHOP/Submission/Clustering/Classification.ipynb#X50sZmlsZQ%3D%3D?line=1'>2</a>\u001b[0m y_pred\n",
      "\u001b[1;31mTypeError\u001b[0m: only size-1 arrays can be converted to Python scalars"
     ]
    }
   ],
   "source": [
    "y_pred = np.argmax(model.predict(X_test),axis=1)\n",
    "y_pred"
   ]
  },
  {
   "cell_type": "code",
   "execution_count": 118,
   "metadata": {},
   "outputs": [
    {
     "data": {
      "text/plain": [
       "<AxesSubplot:>"
      ]
     },
     "execution_count": 118,
     "metadata": {},
     "output_type": "execute_result"
    },
    {
     "data": {
      "image/png": "[encoded data removed]",
      "text/plain": [
       "<Figure size 640x480 with 1 Axes>"
      ]
     },
     "metadata": {},
     "output_type": "display_data"
    }
   ],
   "source": [
    "pd.Series(np.max(model.predict(X_test),axis=1)).hist()"
   ]
  },
  {
   "cell_type": "code",
   "execution_count": null,
   "metadata": {},
   "outputs": [],
   "source": []
  }
 ],
 "metadata": {
  "kernelspec": {
   "display_name": "Python 3.9.13 ('dl_work_mod': venv)",
   "language": "python",
   "name": "python3"
  },
  "language_info": {
   "codemirror_mode": {
    "name": "ipython",
    "version": 3
   },
   "file_extension": ".py",
   "mimetype": "text/x-python",
   "name": "python",
   "nbconvert_exporter": "python",
   "pygments_lexer": "ipython3",
   "version": "3.9.13"
  },
  "orig_nbformat": 4,
  "vscode": {
   "interpreter": {
    "hash": "c034c402205727166c9c9dd79643745cea02dc6588a665f44be427a01cecf0b0"
   }
  }
 },
 "nbformat": 4,
 "nbformat_minor": 2
}
