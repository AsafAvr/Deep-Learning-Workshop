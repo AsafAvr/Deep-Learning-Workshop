{
 "cells": [
  {
   "cell_type": "markdown",
   "metadata": {},
   "source": [
    "# Classification"
   ]
  },
  {
   "cell_type": "code",
   "execution_count": 2,
   "metadata": {},
   "outputs": [],
   "source": [
    "import numpy as np\n",
    "import pandas as pd\n",
    "from sklearn.preprocessing import StandardScaler, LabelEncoder\n",
    "from scipy import stats\n",
    "from preprocessing import *\n",
    "from config import *\n",
    "import matplotlib.pyplot as plt\n",
    "from sklearn.model_selection import train_test_split\n",
    "from keras.callbacks import EarlyStopping\n",
    "plt.style.use(\"fivethirtyeight\")\n",
    "np.random.seed(42)"
   ]
  },
  {
   "cell_type": "markdown",
   "metadata": {},
   "source": [
    "## Load data"
   ]
  },
  {
   "cell_type": "code",
   "execution_count": 3,
   "metadata": {},
   "outputs": [],
   "source": [
    "track_length = 16"
   ]
  },
  {
   "cell_type": "code",
   "execution_count": 4,
   "metadata": {},
   "outputs": [
    {
     "name": "stdout",
     "output_type": "stream",
     "text": [
      "(29808, 16, 5) (29808,)\n"
     ]
    }
   ],
   "source": [
    "y = np.load(rf'data_files\\labels_All{track_length}.npy')\n",
    "x = np.load(rf'data_files\\features_All{track_length}.npy')\n",
    "print(x.shape, y.shape)"
   ]
  },
  {
   "cell_type": "code",
   "execution_count": 5,
   "metadata": {},
   "outputs": [],
   "source": [
    "y2treat = pd.Series(y).map(wells_to_genetype_dict)\n",
    "y2treat = pd.DataFrame(y2treat)"
   ]
  },
  {
   "cell_type": "code",
   "execution_count": 6,
   "metadata": {},
   "outputs": [
    {
     "data": {
      "text/plain": [
       "<AxesSubplot:xlabel='0'>"
      ]
     },
     "execution_count": 6,
     "metadata": {},
     "output_type": "execute_result"
    },
    {
     "data": {
      "image/png": "[encoded data removed]",
      "text/plain": [
       "<Figure size 640x480 with 1 Axes>"
      ]
     },
     "metadata": {},
     "output_type": "display_data"
    }
   ],
   "source": [
    "y2treat.value_counts().plot.bar()"
   ]
  },
  {
   "cell_type": "code",
   "execution_count": 7,
   "metadata": {},
   "outputs": [
    {
     "data": {
      "text/plain": [
       "2017"
      ]
     },
     "execution_count": 7,
     "metadata": {},
     "output_type": "execute_result"
    }
   ],
   "source": [
    "y2treat.groupby(0).size().min()"
   ]
  },
  {
   "cell_type": "code",
   "execution_count": 11,
   "metadata": {},
   "outputs": [
    {
     "data": {
      "text/plain": [
       "(10000, 1)"
      ]
     },
     "execution_count": 11,
     "metadata": {},
     "output_type": "execute_result"
    }
   ],
   "source": [
    "y_treat_sample = y2treat.groupby(0).sample(2000)\n",
    "y_treat_sample.shape"
   ]
  },
  {
   "cell_type": "code",
   "execution_count": 12,
   "metadata": {},
   "outputs": [
    {
     "data": {
      "text/plain": [
       "(10000,)"
      ]
     },
     "execution_count": 12,
     "metadata": {},
     "output_type": "execute_result"
    }
   ],
   "source": [
    "y_sample = y[y_treat_sample.index.values]\n",
    "y_sample.shape"
   ]
  },
  {
   "cell_type": "code",
   "execution_count": 13,
   "metadata": {},
   "outputs": [
    {
     "data": {
      "text/plain": [
       "(10000, 16, 5)"
      ]
     },
     "execution_count": 13,
     "metadata": {},
     "output_type": "execute_result"
    }
   ],
   "source": [
    "x_sample = x[y_treat_sample.index.values]\n",
    "x_sample.shape"
   ]
  },
  {
   "cell_type": "code",
   "execution_count": 14,
   "metadata": {},
   "outputs": [],
   "source": [
    "np.save('x_balanced_sample_16.npy',x_sample)\n",
    "np.save('y_balanced_sample_16.npy',y_sample)"
   ]
  },
  {
   "cell_type": "markdown",
   "metadata": {},
   "source": [
    "## Normalize"
   ]
  },
  {
   "cell_type": "code",
   "execution_count": 15,
   "metadata": {},
   "outputs": [
    {
     "data": {
      "text/plain": [
       "(10000, 16, 5)"
      ]
     },
     "execution_count": 15,
     "metadata": {},
     "output_type": "execute_result"
    }
   ],
   "source": [
    "x_norm , scaler= normalize_axis(x_sample)\n",
    "x_norm.shape"
   ]
  },
  {
   "cell_type": "code",
   "execution_count": 30,
   "metadata": {},
   "outputs": [],
   "source": [
    "from keras.models import Model, Sequential\n",
    "from keras.layers.convolutional import Conv1D\n",
    "from keras.layers.pooling import MaxPooling1D\n",
    "from keras.layers.core import Dense, Dropout, Flatten, Reshape\n",
    "from keras.layers import Input, LSTM, UpSampling1D\n",
    "from keras.layers.merge import Concatenate\n",
    "from keras.models import Model\n",
    "from keras.layers import BatchNormalization, Activation\n",
    "import keras.backend as K\n",
    "\n",
    "def xy_ts_rnn_model(t, n_channels=2, n_classes=2, do_rate=0.3, reg=None, min_dim=128):\n",
    "    '''\n",
    "    Accepts X, Y time series as input, performs 1D convs with an LSTM layer and\n",
    "    classifies\n",
    "\n",
    "    Parameters\n",
    "    ----------\n",
    "    t : integer.\n",
    "        length of time series.\n",
    "    n_channels : integer.\n",
    "        number of channels in data.\n",
    "    n_classes : integer.\n",
    "        number of output classes.\n",
    "    reg : callable or None.\n",
    "        regularizer.\n",
    "\n",
    "    Returns\n",
    "    -------\n",
    "    model : keras model object.\n",
    "    '''\n",
    "\n",
    "    x = Input(shape=(t, n_channels))\n",
    "\n",
    "    cv1 = Conv1D(16, 3, padding='same', activation='relu', activity_regularizer=reg)(x)\n",
    "    cv2 = Conv1D(16, 3, padding='same', activation='relu', activity_regularizer=reg)(cv1)\n",
    "    cv3 = Conv1D(32, 3, padding='same', activation='relu', activity_regularizer=reg)(cv2)\n",
    "    cv4 = Conv1D(32, 3, padding='same', activation='relu', activity_regularizer=reg)(cv3)\n",
    "    p1 = MaxPooling1D(pool_size=2)(cv4)\n",
    "\n",
    "    lstm = LSTM(min_dim, dropout=0.2, recurrent_dropout=0.2)(p1)\n",
    "\n",
    "    d1 = Dense(min_dim, activation='relu')(lstm)\n",
    "    do1 = Dropout(rate=do_rate)(d1)\n",
    "    d2 = Dense(min_dim//2, activation='relu')(do1)\n",
    "    do2 = Dropout(rate=do_rate)(d2)\n",
    "\n",
    "    classif = Dense(n_classes, activation='softmax')(do2)\n",
    "\n",
    "    model = Model(x, classif)\n",
    "\n",
    "    return model"
   ]
  },
  {
   "cell_type": "code",
   "execution_count": 17,
   "metadata": {},
   "outputs": [
    {
     "data": {
      "text/plain": [
       "array([0, 0, 0, ..., 4, 4, 4])"
      ]
     },
     "execution_count": 17,
     "metadata": {},
     "output_type": "execute_result"
    }
   ],
   "source": [
    "le = LabelEncoder()\n",
    "y2treat = pd.Series(y_sample).map(wells_to_genetype_dict)\n",
    "y_lab = le.fit_transform(y2treat)\n",
    "y_lab"
   ]
  },
  {
   "cell_type": "code",
   "execution_count": 65,
   "metadata": {},
   "outputs": [],
   "source": [
    "model = xy_ts_rnn_model(t = 16, n_channels=2, n_classes=5, do_rate=0.5, reg=None, min_dim=256)"
   ]
  },
  {
   "cell_type": "code",
   "execution_count": 66,
   "metadata": {},
   "outputs": [],
   "source": [
    "model.compile(loss='sparse_categorical_crossentropy', optimizer='adam',metrics=['accuracy'])"
   ]
  },
  {
   "cell_type": "code",
   "execution_count": 67,
   "metadata": {},
   "outputs": [],
   "source": [
    "callbacks = [EarlyStopping(patience=10, monitor='val_loss')]"
   ]
  },
  {
   "cell_type": "code",
   "execution_count": 72,
   "metadata": {},
   "outputs": [],
   "source": [
    "X_train,X_test,y_train,y_test = train_test_split(x_norm[:,:,:2], y_lab, test_size=0.3, random_state=42)"
   ]
  },
  {
   "cell_type": "code",
   "execution_count": 69,
   "metadata": {},
   "outputs": [
    {
     "data": {
      "text/plain": [
       "(7000, 16, 2)"
      ]
     },
     "execution_count": 69,
     "metadata": {},
     "output_type": "execute_result"
    }
   ],
   "source": [
    "X_train.shape"
   ]
  },
  {
   "cell_type": "code",
   "execution_count": 70,
   "metadata": {},
   "outputs": [
    {
     "data": {
      "text/plain": [
       "(7000,)"
      ]
     },
     "execution_count": 70,
     "metadata": {},
     "output_type": "execute_result"
    }
   ],
   "source": [
    "y_train.shape"
   ]
  },
  {
   "cell_type": "code",
   "execution_count": 73,
   "metadata": {},
   "outputs": [
    {
     "name": "stdout",
     "output_type": "stream",
     "text": [
      "Epoch 1/1000\n",
      "110/110 [==============================] - 3s 27ms/step - loss: 1.6334 - accuracy: 0.1994 - val_loss: 1.6101 - val_accuracy: 0.1963\n",
      "Epoch 2/1000\n",
      "110/110 [==============================] - 3s 26ms/step - loss: 1.6101 - accuracy: 0.2061 - val_loss: 1.6092 - val_accuracy: 0.1960\n",
      "Epoch 3/1000\n",
      "110/110 [==============================] - 3s 27ms/step - loss: 1.6096 - accuracy: 0.1989 - val_loss: 1.6090 - val_accuracy: 0.2010\n",
      "Epoch 4/1000\n",
      "110/110 [==============================] - 3s 28ms/step - loss: 1.6090 - accuracy: 0.2104 - val_loss: 1.6081 - val_accuracy: 0.2010\n",
      "Epoch 5/1000\n",
      "110/110 [==============================] - 3s 29ms/step - loss: 1.6065 - accuracy: 0.2240 - val_loss: 1.6042 - val_accuracy: 0.2283\n",
      "Epoch 6/1000\n",
      "110/110 [==============================] - 3s 27ms/step - loss: 1.5879 - accuracy: 0.2633 - val_loss: 1.5711 - val_accuracy: 0.2620\n",
      "Epoch 7/1000\n",
      "110/110 [==============================] - 3s 28ms/step - loss: 1.5180 - accuracy: 0.3293 - val_loss: 1.5062 - val_accuracy: 0.3133\n",
      "Epoch 8/1000\n",
      "110/110 [==============================] - 3s 28ms/step - loss: 1.4550 - accuracy: 0.3629 - val_loss: 1.4371 - val_accuracy: 0.3757\n",
      "Epoch 9/1000\n",
      "110/110 [==============================] - 3s 27ms/step - loss: 1.4006 - accuracy: 0.4049 - val_loss: 1.4073 - val_accuracy: 0.3740\n",
      "Epoch 10/1000\n",
      "110/110 [==============================] - 3s 28ms/step - loss: 1.3731 - accuracy: 0.4133 - val_loss: 1.4093 - val_accuracy: 0.3710\n",
      "Epoch 11/1000\n",
      "110/110 [==============================] - 3s 26ms/step - loss: 1.3552 - accuracy: 0.4274 - val_loss: 1.4408 - val_accuracy: 0.3593\n",
      "Epoch 12/1000\n",
      "110/110 [==============================] - 3s 27ms/step - loss: 1.3232 - accuracy: 0.4417 - val_loss: 1.4031 - val_accuracy: 0.3847\n",
      "Epoch 13/1000\n",
      "110/110 [==============================] - 3s 28ms/step - loss: 1.3076 - accuracy: 0.4423 - val_loss: 1.4007 - val_accuracy: 0.3787\n",
      "Epoch 14/1000\n",
      "110/110 [==============================] - 3s 31ms/step - loss: 1.3029 - accuracy: 0.4571 - val_loss: 1.3876 - val_accuracy: 0.3923\n",
      "Epoch 15/1000\n",
      "110/110 [==============================] - 4s 32ms/step - loss: 1.2704 - accuracy: 0.4637 - val_loss: 1.3982 - val_accuracy: 0.3797\n",
      "Epoch 16/1000\n",
      "110/110 [==============================] - 3s 31ms/step - loss: 1.2822 - accuracy: 0.4704 - val_loss: 1.3921 - val_accuracy: 0.3933\n",
      "Epoch 17/1000\n",
      "110/110 [==============================] - 3s 30ms/step - loss: 1.2571 - accuracy: 0.4801 - val_loss: 1.5052 - val_accuracy: 0.3773\n",
      "Epoch 18/1000\n",
      "110/110 [==============================] - 4s 33ms/step - loss: 1.2575 - accuracy: 0.4816 - val_loss: 1.4025 - val_accuracy: 0.3823\n",
      "Epoch 19/1000\n",
      "110/110 [==============================] - 4s 32ms/step - loss: 1.2366 - accuracy: 0.4857 - val_loss: 1.3994 - val_accuracy: 0.3970\n",
      "Epoch 20/1000\n",
      "110/110 [==============================] - 3s 31ms/step - loss: 1.2080 - accuracy: 0.5017 - val_loss: 1.3871 - val_accuracy: 0.4100\n",
      "Epoch 21/1000\n",
      "110/110 [==============================] - 3s 32ms/step - loss: 1.2161 - accuracy: 0.4987 - val_loss: 1.3939 - val_accuracy: 0.4020\n",
      "Epoch 22/1000\n",
      "110/110 [==============================] - 4s 33ms/step - loss: 1.2031 - accuracy: 0.5067 - val_loss: 1.4055 - val_accuracy: 0.4027\n",
      "Epoch 23/1000\n",
      "110/110 [==============================] - 4s 37ms/step - loss: 1.1865 - accuracy: 0.5141 - val_loss: 1.3982 - val_accuracy: 0.4030\n",
      "Epoch 24/1000\n",
      "110/110 [==============================] - 4s 36ms/step - loss: 1.1730 - accuracy: 0.5177 - val_loss: 1.3898 - val_accuracy: 0.4017\n",
      "Epoch 25/1000\n",
      "110/110 [==============================] - 4s 32ms/step - loss: 1.1724 - accuracy: 0.5151 - val_loss: 1.3942 - val_accuracy: 0.4010\n",
      "Epoch 26/1000\n",
      "110/110 [==============================] - 4s 35ms/step - loss: 1.1645 - accuracy: 0.5271 - val_loss: 1.4244 - val_accuracy: 0.3950\n",
      "Epoch 27/1000\n",
      "110/110 [==============================] - 4s 34ms/step - loss: 1.1470 - accuracy: 0.5344 - val_loss: 1.3975 - val_accuracy: 0.3897\n",
      "Epoch 28/1000\n",
      "110/110 [==============================] - 4s 33ms/step - loss: 1.1512 - accuracy: 0.5267 - val_loss: 1.4002 - val_accuracy: 0.4007\n",
      "Epoch 29/1000\n",
      "110/110 [==============================] - 4s 34ms/step - loss: 1.1368 - accuracy: 0.5397 - val_loss: 1.4120 - val_accuracy: 0.3980\n",
      "Epoch 30/1000\n",
      "110/110 [==============================] - 4s 37ms/step - loss: 1.1394 - accuracy: 0.5359 - val_loss: 1.4055 - val_accuracy: 0.4017\n"
     ]
    },
    {
     "data": {
      "text/plain": [
       "<keras.callbacks.History at 0x1ab55c31460>"
      ]
     },
     "execution_count": 73,
     "metadata": {},
     "output_type": "execute_result"
    }
   ],
   "source": [
    "batch_size = 64\n",
    "model.fit(\n",
    "    X_train, y_train,\n",
    "    batch_size=batch_size,\n",
    "    shuffle=True,\n",
    "    epochs=1000,\n",
    "    validation_data=(X_test, y_test),\n",
    "    callbacks=callbacks)"
   ]
  },
  {
   "cell_type": "code",
   "execution_count": 48,
   "metadata": {},
   "outputs": [
    {
     "data": {
      "text/plain": [
       "array([1, 3, 2, ..., 0, 3, 1], dtype=int64)"
      ]
     },
     "execution_count": 48,
     "metadata": {},
     "output_type": "execute_result"
    }
   ],
   "source": [
    "y_pred = np.argmax(model.predict(X_test),axis=1)\n",
    "y_pred"
   ]
  },
  {
   "cell_type": "code",
   "execution_count": 54,
   "metadata": {},
   "outputs": [
    {
     "data": {
      "text/plain": [
       "(1073,)"
      ]
     },
     "execution_count": 54,
     "metadata": {},
     "output_type": "execute_result"
    }
   ],
   "source": [
    "idx_True = np.where(y_test == y_pred)[0]\n",
    "idx_True.shape"
   ]
  },
  {
   "cell_type": "code",
   "execution_count": 57,
   "metadata": {},
   "outputs": [],
   "source": [
    "X_true = X_test[idx_True]"
   ]
  },
  {
   "cell_type": "code",
   "execution_count": 59,
   "metadata": {},
   "outputs": [
    {
     "data": {
      "text/plain": [
       "array([0.46245164, 0.26113105, 0.25382185, ..., 0.33869025, 0.3015187 ,\n",
       "       0.67433363], dtype=float32)"
      ]
     },
     "execution_count": 59,
     "metadata": {},
     "output_type": "execute_result"
    }
   ],
   "source": [
    "y_true_conf = np.max(model.predict(X_true),axis=1)\n"
   ]
  },
  {
   "cell_type": "code",
   "execution_count": 60,
   "metadata": {},
   "outputs": [
    {
     "data": {
      "text/plain": [
       "<AxesSubplot:>"
      ]
     },
     "execution_count": 60,
     "metadata": {},
     "output_type": "execute_result"
    },
    {
     "data": {
      "image/png": "[encoded data removed]",
      "text/plain": [
       "<Figure size 640x480 with 1 Axes>"
      ]
     },
     "metadata": {},
     "output_type": "display_data"
    }
   ],
   "source": [
    "pd.Series(y_true_conf).hist()"
   ]
  },
  {
   "cell_type": "code",
   "execution_count": 62,
   "metadata": {},
   "outputs": [
    {
     "data": {
      "text/plain": [
       "339"
      ]
     },
     "execution_count": 62,
     "metadata": {},
     "output_type": "execute_result"
    }
   ],
   "source": [
    "len(y_true_conf[y_true_conf>0.5])"
   ]
  },
  {
   "cell_type": "code",
   "execution_count": null,
   "metadata": {},
   "outputs": [],
   "source": []
  }
 ],
 "metadata": {
  "kernelspec": {
   "display_name": "Python 3.9.13 ('dl_work_mod': venv)",
   "language": "python",
   "name": "python3"
  },
  "language_info": {
   "codemirror_mode": {
    "name": "ipython",
    "version": 3
   },
   "file_extension": ".py",
   "mimetype": "text/x-python",
   "name": "python",
   "nbconvert_exporter": "python",
   "pygments_lexer": "ipython3",
   "version": "3.9.13"
  },
  "orig_nbformat": 4,
  "vscode": {
   "interpreter": {
    "hash": "c034c402205727166c9c9dd79643745cea02dc6588a665f44be427a01cecf0b0"
   }
  }
 },
 "nbformat": 4,
 "nbformat_minor": 2
}
