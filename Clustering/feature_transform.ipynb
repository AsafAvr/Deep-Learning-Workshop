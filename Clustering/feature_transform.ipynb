{
 "cells": [
  {
   "cell_type": "code",
   "execution_count": 1,
   "metadata": {},
   "outputs": [],
   "source": [
    "import pandas as pd\n",
    "import numpy as np\n",
    "import re\n",
    "import os\n",
    "from glob import glob\n",
    "PATH = '../Tracking_All'\n",
    "EXT = \"*.csv\""
   ]
  },
  {
   "cell_type": "markdown",
   "metadata": {},
   "source": [
    "## data -> [X,Y,area,major,minor]"
   ]
  },
  {
   "cell_type": "code",
   "execution_count": 3,
   "metadata": {},
   "outputs": [
    {
     "name": "stdout",
     "output_type": "stream",
     "text": [
      "4600 4600\n"
     ]
    }
   ],
   "source": [
    "X = np.load('../npy_files/features_All32.npy')\n",
    "y = np.load('../npy_files/labels_All32.npy')\n",
    "types = np.load('../npy_files/celltypes_All32.npy')\n",
    "y_letter = np.array([well[:1] for well in y])\n",
    "from sklearn import preprocessing\n",
    "le = preprocessing.LabelEncoder()\n",
    "labs = le.fit_transform(y)\n",
    "labs_by_letter = le.fit_transform(y_letter)\n",
    "print(len(X),len(y))\n",
    "X_train, y_train = X, labs"
   ]
  },
  {
   "cell_type": "markdown",
   "metadata": {},
   "source": [
    "### Ellipticity"
   ]
  },
  {
   "cell_type": "code",
   "execution_count": 45,
   "metadata": {},
   "outputs": [
    {
     "data": {
      "text/plain": [
       "(4600, 32)"
      ]
     },
     "execution_count": 45,
     "metadata": {},
     "output_type": "execute_result"
    }
   ],
   "source": [
    "def spheroid(long_sq,short_sq):\n",
    "    return np.sqrt((long_sq-short_sq)/long_sq)\n",
    "def elip(majorminor):\n",
    "    maj_sq = majorminor[0]**2\n",
    "    min_sq = majorminor[1]**2\n",
    "    return spheroid(maj_sq,min_sq) if maj_sq>min_sq else spheroid(min_sq,maj_sq)\n",
    "\n",
    "ellipticity = np.apply_along_axis(elip, 2, X_train[:,:,3:5])\n",
    "ellipticity.shape"
   ]
  },
  {
   "cell_type": "markdown",
   "metadata": {},
   "source": [
    "## step size"
   ]
  },
  {
   "cell_type": "code",
   "execution_count": 46,
   "metadata": {},
   "outputs": [
    {
     "data": {
      "text/plain": [
       "(4600, 32)"
      ]
     },
     "execution_count": 46,
     "metadata": {},
     "output_type": "execute_result"
    }
   ],
   "source": [
    "d = np.diff(X_train[:,:,:2],axis=1,prepend=0)\n",
    "step_size = np.sqrt(np.power(d,2).sum(axis=2))\n",
    "step_size.shape"
   ]
  },
  {
   "cell_type": "markdown",
   "metadata": {},
   "source": [
    "## angle of movement"
   ]
  },
  {
   "cell_type": "code",
   "execution_count": 67,
   "metadata": {},
   "outputs": [
    {
     "data": {
      "text/plain": [
       "(4600, 32)"
      ]
     },
     "execution_count": 67,
     "metadata": {},
     "output_type": "execute_result"
    }
   ],
   "source": [
    "def getAngleRad(diffs):\n",
    "  return np.arctan2(diffs[1], diffs[0])\n",
    "\n",
    "d = np.diff(X_train[:,:,:2],axis=1,prepend=0)\n",
    "angles_of_step = np.apply_along_axis(getAngleRad, 2, d)\n",
    "angles_of_step.shape"
   ]
  },
  {
   "cell_type": "code",
   "execution_count": 68,
   "metadata": {},
   "outputs": [
    {
     "data": {
      "text/plain": [
       "array([ 0.        , -3.00987842, -1.12923543, -0.40969072,  1.20597319,\n",
       "       -0.02276494,  1.52632677, -0.48320219,  0.83398422,  1.63549678,\n",
       "       -0.88792091,  2.85377003, -0.17551316,  2.97570814,  2.69177388,\n",
       "        1.26294912, -2.84605946,  1.08439393, -0.68940841, -1.56675927,\n",
       "       -2.4120934 , -0.09711885,  0.18281433, -3.06148952,  3.02897935,\n",
       "        1.41443126, -3.06489046,  2.29363454,  1.02146026,  2.454647  ,\n",
       "       -0.71825304, -2.98287973])"
      ]
     },
     "execution_count": 68,
     "metadata": {},
     "output_type": "execute_result"
    }
   ],
   "source": [
    "angles_of_step[0]"
   ]
  },
  {
   "cell_type": "markdown",
   "metadata": {},
   "source": [
    "## angle from center"
   ]
  },
  {
   "cell_type": "code",
   "execution_count": 62,
   "metadata": {},
   "outputs": [
    {
     "data": {
      "text/plain": [
       "(4600, 32)"
      ]
     },
     "execution_count": 62,
     "metadata": {},
     "output_type": "execute_result"
    }
   ],
   "source": [
    "def getAngleRadZero(xy):\n",
    "  return np.arctan2(xy[1]-0, xy[0]-0)\n",
    "\n",
    "angles_from_center = np.apply_along_axis(getAngleRad, 2, d)\n",
    "angles_from_center.shape"
   ]
  },
  {
   "cell_type": "code",
   "execution_count": 66,
   "metadata": {},
   "outputs": [
    {
     "data": {
      "text/plain": [
       "array([ 0.        , -3.00987842, -1.12923543, -0.40969072,  1.20597319,\n",
       "       -0.02276494,  1.52632677, -0.48320219,  0.83398422,  1.63549678,\n",
       "       -0.88792091,  2.85377003, -0.17551316,  2.97570814,  2.69177388,\n",
       "        1.26294912, -2.84605946,  1.08439393, -0.68940841, -1.56675927,\n",
       "       -2.4120934 , -0.09711885,  0.18281433, -3.06148952,  3.02897935,\n",
       "        1.41443126, -3.06489046,  2.29363454,  1.02146026,  2.454647  ,\n",
       "       -0.71825304, -2.98287973])"
      ]
     },
     "execution_count": 66,
     "metadata": {},
     "output_type": "execute_result"
    }
   ],
   "source": [
    "angles_from_center[0]"
   ]
  }
 ],
 "metadata": {
  "kernelspec": {
   "display_name": "Python 3.8.9 64-bit",
   "language": "python",
   "name": "python3"
  },
  "language_info": {
   "codemirror_mode": {
    "name": "ipython",
    "version": 3
   },
   "file_extension": ".py",
   "mimetype": "text/x-python",
   "name": "python",
   "nbconvert_exporter": "python",
   "pygments_lexer": "ipython3",
   "version": "3.8.9"
  },
  "orig_nbformat": 4,
  "vscode": {
   "interpreter": {
    "hash": "31f2aee4e71d21fbe5cf8b01ff0e069b9275f58929596ceb00d14d90e3e16cd6"
   }
  }
 },
 "nbformat": 4,
 "nbformat_minor": 2
}
