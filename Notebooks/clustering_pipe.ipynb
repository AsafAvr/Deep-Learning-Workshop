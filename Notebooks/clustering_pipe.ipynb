{
 "cells": [
  {
   "cell_type": "code",
   "execution_count": 15,
   "metadata": {},
   "outputs": [],
   "source": [
    "import pandas as pd\n",
    "import numpy as np\n",
    "import re\n",
    "import os\n",
    "from glob import glob\n",
    "PATH = '../../Results'\n",
    "EXT = \"*.csv\""
   ]
  },
  {
   "cell_type": "markdown",
   "metadata": {},
   "source": [
    "# final pipeline for all features in all results"
   ]
  },
  {
   "cell_type": "code",
   "execution_count": 16,
   "metadata": {},
   "outputs": [],
   "source": [
    "nan = np.nan\n",
    "def using_clump(a):\n",
    "    return [a[s] for s in np.ma.clump_unmasked(np.ma.masked_where(a.astype(str)==str(np.nan),a))]\n",
    "def centroids_zero_center(tracks_arr):\n",
    "    for centroids_arr in tracks_arr:\n",
    "        centroids_arr-=centroids_arr[0]\n",
    "    return tracks_arr\n",
    "numeric_const_pattern = '[-+]? (?: (?: \\d* \\. \\d+ ) | (?: \\d+ \\.? ) )(?: [Ee] [+-]? \\d+ ) ?'\n",
    "rx = re.compile(numeric_const_pattern, re.VERBOSE)\n",
    "def str_array_to_float(arr_of_arr_of_str):\n",
    "    final_mat = []\n",
    "    for arr_of_arr in arr_of_arr_of_str:\n",
    "        float_ts = []\n",
    "        for str in arr_of_arr:\n",
    "            float_arr = [float(i) for i in rx.findall(str)]\n",
    "            if(len(float_arr)>=2):\n",
    "                float_ts.append(float_arr)\n",
    "        if(len(float_ts)>=1):\n",
    "            final_mat.append(float_ts)\n",
    "    return np.array(final_mat,dtype=object)\n",
    "def get_lens(tracks):\n",
    "    return pd.Series([len(trk) for trk in tracks]).value_counts()\n",
    "def get_feature_index(feature_type,features):\n",
    "    for idx,fet in enumerate(features):\n",
    "        if fet in feature_type:\n",
    "            return idx\n",
    "    return 0\n",
    "def cut_feture_vecs_and_preprocess(tracks,feature_type,ts_len,cut_longer_ts=False):\n",
    "    if(cut_longer_ts):\n",
    "        track_cut = np.array([trk[:ts_len] for trk in tracks if len(trk)>=ts_len])\n",
    "    else:\n",
    "        tracks_cut = np.array([trk for trk in tracks if len(trk)==ts_len])\n",
    "    if 'centroids' in feature_type:\n",
    "        track_cut = centroids_zero_center(track_cut)\n",
    "    return track_cut\n",
    "def save(tracks_final,well_name):\n",
    "    np.save('../npy_files/'+well_name+'.npy',tracks_final)"
   ]
  },
  {
   "cell_type": "code",
   "execution_count": 24,
   "metadata": {},
   "outputs": [],
   "source": [
    "def from_results_folder_PATH_to_arrays(features=['centroids','morphologies','embeddings'],ts_len=10,cut_longer_ts=False,save=False,name_ext=\"\"):\n",
    "    all_tracks = []\n",
    "    wells = []\n",
    "    all_paths = [path for path, subdir, files in os.walk(PATH)]\n",
    "    for path in all_paths:\n",
    "        feature_vecs_cut = []\n",
    "        all_files = [file for file in glob(os.path.join(path, EXT))]\n",
    "        if(len(all_files)<1):\n",
    "            continue\n",
    "        for file in all_files:\n",
    "            file_name = file.split('_')\n",
    "            well_name = file_name[1]\n",
    "            feature_type = file_name[-1]\n",
    "            if(not any(fet in feature_type for fet in features)):\n",
    "                continue\n",
    "            df_str = pd.read_csv(file,index_col=[0])\n",
    "            splitted = []\n",
    "            for cell_id, series in df_str.iterrows():\n",
    "                tracks = np.array(using_clump(np.array(series)),dtype=object)\n",
    "                for tr in tracks:\n",
    "                    splitted.append(tr)\n",
    "            tracks_str = np.array(splitted,dtype=object) \n",
    "            #print(\"tracks_str shape: \",tracks_str.shape)\n",
    "            tracks = str_array_to_float(tracks_str)\n",
    "            tracks_cut = cut_feture_vecs_and_preprocess(tracks,feature_type,ts_len,cut_longer_ts)\n",
    "            feature_vecs_cut.append(tracks_cut)\n",
    "        feature_vecs_cut = np.dstack(feature_vecs_cut)\n",
    "        if(len(feature_vecs_cut[0])>0):\n",
    "            print(feature_vecs_cut.shape)\n",
    "            all_tracks.append(feature_vecs_cut)\n",
    "            wells.append(well_name)\n",
    "    #return all_tracks,wells\n",
    "    labels = []\n",
    "    for well_name,tracks_vec in zip(wells,all_tracks):\n",
    "        labels.append(np.repeat(well_name,len(tracks_vec)))\n",
    "    return all_tracks\n",
    "    results_tracks = np.vstack(all_tracks)\n",
    "    results_labels = np.concatenate(labels)\n",
    "    if(save):\n",
    "        np.save('../npy_files/features'+name_ext+'.npy',results_tracks)\n",
    "        np.save('../npy_files/labels'+name_ext+'.npy',results_labels)\n",
    "    return results_tracks,results_labels"
   ]
  },
  {
   "cell_type": "code",
   "execution_count": 25,
   "metadata": {},
   "outputs": [],
   "source": [
    "a = from_results_folder_PATH_to_arrays(features=['centroids','morphologies'],ts_len=25,cut_longer_ts=True,save=True,name_ext=\"_Asaf\")"
   ]
  },
  {
   "cell_type": "code",
   "execution_count": 39,
   "metadata": {},
   "outputs": [
    {
     "data": {
      "text/plain": [
       "25"
      ]
     },
     "execution_count": 39,
     "metadata": {},
     "output_type": "execute_result"
    }
   ],
   "source": [
    "len(a[1][1])"
   ]
  },
  {
   "cell_type": "code",
   "execution_count": 52,
   "metadata": {},
   "outputs": [
    {
     "data": {
      "text/plain": [
       "list"
      ]
     },
     "execution_count": 52,
     "metadata": {},
     "output_type": "execute_result"
    }
   ],
   "source": [
    "type(a)"
   ]
  },
  {
   "cell_type": "code",
   "execution_count": 57,
   "metadata": {},
   "outputs": [],
   "source": [
    "new_list =[]\n",
    "for i,l in enumerate(a):\n",
    "    for j, k in enumerate(l):\n",
    "        if len(a[i]) == 25:\n",
    "            print(i,j)\n",
    "            new_list.append(a[i])\n"
   ]
  },
  {
   "cell_type": "code",
   "execution_count": 55,
   "metadata": {},
   "outputs": [
    {
     "data": {
      "text/plain": [
       "0"
      ]
     },
     "execution_count": 55,
     "metadata": {},
     "output_type": "execute_result"
    }
   ],
   "source": [
    "len(new_list)"
   ]
  },
  {
   "cell_type": "code",
   "execution_count": 21,
   "metadata": {},
   "outputs": [
    {
     "name": "stdout",
     "output_type": "stream",
     "text": [
      "../../Results\n",
      "../../Results\\Results_D2_1_start_3_crop_0_2022-08-29_19-03-32\n",
      "../../Results\\Results_D2_2_start_2_crop_0_2022-08-29_18-52-37\n",
      "../../Results\\Results_D2_3_start_2_crop_0_2022-08-29_18-45-16\n",
      "../../Results\\Results_D2_3_start_2_crop_3_2022-08-29_18-49-31\n",
      "../../Results\\Results_D2_3_start_5_crop_1_2022-08-29_18-46-42\n",
      "../../Results\\Results_D2_4_start_2_crop_0_2022-08-29_18-58-00\n",
      "../../Results\\Results_D3_1_start_5_crop_2_2022-08-29_19-07-07\n",
      "../../Results\\Results_D3_1_start_6_crop_1_2022-08-29_19-06-14\n",
      "../../Results\\Results_D3_1_start_6_crop_3_2022-08-29_19-09-12\n",
      "../../Results\\Results_D3_1_start_9_crop_0_2022-08-29_19-05-03\n",
      "../../Results\\Results_D3_2_start_4_crop_0_2022-08-29_19-10-51\n",
      "../../Results\\Results_D3_2_start_4_crop_2_2022-08-29_19-14-06\n",
      "../../Results\\Results_D3_2_start_6_crop_1_2022-08-29_19-13-07\n",
      "../../Results\\Results_D3_2_start_7_crop_3_2022-08-29_19-15-01\n",
      "../../Results\\Results_D3_3_start_2_crop_1_2022-08-29_19-19-26\n",
      "../../Results\\Results_D3_3_start_4_crop_0_2022-08-29_19-17-49\n",
      "../../Results\\Results_D3_4_start_2_crop_0_2022-08-29_19-38-35\n",
      "../../Results\\Results_D3_4_start_2_crop_1_2022-08-29_19-39-46\n",
      "../../Results\\Results_D3_4_start_8_crop_2_2022-08-29_19-40-51\n",
      "../../Results\\Results_D3_4_start_9_crop_3_2022-08-29_19-42-00\n",
      "../../Results\\Results_D4_1_start_2_crop_0_2022-08-30_09-49-04\n",
      "../../Results\\Results_D4_1_start_2_crop_1_2022-08-30_09-50-24\n",
      "../../Results\\Results_D4_1_start_2_crop_2_2022-08-30_09-51-16\n",
      "../../Results\\Results_D4_1_start_2_crop_3_2022-08-30_09-52-25\n",
      "../../Results\\Results_D4_2_start_3_crop_0_2022-08-28_07-11-37\n",
      "../../Results\\Results_D4_2_start_3_crop_1_2022-08-28_07-12-53\n",
      "../../Results\\Results_D4_3_start_2_crop_0_2022-08-30_08-45-10\n",
      "../../Results\\Results_D4_3_start_2_crop_1_2022-08-30_08-46-22\n",
      "../../Results\\Results_D4_3_start_2_crop_2_2022-08-30_08-47-27\n",
      "../../Results\\Results_D4_3_start_2_crop_3_2022-08-30_08-48-21\n",
      "../../Results\\Results_D4_4_start_2_crop_0_2022-08-30_08-49-55\n",
      "../../Results\\Results_D4_4_start_2_crop_1_2022-08-30_08-50-56\n",
      "../../Results\\Results_D4_4_start_2_crop_2_2022-08-30_08-52-00\n",
      "../../Results\\Results_D7_1_start_1_crop_3_2022-08-28_07-04-02\n",
      "../../Results\\Results_D7_1_start_2_crop_0_2022-08-28_06-59-30\n",
      "../../Results\\Results_D7_1_start_2_crop_1_2022-08-28_07-00-42\n",
      "../../Results\\Results_D7_1_start_4_crop_2_2022-08-28_07-02-22\n",
      "../../Results\\Results_D7_2_start_0_crop_0_2022-08-28_06-43-39\n",
      "../../Results\\Results_D7_2_start_0_crop_1_2022-08-28_06-45-14\n",
      "../../Results\\Results_D7_2_start_1_crop_2_2022-08-28_06-48-34\n",
      "../../Results\\Results_D7_2_start_2_crop_3_2022-08-28_06-50-35\n",
      "../../Results\\Results_D7_3_start_3_crop_1_2022-08-28_07-06-49\n",
      "../../Results\\Results_D7_3_start_3_crop_2_2022-08-28_07-08-00\n",
      "../../Results\\Results_D7_3_start_3_crop_3_2022-08-28_07-09-19\n",
      "../../Results\\Results_D7_3_start_4_crop_0_2022-08-28_07-05-39\n",
      "../../Results\\Results_D7_4_start_0_crop_2_2022-08-28_06-56-05\n",
      "../../Results\\Results_D7_4_start_0_crop_3_2022-08-28_06-57-51\n",
      "../../Results\\Results_D7_4_start_1_crop_0_2022-08-28_06-52-16\n",
      "../../Results\\Results_D7_4_start_1_crop_1_2022-08-28_06-54-07\n",
      "../../Results\\Results_E10_1_start_10_crop_0_2022-08-29_20-58-19\n",
      "../../Results\\Results_E10_1_start_14_crop_1_2022-08-29_20-59-02\n",
      "../../Results\\Results_E10_1_start_17_crop_2_2022-08-29_20-59-39\n",
      "../../Results\\Results_E10_1_start_20_crop_3_2022-08-29_21-00-16\n",
      "../../Results\\Results_E10_2_start_13_crop_1_2022-08-29_21-02-16\n",
      "../../Results\\Results_E10_2_start_5_crop_3_2022-08-29_21-04-51\n",
      "../../Results\\Results_E10_2_start_7_crop_2_2022-08-29_21-03-32\n",
      "../../Results\\Results_E10_2_start_9_crop_0_2022-08-29_21-01-32\n",
      "../../Results\\Results_E10_3_start_36_crop_2_2022-08-29_21-06-19\n",
      "../../Results\\Results_E10_3_start_7_crop_3_2022-08-29_21-06-49\n",
      "../../Results\\Results_E10_4_start_10_crop_1_2022-08-29_21-09-14\n",
      "../../Results\\Results_E10_4_start_6_crop_3_2022-08-29_21-11-38\n",
      "../../Results\\Results_E10_4_start_8_crop_2_2022-08-29_21-10-22\n",
      "../../Results\\Results_E10_4_start_9_crop_0_2022-08-29_21-08-20\n",
      "../../Results\\Results_E2_2_start_47_crop_1_2022-08-30_07-05-52\n",
      "../../Results\\Results_E3_1_start_47_crop_1_2022-08-30_07-05-33\n",
      "../../Results\\Results_E3_4_start_47_crop_2_2022-08-30_07-05-09\n",
      "../../Results\\Results_E6_1_start_4_crop_1_2022-08-30_06-51-02\n",
      "../../Results\\Results_E6_1_start_5_crop_2_2022-08-30_06-52-06\n",
      "../../Results\\Results_E6_1_start_5_crop_3_2022-08-30_06-53-10\n",
      "../../Results\\Results_E6_1_start_6_crop_0_2022-08-30_06-50-07\n",
      "../../Results\\Results_E6_2_start_3_crop_0_2022-08-30_06-57-34\n",
      "../../Results\\Results_E6_2_start_3_crop_1_2022-08-30_06-58-34\n",
      "../../Results\\Results_E6_2_start_4_crop_3_2022-08-30_07-00-26\n",
      "../../Results\\Results_E6_2_start_5_crop_2_2022-08-30_06-59-38\n",
      "../../Results\\Results_E6_3_start_3_crop_0_2022-08-30_07-01-18\n",
      "../../Results\\Results_E6_3_start_5_crop_1_2022-08-30_07-01-58\n",
      "../../Results\\Results_E6_3_start_5_crop_3_2022-08-30_07-03-38\n",
      "../../Results\\Results_E6_3_start_7_crop_2_2022-08-30_07-02-53\n",
      "../../Results\\Results_E6_4_start_2_crop_0_2022-08-30_06-54-16\n",
      "../../Results\\Results_E6_4_start_2_crop_1_2022-08-30_06-55-04\n",
      "../../Results\\Results_E6_4_start_4_crop_2_2022-08-30_06-55-48\n",
      "../../Results\\Results_E6_4_start_9_crop_3_2022-08-30_06-56-31\n",
      "../../Results\\Results_E7_3_start_1_crop_2_2022-08-29_20-43-14\n",
      "../../Results\\Results_E7_3_start_4_crop_0_2022-08-29_20-39-13\n",
      "../../Results\\Results_E7_3_start_4_crop_3_2022-08-29_20-45-02\n",
      "../../Results\\Results_E7_3_start_5_crop_1_2022-08-29_20-40-56\n",
      "../../Results\\Results_E8_1_start_6_crop_0_2022-08-30_05-55-25\n",
      "../../Results\\Results_E8_1_start_6_crop_3_2022-08-30_05-58-03\n",
      "../../Results\\Results_E8_1_start_8_crop_1_2022-08-30_05-56-13\n",
      "../../Results\\Results_E8_1_start_8_crop_2_2022-08-30_05-57-09\n",
      "../../Results\\Results_E8_2_start_4_crop_0_2022-08-30_06-42-25\n",
      "../../Results\\Results_E8_2_start_5_crop_3_2022-08-30_06-46-01\n",
      "../../Results\\Results_E8_2_start_8_crop_1_2022-08-30_06-43-42\n",
      "../../Results\\Results_E8_2_start_8_crop_2_2022-08-30_06-44-59\n",
      "../../Results\\Results_E8_3_start_10_crop_1_2022-08-30_06-47-40\n",
      "../../Results\\Results_E8_3_start_5_crop_3_2022-08-30_06-49-20\n",
      "../../Results\\Results_E8_3_start_6_crop_0_2022-08-30_06-46-57\n",
      "../../Results\\Results_E8_3_start_7_crop_2_2022-08-30_06-48-24\n",
      "../../Results\\Results_E8_4_start_3_crop_1_2022-08-30_06-00-28\n",
      "../../Results\\Results_E8_4_start_6_crop_0_2022-08-30_05-59-43\n",
      "../../Results\\Results_E8_4_start_6_crop_2_2022-08-30_06-01-18\n",
      "../../Results\\Results_E8_4_start_8_crop_3_2022-08-30_06-02-10\n",
      "../../Results\\Results_E9_1_start_7_crop_0_2022-08-29_21-13-20\n",
      "../../Results\\Results_E9_1_start_7_crop_2_2022-08-29_21-15-14\n",
      "../../Results\\Results_E9_1_start_8_crop_3_2022-08-29_21-16-06\n",
      "../../Results\\Results_E9_1_start_9_crop_1_2022-08-29_21-14-15\n",
      "../../Results\\Results_E9_2_start_4_crop_1_2022-08-30_05-49-09\n",
      "../../Results\\Results_E9_2_start_6_crop_3_2022-08-30_05-51-55\n",
      "../../Results\\Results_E9_2_start_7_crop_0_2022-08-30_05-48-25\n",
      "../../Results\\Results_E9_2_start_7_crop_2_2022-08-30_05-50-45\n",
      "../../Results\\Results_E9_3_start_15_crop_2_2022-08-30_05-53-39\n",
      "../../Results\\Results_E9_3_start_16_crop_0_2022-08-30_05-53-11\n",
      "../../Results\\Results_E9_3_start_20_crop_3_2022-08-30_05-54-05\n",
      "../../Results\\Results_E9_4_start_10_crop_0_2022-08-29_21-17-38\n",
      "../../Results\\Results_E9_4_start_3_crop_1_2022-08-29_21-18-52\n",
      "../../Results\\Results_E9_4_start_6_crop_2_2022-08-29_21-20-01\n",
      "../../Results\\Results_F2_1_start_2_crop_1_2022-08-29_20-47-43\n",
      "../../Results\\Results_F2_1_start_2_crop_2_2022-08-29_20-49-03\n",
      "../../Results\\Results_F2_1_start_2_crop_3_2022-08-29_20-50-51\n",
      "../../Results\\Results_F2_1_start_7_crop_0_2022-08-29_20-46-31\n",
      "../../Results\\Results_F3_1_start_6_crop_0_2022-08-30_11-10-19\n",
      "../../Results\\Results_F3_1_start_6_crop_1_2022-08-30_11-11-17\n",
      "../../Results\\Results_F3_1_start_6_crop_3_2022-08-30_11-13-09\n",
      "../../Results\\Results_F3_1_start_7_crop_2_2022-08-30_11-12-12\n",
      "../../Results\\Results_F3_2_start_2_crop_0_2022-08-30_10-07-06\n",
      "../../Results\\Results_F3_2_start_3_crop_2_2022-08-30_10-08-42\n",
      "../../Results\\Results_F3_2_start_6_crop_1_2022-08-30_10-08-01\n",
      "../../Results\\Results_F3_2_start_9_crop_3_2022-08-30_10-09-37\n",
      "../../Results\\Results_F3_3_start_3_crop_3_2022-08-30_10-13-16\n",
      "../../Results\\Results_F3_3_start_4_crop_0_2022-08-30_10-10-41\n",
      "../../Results\\Results_F3_3_start_6_crop_1_2022-08-30_10-11-22\n",
      "../../Results\\Results_F3_3_start_6_crop_2_2022-08-30_10-12-21\n",
      "../../Results\\Results_F3_4_start_3_crop_0_2022-08-30_10-14-28\n",
      "../../Results\\Results_F3_4_start_4_crop_1_2022-08-30_10-15-20\n",
      "../../Results\\Results_F3_4_start_6_crop_3_2022-08-30_10-16-55\n",
      "../../Results\\Results_F3_4_start_7_crop_2_2022-08-30_10-16-13\n",
      "../../Results\\Results_F4_1_start_2_crop_1_2022-08-30_08-40-58\n",
      "../../Results\\Results_F4_1_start_2_crop_3_2022-08-30_08-44-00\n",
      "../../Results\\Results_F4_1_start_3_crop_2_2022-08-30_08-41-58\n",
      "../../Results\\Results_F4_1_start_4_crop_0_2022-08-30_08-39-34\n",
      "../../Results\\Results_F4_2_start_2_crop_1_2022-08-30_08-12-21\n",
      "../../Results\\Results_F4_2_start_2_crop_3_2022-08-30_08-13-51\n",
      "../../Results\\Results_F4_2_start_3_crop_0_2022-08-30_08-11-21\n",
      "../../Results\\Results_F4_2_start_3_crop_2_2022-08-30_08-13-06\n",
      "../../Results\\Results_F4_3_start_2_crop_0_2022-08-30_08-15-07\n",
      "../../Results\\Results_F4_3_start_2_crop_1_2022-08-30_08-16-13\n",
      "../../Results\\Results_F4_3_start_2_crop_3_2022-08-30_08-18-12\n",
      "../../Results\\Results_F4_3_start_3_crop_2_2022-08-30_08-17-14\n",
      "../../Results\\Results_F4_4_start_2_crop_0_2022-08-30_08-19-17\n",
      "../../Results\\Results_F4_4_start_2_crop_1_2022-08-30_08-20-15\n",
      "../../Results\\Results_F4_4_start_2_crop_2_2022-08-30_08-21-04\n",
      "../../Results\\Results_F4_4_start_3_crop_3_2022-08-30_08-22-01\n",
      "../../Results\\Results_G2_1_start_2_crop_0_2022-08-29_20-02-50\n",
      "../../Results\\Results_G2_1_start_2_crop_1_2022-08-29_20-04-08\n",
      "../../Results\\Results_G2_1_start_6_crop_2_2022-08-29_20-05-05\n",
      "../../Results\\Results_G2_3_start_2_crop_0_2022-08-29_19-54-42\n",
      "../../Results\\Results_G2_3_start_2_crop_1_2022-08-29_19-56-25\n",
      "../../Results\\Results_G2_3_start_2_crop_2_2022-08-29_19-58-39\n",
      "../../Results\\Results_G2_3_start_2_crop_3_2022-08-29_20-00-52\n",
      "../../Results\\Results_G3_1_start_4_crop_0_2022-08-30_09-59-37\n",
      "../../Results\\Results_G3_1_start_6_crop_1_2022-08-30_10-00-25\n",
      "../../Results\\Results_G3_1_start_6_crop_2_2022-08-30_10-01-16\n",
      "../../Results\\Results_G3_1_start_8_crop_3_2022-08-30_10-02-14\n",
      "../../Results\\Results_G3_2_start_2_crop_2_2022-08-30_09-54-42\n",
      "../../Results\\Results_G3_2_start_2_crop_3_2022-08-30_09-55-23\n",
      "../../Results\\Results_G3_2_start_5_crop_0_2022-08-30_09-53-22\n",
      "../../Results\\Results_G3_2_start_7_crop_1_2022-08-30_09-54-06\n",
      "../../Results\\Results_G3_3_start_2_crop_2_2022-08-30_10-05-09\n",
      "../../Results\\Results_G3_3_start_3_crop_1_2022-08-30_10-04-05\n",
      "../../Results\\Results_G3_3_start_4_crop_0_2022-08-30_10-03-15\n",
      "../../Results\\Results_G3_3_start_5_crop_3_2022-08-30_10-06-04\n",
      "../../Results\\Results_G3_4_start_3_crop_0_2022-08-30_09-56-23\n",
      "../../Results\\Results_G3_4_start_6_crop_1_2022-08-30_09-57-23\n",
      "../../Results\\Results_G3_4_start_6_crop_3_2022-08-30_09-58-45\n",
      "../../Results\\Results_G3_4_start_9_crop_2_2022-08-30_09-58-07\n",
      "../../Results\\Results_G4_1_start_2_crop_0_2022-08-30_08-08-05\n",
      "../../Results\\Results_G4_1_start_2_crop_1_2022-08-30_08-09-01\n",
      "../../Results\\Results_G4_1_start_4_crop_2_2022-08-30_08-09-50\n",
      "../../Results\\Results_G4_1_start_5_crop_3_2022-08-30_08-10-34\n",
      "../../Results\\Results_G4_2_start_2_crop_0_2022-08-30_07-07-42\n",
      "../../Results\\Results_G4_2_start_2_crop_1_2022-08-30_07-08-54\n",
      "../../Results\\Results_G4_3_start_2_crop_1_2022-08-30_07-58-58\n",
      "../../Results\\Results_G4_3_start_2_crop_2_2022-08-30_08-00-16\n",
      "../../Results\\Results_G4_3_start_3_crop_3_2022-08-30_08-01-22\n",
      "../../Results\\Results_G4_3_start_4_crop_0_2022-08-30_07-57-23\n",
      "../../Results\\Results_G4_4_start_2_crop_1_2022-08-30_08-04-06\n",
      "../../Results\\Results_G4_4_start_2_crop_2_2022-08-30_08-05-15\n",
      "../../Results\\Results_G4_4_start_2_crop_3_2022-08-30_08-06-55\n",
      "../../Results\\Results_G4_4_start_3_crop_0_2022-08-30_08-02-48\n",
      "../../Results\\Results_G5_3_start_2_crop_0_2022-08-29_19-49-03\n",
      "../../Results\\Results_G5_3_start_2_crop_2_2022-08-29_19-51-15\n",
      "../../Results\\Results_G5_3_start_4_crop_3_2022-08-29_19-52-19\n",
      "../../Results\\Results_G5_3_start_5_crop_1_2022-08-29_19-50-05\n",
      "../../Results\\Results_G5_4_start_2_crop_1_2022-08-29_19-44-26\n",
      "../../Results\\Results_G5_4_start_2_crop_3_2022-08-29_19-47-11\n",
      "../../Results\\Results_G5_4_start_5_crop_0_2022-08-29_19-43-38\n",
      "../../Results\\Results_G5_4_start_6_crop_2_2022-08-29_19-45-38\n",
      "../../Results\\Results_G6_1_start_2_crop_1_2022-08-29_20-54-08\n",
      "../../Results\\Results_G6_1_start_2_crop_3_2022-08-29_20-56-36\n",
      "../../Results\\Results_G6_1_start_3_crop_2_2022-08-29_20-55-34\n",
      "../../Results\\Results_G6_1_start_5_crop_0_2022-08-29_20-53-06\n"
     ]
    },
    {
     "ename": "ValueError",
     "evalue": "all the input array dimensions for the concatenation axis must match exactly, but along dimension 1, the array at index 0 has size 25 and the array at index 19 has size 0",
     "output_type": "error",
     "traceback": [
      "\u001b[1;31m---------------------------------------------------------------------------\u001b[0m",
      "\u001b[1;31mValueError\u001b[0m                                Traceback (most recent call last)",
      "\u001b[1;32mc:\\Projects\\TAU\\DL-Workshop\\Git Folder\\DL-WORKSHOP\\Notebooks\\clustering_pipe.ipynb Cell 5\u001b[0m in \u001b[0;36m<cell line: 1>\u001b[1;34m()\u001b[0m\n\u001b[1;32m----> <a href='vscode-notebook-cell:/c%3A/Projects/TAU/DL-Workshop/Git%20Folder/DL-WORKSHOP/Notebooks/clustering_pipe.ipynb#W4sZmlsZQ%3D%3D?line=0'>1</a>\u001b[0m x,y \u001b[39m=\u001b[39m from_results_folder_PATH_to_arrays(features\u001b[39m=\u001b[39;49m[\u001b[39m'\u001b[39;49m\u001b[39mcentroids\u001b[39;49m\u001b[39m'\u001b[39;49m,\u001b[39m'\u001b[39;49m\u001b[39mmorphologies\u001b[39;49m\u001b[39m'\u001b[39;49m],ts_len\u001b[39m=\u001b[39;49m\u001b[39m25\u001b[39;49m,cut_longer_ts\u001b[39m=\u001b[39;49m\u001b[39mTrue\u001b[39;49;00m,save\u001b[39m=\u001b[39;49m\u001b[39mTrue\u001b[39;49;00m,name_ext\u001b[39m=\u001b[39;49m\u001b[39m\"\u001b[39;49m\u001b[39m_Asaf\u001b[39;49m\u001b[39m\"\u001b[39;49m)\n",
      "\u001b[1;32mc:\\Projects\\TAU\\DL-Workshop\\Git Folder\\DL-WORKSHOP\\Notebooks\\clustering_pipe.ipynb Cell 5\u001b[0m in \u001b[0;36mfrom_results_folder_PATH_to_arrays\u001b[1;34m(features, ts_len, cut_longer_ts, save, name_ext)\u001b[0m\n\u001b[0;32m     <a href='vscode-notebook-cell:/c%3A/Projects/TAU/DL-Workshop/Git%20Folder/DL-WORKSHOP/Notebooks/clustering_pipe.ipynb#W4sZmlsZQ%3D%3D?line=32'>33</a>\u001b[0m \u001b[39mfor\u001b[39;00m well_name,tracks_vec \u001b[39min\u001b[39;00m \u001b[39mzip\u001b[39m(wells,all_tracks):\n\u001b[0;32m     <a href='vscode-notebook-cell:/c%3A/Projects/TAU/DL-Workshop/Git%20Folder/DL-WORKSHOP/Notebooks/clustering_pipe.ipynb#W4sZmlsZQ%3D%3D?line=33'>34</a>\u001b[0m     labels\u001b[39m.\u001b[39mappend(np\u001b[39m.\u001b[39mrepeat(well_name,\u001b[39mlen\u001b[39m(tracks_vec)))\n\u001b[1;32m---> <a href='vscode-notebook-cell:/c%3A/Projects/TAU/DL-Workshop/Git%20Folder/DL-WORKSHOP/Notebooks/clustering_pipe.ipynb#W4sZmlsZQ%3D%3D?line=35'>36</a>\u001b[0m results_tracks \u001b[39m=\u001b[39m np\u001b[39m.\u001b[39;49mvstack(all_tracks)\n\u001b[0;32m     <a href='vscode-notebook-cell:/c%3A/Projects/TAU/DL-Workshop/Git%20Folder/DL-WORKSHOP/Notebooks/clustering_pipe.ipynb#W4sZmlsZQ%3D%3D?line=36'>37</a>\u001b[0m results_labels \u001b[39m=\u001b[39m np\u001b[39m.\u001b[39mconcatenate(labels)\n\u001b[0;32m     <a href='vscode-notebook-cell:/c%3A/Projects/TAU/DL-Workshop/Git%20Folder/DL-WORKSHOP/Notebooks/clustering_pipe.ipynb#W4sZmlsZQ%3D%3D?line=37'>38</a>\u001b[0m \u001b[39mif\u001b[39;00m(save):\n",
      "File \u001b[1;32m<__array_function__ internals>:5\u001b[0m, in \u001b[0;36mvstack\u001b[1;34m(*args, **kwargs)\u001b[0m\n",
      "File \u001b[1;32mc:\\Users\\asafavra\\AppData\\Local\\Programs\\Python\\Python310\\lib\\site-packages\\numpy\\core\\shape_base.py:282\u001b[0m, in \u001b[0;36mvstack\u001b[1;34m(tup)\u001b[0m\n\u001b[0;32m    280\u001b[0m \u001b[39mif\u001b[39;00m \u001b[39mnot\u001b[39;00m \u001b[39misinstance\u001b[39m(arrs, \u001b[39mlist\u001b[39m):\n\u001b[0;32m    281\u001b[0m     arrs \u001b[39m=\u001b[39m [arrs]\n\u001b[1;32m--> 282\u001b[0m \u001b[39mreturn\u001b[39;00m _nx\u001b[39m.\u001b[39;49mconcatenate(arrs, \u001b[39m0\u001b[39;49m)\n",
      "File \u001b[1;32m<__array_function__ internals>:5\u001b[0m, in \u001b[0;36mconcatenate\u001b[1;34m(*args, **kwargs)\u001b[0m\n",
      "\u001b[1;31mValueError\u001b[0m: all the input array dimensions for the concatenation axis must match exactly, but along dimension 1, the array at index 0 has size 25 and the array at index 19 has size 0"
     ]
    }
   ],
   "source": [
    "x,y = from_results_folder_PATH_to_arrays(features=['centroids','morphologies'],ts_len=25,cut_longer_ts=True,save=True,name_ext=\"_Asaf\")"
   ]
  },
  {
   "cell_type": "code",
   "execution_count": 14,
   "metadata": {},
   "outputs": [
    {
     "data": {
      "text/plain": [
       "(58, 25, 5)"
      ]
     },
     "execution_count": 14,
     "metadata": {},
     "output_type": "execute_result"
    }
   ],
   "source": [
    "x.shape"
   ]
  },
  {
   "cell_type": "markdown",
   "metadata": {},
   "source": [
    "## tests and single fetures"
   ]
  },
  {
   "cell_type": "code",
   "execution_count": 3,
   "metadata": {},
   "outputs": [],
   "source": [
    "nan = np.nan\n",
    "def using_clump(a):\n",
    "    return [a[s] for s in np.ma.clump_unmasked(np.ma.masked_where(a.astype(str)==str(np.nan),a))]\n",
    "def normalize_centroids_in_tracks(tracks_arr):\n",
    "    for centroids_arr in tracks_arr:\n",
    "        centroids_arr-=centroids_arr[0]\n",
    "    return tracks_arr\n",
    "def str_array_to_float(arr_of_arr_of_str):\n",
    "    final_mat = []\n",
    "    for arr_of_arr in arr_of_arr_of_str:\n",
    "        float_ts = []\n",
    "        for str in arr_of_arr:\n",
    "            float_arr = [float(i) for i in re.findall(\"\\d+\\.\\d+\",str)]\n",
    "            if(len(float_arr)>=2):\n",
    "                float_ts.append(float_arr)\n",
    "        if(len(float_ts)>=1):\n",
    "            final_mat.append(float_ts)\n",
    "    return np.array(final_mat)\n",
    "def get_lens(tracks):\n",
    "    return pd.Series([len(trk) for trk in tracks]).value_counts()\n",
    "def cut_tracks_and_save(tracks,well_name,ts_len,cut_longer_ts=False,save=True):\n",
    "    if(cut_longer_ts):\n",
    "        tracks_final = np.array([trk[:ts_len] for trk in tracks if len(trk)>=ts_len])\n",
    "    else:\n",
    "        tracks_final = np.array([trk for trk in tracks if len(trk)==ts_len])\n",
    "    track_final_norm=normalize_centroids_in_tracks(tracks_final)\n",
    "    if(save):\n",
    "        np.save('../npy_files/'+well_name+'.npy',track_final_norm)\n",
    "    return track_final_norm"
   ]
  },
  {
   "cell_type": "code",
   "execution_count": 15,
   "metadata": {},
   "outputs": [],
   "source": [
    "def from_csv_path_to_npy(csv_path,well_name,ts_len,cut_longer_ts=False):\n",
    "    df_str = pd.read_csv(csv_path,index_col=[0])\n",
    "    splitted = []\n",
    "    id_well_index = []\n",
    "    for cell_id, series in df_str.iterrows():\n",
    "        tracks = np.array(using_clump(np.array(series)))\n",
    "        for tr in tracks:\n",
    "            splitted.append(tr)\n",
    "    tracks_str = np.array(splitted) \n",
    "    print(\"tracks_str shape: \",tracks_str.shape)\n",
    "    tracks = str_array_to_float(tracks_str)\n",
    "    cut_tracks_and_save(tracks,well_name,10,False)"
   ]
  },
  {
   "cell_type": "code",
   "execution_count": 5,
   "metadata": {},
   "outputs": [],
   "source": [
    "def from_results_folder_PATH_to_arrays():\n",
    "    all_tracks = []\n",
    "    wells = []\n",
    "    all_csv_files = [file\n",
    "                 for path, subdir, files in os.walk(PATH)\n",
    "                 for file in glob(os.path.join(path, EXT))]\n",
    "    for file in all_csv_files:\n",
    "        file_name = file.split('_')\n",
    "        well_name = file_name[1]\n",
    "        df_str = pd.read_csv(file,index_col=[0])\n",
    "        splitted = []\n",
    "        id_well_index = []\n",
    "        for cell_id, series in df_str.iterrows():\n",
    "            tracks = np.array(using_clump(np.array(series)))\n",
    "            for tr in tracks:\n",
    "                splitted.append(tr)\n",
    "        tracks_str = np.array(splitted) \n",
    "        print(\"tracks_str shape: \",tracks_str.shape)\n",
    "        tracks = str_array_to_float(tracks_str)\n",
    "        all_tracks.append(tracks)\n",
    "        wells.append(well_name)\n",
    "    return all_tracks,wells"
   ]
  },
  {
   "cell_type": "markdown",
   "metadata": {},
   "source": [
    "### tracks\n"
   ]
  },
  {
   "cell_type": "code",
   "execution_count": 5,
   "metadata": {},
   "outputs": [
    {
     "ename": "UnboundLocalError",
     "evalue": "local variable 'track_cut' referenced before assignment",
     "output_type": "error",
     "traceback": [
      "\u001b[1;31m---------------------------------------------------------------------------\u001b[0m",
      "\u001b[1;31mUnboundLocalError\u001b[0m                         Traceback (most recent call last)",
      "\u001b[1;32mc:\\Projects\\TAU\\DL-Workshop\\Git Folder\\DL-WORKSHOP\\Notebooks\\clustering_pipe.ipynb Cell 12\u001b[0m in \u001b[0;36m<cell line: 3>\u001b[1;34m()\u001b[0m\n\u001b[0;32m      <a href='vscode-notebook-cell:/c%3A/Projects/TAU/DL-Workshop/Git%20Folder/DL-WORKSHOP/Notebooks/clustering_pipe.ipynb#X14sZmlsZQ%3D%3D?line=0'>1</a>\u001b[0m PATH \u001b[39m=\u001b[39m \u001b[39m'\u001b[39m\u001b[39m../Results\u001b[39m\u001b[39m'\u001b[39m\n\u001b[0;32m      <a href='vscode-notebook-cell:/c%3A/Projects/TAU/DL-Workshop/Git%20Folder/DL-WORKSHOP/Notebooks/clustering_pipe.ipynb#X14sZmlsZQ%3D%3D?line=1'>2</a>\u001b[0m EXT \u001b[39m=\u001b[39m \u001b[39m\"\u001b[39m\u001b[39m*centroids.csv\u001b[39m\u001b[39m\"\u001b[39m\n\u001b[1;32m----> <a href='vscode-notebook-cell:/c%3A/Projects/TAU/DL-Workshop/Git%20Folder/DL-WORKSHOP/Notebooks/clustering_pipe.ipynb#X14sZmlsZQ%3D%3D?line=2'>3</a>\u001b[0m all_tracks,wells \u001b[39m=\u001b[39m from_results_folder_PATH_to_arrays()\n",
      "\u001b[1;32mc:\\Projects\\TAU\\DL-Workshop\\Git Folder\\DL-WORKSHOP\\Notebooks\\clustering_pipe.ipynb Cell 12\u001b[0m in \u001b[0;36mfrom_results_folder_PATH_to_arrays\u001b[1;34m(features, ts_len, cut_longer_ts, save, name_ext)\u001b[0m\n\u001b[0;32m     <a href='vscode-notebook-cell:/c%3A/Projects/TAU/DL-Workshop/Git%20Folder/DL-WORKSHOP/Notebooks/clustering_pipe.ipynb#X14sZmlsZQ%3D%3D?line=22'>23</a>\u001b[0m     \u001b[39m#print(\"tracks_str shape: \",tracks_str.shape)\u001b[39;00m\n\u001b[0;32m     <a href='vscode-notebook-cell:/c%3A/Projects/TAU/DL-Workshop/Git%20Folder/DL-WORKSHOP/Notebooks/clustering_pipe.ipynb#X14sZmlsZQ%3D%3D?line=23'>24</a>\u001b[0m     tracks \u001b[39m=\u001b[39m str_array_to_float(tracks_str)\n\u001b[1;32m---> <a href='vscode-notebook-cell:/c%3A/Projects/TAU/DL-Workshop/Git%20Folder/DL-WORKSHOP/Notebooks/clustering_pipe.ipynb#X14sZmlsZQ%3D%3D?line=24'>25</a>\u001b[0m     tracks_cut \u001b[39m=\u001b[39m cut_feture_vecs_and_preprocess(tracks,feature_type,ts_len,cut_longer_ts)\n\u001b[0;32m     <a href='vscode-notebook-cell:/c%3A/Projects/TAU/DL-Workshop/Git%20Folder/DL-WORKSHOP/Notebooks/clustering_pipe.ipynb#X14sZmlsZQ%3D%3D?line=25'>26</a>\u001b[0m     feature_vecs_cut\u001b[39m.\u001b[39mappend(tracks_cut)\n\u001b[0;32m     <a href='vscode-notebook-cell:/c%3A/Projects/TAU/DL-Workshop/Git%20Folder/DL-WORKSHOP/Notebooks/clustering_pipe.ipynb#X14sZmlsZQ%3D%3D?line=26'>27</a>\u001b[0m feature_vecs_cut \u001b[39m=\u001b[39m np\u001b[39m.\u001b[39mdstack(feature_vecs_cut)\n",
      "\u001b[1;32mc:\\Projects\\TAU\\DL-Workshop\\Git Folder\\DL-WORKSHOP\\Notebooks\\clustering_pipe.ipynb Cell 12\u001b[0m in \u001b[0;36mcut_feture_vecs_and_preprocess\u001b[1;34m(tracks, feature_type, ts_len, cut_longer_ts)\u001b[0m\n\u001b[0;32m     <a href='vscode-notebook-cell:/c%3A/Projects/TAU/DL-Workshop/Git%20Folder/DL-WORKSHOP/Notebooks/clustering_pipe.ipynb#X14sZmlsZQ%3D%3D?line=31'>32</a>\u001b[0m     tracks_cut \u001b[39m=\u001b[39m np\u001b[39m.\u001b[39marray([trk \u001b[39mfor\u001b[39;00m trk \u001b[39min\u001b[39;00m tracks \u001b[39mif\u001b[39;00m \u001b[39mlen\u001b[39m(trk)\u001b[39m==\u001b[39mts_len])\n\u001b[0;32m     <a href='vscode-notebook-cell:/c%3A/Projects/TAU/DL-Workshop/Git%20Folder/DL-WORKSHOP/Notebooks/clustering_pipe.ipynb#X14sZmlsZQ%3D%3D?line=32'>33</a>\u001b[0m \u001b[39mif\u001b[39;00m \u001b[39m'\u001b[39m\u001b[39mcentroids\u001b[39m\u001b[39m'\u001b[39m \u001b[39min\u001b[39;00m feature_type:\n\u001b[1;32m---> <a href='vscode-notebook-cell:/c%3A/Projects/TAU/DL-Workshop/Git%20Folder/DL-WORKSHOP/Notebooks/clustering_pipe.ipynb#X14sZmlsZQ%3D%3D?line=33'>34</a>\u001b[0m     track_cut \u001b[39m=\u001b[39m centroids_zero_center(track_cut)\n\u001b[0;32m     <a href='vscode-notebook-cell:/c%3A/Projects/TAU/DL-Workshop/Git%20Folder/DL-WORKSHOP/Notebooks/clustering_pipe.ipynb#X14sZmlsZQ%3D%3D?line=34'>35</a>\u001b[0m \u001b[39mreturn\u001b[39;00m track_cut\n",
      "\u001b[1;31mUnboundLocalError\u001b[0m: local variable 'track_cut' referenced before assignment"
     ]
    }
   ],
   "source": [
    "PATH = '../Results'\n",
    "EXT = \"*centroids.csv\"\n",
    "all_tracks,wells = from_results_folder_PATH_to_arrays()"
   ]
  },
  {
   "cell_type": "code",
   "execution_count": 107,
   "metadata": {},
   "outputs": [],
   "source": [
    "all = []\n",
    "labels = []\n",
    "for well_name,tracks in zip(wells,all_tracks):\n",
    "    tracks_norm_cut = cut_tracks_and_save(tracks,well_name,12,True)\n",
    "    all.append(tracks_norm_cut)\n",
    "    labels.append(np.repeat(well_name,len(tracks_norm_cut)))\n",
    "\n",
    "results_tracks = np.vstack(all)\n",
    "results_labels = np.concatenate(labels)\n"
   ]
  },
  {
   "cell_type": "code",
   "execution_count": 108,
   "metadata": {},
   "outputs": [
    {
     "data": {
      "text/plain": [
       "3705"
      ]
     },
     "execution_count": 108,
     "metadata": {},
     "output_type": "execute_result"
    }
   ],
   "source": [
    "len(results_tracks)"
   ]
  },
  {
   "cell_type": "code",
   "execution_count": 109,
   "metadata": {},
   "outputs": [],
   "source": [
    "np.save('../npy_files/tracks.npy',results_tracks)\n",
    "np.save('../npy_files/labels.npy',results_labels)"
   ]
  },
  {
   "cell_type": "markdown",
   "metadata": {},
   "source": [
    "### morphologies"
   ]
  },
  {
   "cell_type": "code",
   "execution_count": null,
   "metadata": {},
   "outputs": [],
   "source": [
    "PATH = '../Results'\n",
    "EXT = \"*morphologies.csv\"\n",
    "all_tracks,wells = from_results_folder_PATH_to_arrays()"
   ]
  },
  {
   "cell_type": "code",
   "execution_count": 8,
   "metadata": {},
   "outputs": [],
   "source": [
    "all = []\n",
    "labels = []\n",
    "for well_name,tracks in zip(wells,all_tracks):\n",
    "    tracks_norm_cut = cut_tracks_and_save(tracks,well_name,7,True)\n",
    "    all.append(tracks_norm_cut)\n",
    "    labels.append(np.repeat(well_name,len(tracks_norm_cut)))\n",
    "\n",
    "results_tracks = np.vstack(all)\n",
    "results_labels = np.concatenate(labels)"
   ]
  },
  {
   "cell_type": "code",
   "execution_count": 9,
   "metadata": {},
   "outputs": [
    {
     "data": {
      "text/plain": [
       "8931"
      ]
     },
     "execution_count": 9,
     "metadata": {},
     "output_type": "execute_result"
    }
   ],
   "source": [
    "len(results_tracks)"
   ]
  },
  {
   "cell_type": "code",
   "execution_count": 10,
   "metadata": {},
   "outputs": [],
   "source": [
    "np.save('../npy_files/morph.npy',results_tracks) \n",
    "np.save('../npy_files/labels_morph.npy',results_labels)"
   ]
  },
  {
   "cell_type": "markdown",
   "metadata": {},
   "source": [
    "#### file tests"
   ]
  },
  {
   "cell_type": "code",
   "execution_count": 12,
   "metadata": {},
   "outputs": [
    {
     "name": "stdout",
     "output_type": "stream",
     "text": [
      "0\n",
      "2\n",
      "1\n",
      "0\n",
      "2\n",
      "2\n",
      "1\n",
      "3\n",
      "3\n",
      "1\n",
      "1\n",
      "1\n",
      "2\n",
      "3\n",
      "1\n",
      "2\n",
      "0\n",
      "1\n",
      "2\n",
      "0\n",
      "0\n",
      "1\n",
      "0\n",
      "0\n",
      "0\n",
      "3\n",
      "1\n",
      "0\n",
      "0\n",
      "1\n",
      "1\n",
      "0\n",
      "0\n",
      "2\n",
      "0\n",
      "1\n",
      "1\n",
      "3\n",
      "2\n",
      "2\n",
      "0\n",
      "0\n",
      "2\n",
      "2\n",
      "1\n",
      "2\n",
      "0\n",
      "2\n",
      "2\n",
      "1\n",
      "1\n",
      "3\n",
      "0\n",
      "2\n",
      "3\n",
      "1\n",
      "1\n",
      "1\n",
      "2\n",
      "0\n",
      "3\n",
      "0\n",
      "0\n",
      "2\n",
      "0\n",
      "2\n",
      "0\n",
      "2\n",
      "3\n",
      "2\n",
      "0\n",
      "0\n",
      "3\n",
      "2\n",
      "2\n",
      "3\n",
      "1\n",
      "1\n",
      "2\n",
      "1\n",
      "3\n",
      "1\n",
      "0\n",
      "3\n",
      "2\n",
      "2\n",
      "1\n",
      "3\n",
      "3\n",
      "1\n",
      "3\n",
      "1\n",
      "1\n",
      "2\n",
      "1\n",
      "2\n",
      "1\n",
      "3\n",
      "0\n",
      "3\n",
      "2\n",
      "1\n",
      "1\n"
     ]
    }
   ],
   "source": [
    "PATH = '../Results_All'\n",
    "EXT = \"*.csv\"\n",
    "all_csv_files = [file\n",
    "                for path, subdir, files in os.walk(PATH)\n",
    "                for file in glob(os.path.join(path, EXT))]\n",
    "                \n",
    "all_paths = [path for path, subdir, files in os.walk(PATH)]\n",
    "lens = []\n",
    "for path in all_paths:\n",
    "    all_files = [file for file in glob(os.path.join(path, EXT)) ]\n",
    "    print(len(all_files)) \n",
    "   "
   ]
  },
  {
   "cell_type": "code",
   "execution_count": 8,
   "metadata": {},
   "outputs": [
    {
     "ename": "NameError",
     "evalue": "name 'Results' is not defined",
     "output_type": "error",
     "traceback": [
      "\u001b[1;31m---------------------------------------------------------------------------\u001b[0m",
      "\u001b[1;31mNameError\u001b[0m                                 Traceback (most recent call last)",
      "\u001b[1;32mc:\\Projects\\TAU\\DL-Workshop\\Git Folder\\DL-WORKSHOP\\Notebooks\\clustering_pipe.ipynb Cell 23\u001b[0m in \u001b[0;36m<cell line: 1>\u001b[1;34m()\u001b[0m\n\u001b[1;32m----> <a href='vscode-notebook-cell:/c%3A/Projects/TAU/DL-Workshop/Git%20Folder/DL-WORKSHOP/Notebooks/clustering_pipe.ipynb#X50sZmlsZQ%3D%3D?line=0'>1</a>\u001b[0m \u001b[39mprint\u001b[39m(Results)\n",
      "\u001b[1;31mNameError\u001b[0m: name 'Results' is not defined"
     ]
    }
   ],
   "source": []
  },
  {
   "cell_type": "code",
   "execution_count": null,
   "metadata": {},
   "outputs": [],
   "source": [
    "for file in all_csv_files:\n",
    "    file_name = file.split('_')\n",
    "    print(file_name[-1])"
   ]
  },
  {
   "cell_type": "code",
   "execution_count": null,
   "metadata": {},
   "outputs": [],
   "source": [
    "for file in all_csv_files:\n",
    "    file_name = file.split('_')\n",
    "    well_name = file_name[1]\n",
    "    view_name = file_name[2]\n",
    "    crop_name = file_name[4]\n",
    "    print(f'well:{well_name} , view:{view_name}, crop:{crop_name}')"
   ]
  },
  {
   "cell_type": "markdown",
   "metadata": {},
   "source": [
    "# old code"
   ]
  },
  {
   "cell_type": "markdown",
   "metadata": {},
   "source": [
    "### path to a centroids.csv\n",
    "comment out mac/windows file depending on os you are using"
   ]
  },
  {
   "cell_type": "code",
   "execution_count": 16,
   "metadata": {},
   "outputs": [],
   "source": [
    "df_t = pd.read_csv('/Users/amosavni/university/DeepLearningWorkshop/deepcell_mod/DL-WORKSHOP/results/Results_D2_4_crop_0_start_2_2022-08-25_11-10-58/centroids.csv',index_col=[0])"
   ]
  },
  {
   "cell_type": "markdown",
   "metadata": {},
   "source": [
    "# strings df to array of array of strings"
   ]
  },
  {
   "cell_type": "code",
   "execution_count": null,
   "metadata": {},
   "outputs": [],
   "source": [
    "splitted = []\n",
    "id_well_index = []\n",
    "for cell_id, series in df_t.iterrows():\n",
    "    tracks = np.array(using_clump(np.array(series)))\n",
    "    for tr in tracks:\n",
    "        splitted.append(tr)"
   ]
  },
  {
   "cell_type": "code",
   "execution_count": null,
   "metadata": {},
   "outputs": [],
   "source": [
    "tracks_str = np.array(splitted) \n",
    "print(tracks_str.shape)"
   ]
  },
  {
   "cell_type": "code",
   "execution_count": null,
   "metadata": {},
   "outputs": [],
   "source": [
    "tracks = str_array_to_float(tracks_str)"
   ]
  },
  {
   "cell_type": "code",
   "execution_count": null,
   "metadata": {},
   "outputs": [],
   "source": [
    "print(get_lens(tracks))"
   ]
  },
  {
   "cell_type": "code",
   "execution_count": 16,
   "metadata": {},
   "outputs": [],
   "source": [
    "tracks_final = np.array([trk for trk in tracks if len(trk)==10])"
   ]
  },
  {
   "cell_type": "code",
   "execution_count": 18,
   "metadata": {},
   "outputs": [],
   "source": [
    "track_final_norm=normalize_centroids_in_tracks(tracks_final)"
   ]
  },
  {
   "cell_type": "code",
   "execution_count": 21,
   "metadata": {},
   "outputs": [],
   "source": [
    "np.save('track_final_norm.npy',track_final_norm)"
   ]
  }
 ],
 "metadata": {
  "kernelspec": {
   "display_name": "vaer_mod",
   "language": "python",
   "name": "vaer_mod"
  },
  "language_info": {
   "codemirror_mode": {
    "name": "ipython",
    "version": 3
   },
   "file_extension": ".py",
   "mimetype": "text/x-python",
   "name": "python",
   "nbconvert_exporter": "python",
   "pygments_lexer": "ipython3",
   "version": "3.9.13"
  },
  "orig_nbformat": 4,
  "vscode": {
   "interpreter": {
    "hash": "ae58896e52c45fae7315903cfd07c296a3e53df373752534943e5167468f64ac"
   }
  }
 },
 "nbformat": 4,
 "nbformat_minor": 2
}
