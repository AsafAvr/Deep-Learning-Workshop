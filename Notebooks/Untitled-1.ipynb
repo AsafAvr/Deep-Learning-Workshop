{
 "cells": [
  {
   "cell_type": "markdown",
   "metadata": {},
   "source": []
  },
  {
   "cell_type": "code",
   "execution_count": 4,
   "metadata": {},
   "outputs": [
    {
     "data": {
      "text/plain": [
       "(3705, 12, 2)"
      ]
     },
     "execution_count": 4,
     "metadata": {},
     "output_type": "execute_result"
    }
   ],
   "source": [
    "import numpy as np\n",
    "\n",
    "data = np.load(r'C:\\Projects\\TAU\\DL-Workshop\\Git Folder\\DL-WORKSHOP\\npy_files\\tracks.npy')\n",
    "data.shape"
   ]
  },
  {
   "cell_type": "code",
   "execution_count": 8,
   "metadata": {},
   "outputs": [
    {
     "data": {
      "text/plain": [
       "array([[[  0.       ,   0.       ],\n",
       "        [  4.87371  ,  -3.8114   ],\n",
       "        [  4.73743  ,   1.44743  ],\n",
       "        ...,\n",
       "        [  7.66295  ,   5.0483   ],\n",
       "        [ 12.41028  ,  -2.31545  ],\n",
       "        [  9.30922  ,   2.39186  ]],\n",
       "\n",
       "       [[  0.       ,   0.       ],\n",
       "        [  4.50107  ,  -5.0696   ],\n",
       "        [  4.87515  ,   0.85901  ],\n",
       "        ...,\n",
       "        [  7.83954  ,  -5.88173  ],\n",
       "        [  7.41872  ,   1.86899  ],\n",
       "        [ 13.11267  ,  -4.80202  ]],\n",
       "\n",
       "       [[  0.       ,   0.       ],\n",
       "        [ -9.506245 ,  -4.195404 ],\n",
       "        [ -1.456711 ,  -0.094589 ],\n",
       "        ...,\n",
       "        [-13.089287 ,   3.935715 ],\n",
       "        [  0.723213 ,   9.004465 ],\n",
       "        [  2.698633 ,   6.629535 ]],\n",
       "\n",
       "       ...,\n",
       "\n",
       "       [[  0.       ,   0.       ],\n",
       "        [  7.0325177,  -0.68445  ],\n",
       "        [  8.5429197,   8.99097  ],\n",
       "        ...,\n",
       "        [ -2.5726547, -24.4537   ],\n",
       "        [ -5.1529963, -18.29816  ],\n",
       "        [ -5.7728014, -12.5618   ]],\n",
       "\n",
       "       [[  0.       ,   0.       ],\n",
       "        [ -0.77121  ,   2.99711  ],\n",
       "        [ -1.67159  ,   7.79606  ],\n",
       "        ...,\n",
       "        [  4.117    ,   0.91586  ],\n",
       "        [  1.21957  ,   1.662    ],\n",
       "        [ 13.30815  ,   4.55046  ]],\n",
       "\n",
       "       [[  0.       ,   0.       ],\n",
       "        [ -0.17432  ,  18.5704   ],\n",
       "        [-17.11933  ,  21.22135  ],\n",
       "        ...,\n",
       "        [-11.76064  ,   8.86765  ],\n",
       "        [-14.81327  ,  11.991    ],\n",
       "        [-13.58756  ,  15.76426  ]]])"
      ]
     },
     "execution_count": 8,
     "metadata": {},
     "output_type": "execute_result"
    }
   ],
   "source": [
    "data"
   ]
  },
  {
   "cell_type": "code",
   "execution_count": null,
   "metadata": {},
   "outputs": [],
   "source": [
    "scaler = StandardScaler()\n",
    "X_train = scaler.fit_transform(X_train.reshape(-1, X_train.shape[-1])).reshape(X_train.shape)\n",
    "X_test = scaler.transform(X_test.reshape(-1, X_test.shape[-1])).reshape(X_test.shape)"
   ]
  },
  {
   "cell_type": "code",
   "execution_count": 6,
   "metadata": {},
   "outputs": [],
   "source": [
    "from sklearn.preprocessing import MinMaxScaler\n",
    "scaler = MinMaxScaler(feature_range=(-1,1))\n",
    "normalized = scaler.fit_transform(data.reshape(-1,data.shape[-1])).reshape(data.shape)"
   ]
  },
  {
   "cell_type": "code",
   "execution_count": 9,
   "metadata": {},
   "outputs": [
    {
     "data": {
      "text/plain": [
       "(3705, 12, 2)"
      ]
     },
     "execution_count": 9,
     "metadata": {},
     "output_type": "execute_result"
    }
   ],
   "source": [
    "normalized.shape"
   ]
  },
  {
   "cell_type": "code",
   "execution_count": 10,
   "metadata": {},
   "outputs": [
    {
     "data": {
      "text/plain": [
       "array([[[-0.14889579,  0.0342354 ],\n",
       "        [-0.08958655, -0.01764981],\n",
       "        [-0.09124497,  0.0539395 ],\n",
       "        ...,\n",
       "        [-0.05564368,  0.10295873],\n",
       "        [ 0.00212761,  0.0027148 ],\n",
       "        [-0.03560987,  0.06679618]],\n",
       "\n",
       "       [[-0.14889579,  0.0342354 ],\n",
       "        [-0.09412129, -0.03477789],\n",
       "        [-0.08956903,  0.04592925],\n",
       "        ...,\n",
       "        [-0.05349472, -0.04583355],\n",
       "        [-0.05861577,  0.05967827],\n",
       "        [ 0.01067514, -0.03113528]],\n",
       "\n",
       "       [[-0.14889579,  0.0342354 ],\n",
       "        [-0.26457935, -0.02287731],\n",
       "        [-0.16662282,  0.03294775],\n",
       "        ...,\n",
       "        [-0.30818216,  0.08781293],\n",
       "        [-0.14009485,  0.15681465],\n",
       "        [-0.11605554,  0.12448434]],\n",
       "\n",
       "       ...,\n",
       "\n",
       "       [[-0.14889579,  0.0342354 ],\n",
       "        [-0.06331555,  0.02491787],\n",
       "        [-0.04493514,  0.15663094],\n",
       "        ...,\n",
       "        [-0.18020298, -0.2986568 ],\n",
       "        [-0.21160372, -0.21486043],\n",
       "        [-0.21914626, -0.13677043]],\n",
       "\n",
       "       [[-0.14889579,  0.0342354 ],\n",
       "        [-0.15828081,  0.07503555],\n",
       "        [-0.16923773,  0.14036444],\n",
       "        ...,\n",
       "        [-0.09879512,  0.04670315],\n",
       "        [-0.13405457,  0.05686048],\n",
       "        [ 0.01305398,  0.09618156]],\n",
       "\n",
       "       [[-0.14889579,  0.0342354 ],\n",
       "        [-0.15101712,  0.28703728],\n",
       "        [-0.35722463,  0.32312509],\n",
       "        ...,\n",
       "        [-0.29201357,  0.15495217],\n",
       "        [-0.32916169,  0.19747084],\n",
       "        [-0.31424575,  0.24883684]]])"
      ]
     },
     "execution_count": 10,
     "metadata": {},
     "output_type": "execute_result"
    }
   ],
   "source": [
    "normalized"
   ]
  },
  {
   "cell_type": "code",
   "execution_count": 19,
   "metadata": {},
   "outputs": [],
   "source": [
    "data = np.load(r'C:\\Users\\asafavra\\Downloads\\track_results.pkl', allow_pickle=True)"
   ]
  },
  {
   "cell_type": "code",
   "execution_count": 20,
   "metadata": {},
   "outputs": [
    {
     "data": {
      "text/plain": [
       "dict_keys(['tracks', 'X', 'y', 'y_tracked'])"
      ]
     },
     "execution_count": 20,
     "metadata": {},
     "output_type": "execute_result"
    }
   ],
   "source": [
    "data.keys()"
   ]
  },
  {
   "cell_type": "code",
   "execution_count": 33,
   "metadata": {},
   "outputs": [
    {
     "data": {
      "text/plain": [
       "(33, 3)"
      ]
     },
     "execution_count": 33,
     "metadata": {},
     "output_type": "execute_result"
    }
   ],
   "source": [
    "data['tracks'][90]['morphologies'].shape"
   ]
  },
  {
   "cell_type": "code",
   "execution_count": 32,
   "metadata": {},
   "outputs": [
    {
     "data": {
      "text/plain": [
       "(33, 2)"
      ]
     },
     "execution_count": 32,
     "metadata": {},
     "output_type": "execute_result"
    }
   ],
   "source": [
    "data['tracks'][90]['centroid'].shape"
   ]
  },
  {
   "cell_type": "code",
   "execution_count": 30,
   "metadata": {},
   "outputs": [
    {
     "data": {
      "text/plain": [
       "(33, 64)"
      ]
     },
     "execution_count": 30,
     "metadata": {},
     "output_type": "execute_result"
    }
   ],
   "source": [
    "data['tracks'][90]['embedding'].shape"
   ]
  },
  {
   "cell_type": "code",
   "execution_count": null,
   "metadata": {},
   "outputs": [],
   "source": []
  }
 ],
 "metadata": {
  "kernelspec": {
   "display_name": "Python 3.10.4 64-bit",
   "language": "python",
   "name": "python3"
  },
  "language_info": {
   "codemirror_mode": {
    "name": "ipython",
    "version": 3
   },
   "file_extension": ".py",
   "mimetype": "text/x-python",
   "name": "python",
   "nbconvert_exporter": "python",
   "pygments_lexer": "ipython3",
   "version": "3.10.4"
  },
  "orig_nbformat": 4,
  "vscode": {
   "interpreter": {
    "hash": "ae58896e52c45fae7315903cfd07c296a3e53df373752534943e5167468f64ac"
   }
  }
 },
 "nbformat": 4,
 "nbformat_minor": 2
}
