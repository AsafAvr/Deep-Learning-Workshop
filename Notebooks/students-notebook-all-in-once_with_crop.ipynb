{
 "cells": [
  {
   "cell_type": "code",
   "execution_count": 3,
   "metadata": {},
   "outputs": [],
   "source": [
    "import os\n",
    "import numpy as np\n",
    "import pandas as pd\n",
    "import matplotlib.pyplot as plt\n",
    "import tensorflow as tf\n",
    "import imageio\n",
    "import tifffile as tiff \n",
    "import pickle\n",
    "from pathlib import Path\n",
    "from skimage import io\n",
    "from tensorflow.keras import backend as K\n",
    "\n",
    "from datetime import datetime\n",
    "# from deepcell.applications import NuclearSegmentation\n",
    "# from deepcell.applications import CellTracking\n"
   ]
  },
  {
   "cell_type": "markdown",
   "metadata": {},
   "source": [
    "### Insert folder to p - all views inside will be analyzed and results will be saved to different folders"
   ]
  },
  {
   "cell_type": "code",
   "execution_count": 4,
   "metadata": {},
   "outputs": [],
   "source": [
    "tif_path = Path(r'C:\\Projects\\DeepCell\\deep\\E5')"
   ]
  },
  {
   "cell_type": "code",
   "execution_count": 5,
   "metadata": {},
   "outputs": [],
   "source": [
    "def get_cord_for_crop(tif_files):\n",
    "    tff = tiff.imread(tif_files[0])\n",
    "    Y_size = tff.shape[0]\n",
    "    X_size = tff.shape[1]\n",
    "    cord_list = []\n",
    "    cord_list.append([0,int(X_size/2),0,int(Y_size/2)])\n",
    "    cord_list.append([0,int(X_size/2),int(Y_size/2), Y_size])\n",
    "    cord_list.append([int(X_size/2),X_size,0,int(Y_size/2)])\n",
    "    cord_list.append([int(X_size/2),X_size,int(Y_size/2), Y_size])\n",
    "    return cord_list\n",
    "\n",
    "def merge_tff_even_crop(tif_files ,cord_list, seq_length = 0):\n",
    "    if cord_list:\n",
    "        x1,x2,y1,y2 = cord_list\n",
    "    if tif_files:\n",
    "        tff = tiff.imread(tif_files[0])\n",
    "        tff = tff[y1:y2,x1:x2]\n",
    "        if len(tff.shape) == 2:\n",
    "            tff = np.expand_dims(tff, axis=-1)\n",
    "        tff = np.expand_dims(tff, axis=0)\n",
    "    if tif_files[1:]:\n",
    "        for i, other in enumerate(tif_files[1:]):\n",
    "            if i%2 == 0:\n",
    "                continue\n",
    "            othertff = tiff.imread(other)\n",
    "            othertff = othertff[y1:y2,x1:x2]\n",
    "            if len(othertff.shape) == 2:\n",
    "                othertff = np.expand_dims(othertff, axis=-1)\n",
    "            othertff = np.expand_dims(othertff, axis=0)\n",
    "            tff = np.concatenate((tff,othertff))\n",
    "\n",
    "    if seq_length > 0 and seq_length < len(tff):\n",
    "        tff = tff[0:seq_length,...]\n",
    "    return tff"
   ]
  },
  {
   "cell_type": "code",
   "execution_count": 6,
   "metadata": {},
   "outputs": [],
   "source": [
    "def merge_tff(tif_files , seq_length = 0):\n",
    "    if tif_files:\n",
    "        tff = tiff.imread(tif_files[0])\n",
    "        if len(tff.shape) == 2:\n",
    "            tff = np.expand_dims(tff, axis=-1)\n",
    "        tff = np.expand_dims(tff, axis=0)\n",
    "    if tif_files[1:]:\n",
    "        for i, other in enumerate(tif_files[1:]):\n",
    "            if i%2 == 0:\n",
    "                continue\n",
    "            othertff = tiff.imread(other)\n",
    "            if len(othertff.shape) == 2:\n",
    "                othertff = np.expand_dims(othertff, axis=-1)\n",
    "            othertff = np.expand_dims(othertff, axis=0)\n",
    "            tff = np.concatenate((tff,othertff))\n",
    "\n",
    "    if seq_length > 0 and seq_length < len(tff):\n",
    "        tff = tff[0:seq_length,...]\n",
    "    return tff"
   ]
  },
  {
   "cell_type": "code",
   "execution_count": 7,
   "metadata": {},
   "outputs": [],
   "source": [
    "def pick_channel(x,channel = 0):\n",
    "    return x[...,channel:(channel+1)]\n"
   ]
  },
  {
   "cell_type": "code",
   "execution_count": 8,
   "metadata": {},
   "outputs": [],
   "source": [
    "def segmentation(x, mpp =1.24):\n",
    "    app = NuclearSegmentation()\n",
    "    y_seg = app.predict(x, image_mpp = mpp)\n",
    "    return y_seg"
   ]
  },
  {
   "cell_type": "code",
   "execution_count": 9,
   "metadata": {},
   "outputs": [],
   "source": [
    "def tracking(x, y_seg):\n",
    "    tracker = CellTracking()\n",
    "    tracked_data = tracker.track(np.copy(x), y_seg)\n",
    "    return tracked_data"
   ]
  },
  {
   "cell_type": "code",
   "execution_count": 10,
   "metadata": {},
   "outputs": [],
   "source": [
    "def plot_tff(im1,im2,vmin,vmax):\n",
    "    fig, ax = plt.subplots(1, 2, figsize=(30, 15))\n",
    "    ax[0].imshow(im1)\n",
    "    ax[0].axis('off')\n",
    "    ax[0].set_title('Raw')\n",
    "    ax[1].imshow(im2, cmap='jet', vmin=vmin, vmax=vmax)\n",
    "    ax[1].set_title('Tracked')\n",
    "    ax[1].axis('off')\n",
    "\n",
    "    fig.canvas.draw()  # draw the canvas, cache the renderer\n",
    "    image = np.frombuffer(fig.canvas.tostring_rgb(), dtype='uint8')\n",
    "    image = image.reshape(fig.canvas.get_width_height()[::-1] + (3,))\n",
    "    plt.close(fig)\n",
    "\n",
    "    return image\n",
    "\n"
   ]
  },
  {
   "cell_type": "code",
   "execution_count": 11,
   "metadata": {},
   "outputs": [],
   "source": [
    "def save_results(x,y_seg, tracked_data, tff_path,well,view):\n",
    "    centroids = pd.DataFrame(columns = range(x.shape[0]))\n",
    "    morphologies = pd.DataFrame(columns = range(x.shape[0]))\n",
    "    embeddings = pd.DataFrame(columns = range(x.shape[0]))\n",
    "\n",
    "    for cell_id, cell_dict in tracked_data['tracks'].items():\n",
    "        for i,frame in enumerate(cell_dict['frames']):\n",
    "            centroids.at[cell_id,frame] = cell_dict['centroid'][i]\n",
    "            morphologies.at[cell_id,frame] = cell_dict['morphologies'][i]\n",
    "            embeddings.at[cell_id,frame] = cell_dict['embedding'][i]\n",
    "\n",
    "    date = datetime.now().strftime(\"%Y-%m-%d_%H-%M-%S\")\n",
    "    directory = f\"Results_{well}_{view}_{date}\"\n",
    "    res_path = tff_path.joinpath(directory)\n",
    "    os.mkdir(res_path)\n",
    "\n",
    "    centroids.to_csv(res_path.joinpath('centroids.csv'))\n",
    "    morphologies.to_csv(res_path.joinpath('morphologies.csv'))\n",
    "    embeddings.to_csv(res_path.joinpath('embeddings.csv'))\n",
    "\n",
    "    with open(res_path.joinpath('track_results.pkl'), 'wb') as f:\n",
    "        pickle.dump(tracked_data, f)\n",
    "\n",
    "    X = tracked_data['X']  # raw X data\n",
    "    y = tracked_data['y_tracked']  # tracked y data\n",
    "\n",
    "    imageio.mimsave(res_path.joinpath('tracks.tif'), [plot_tff(x[i,...,0], y[i,...,0], y.min(), y.max())\n",
    "                                for i in range(y_seg.shape[0])])\n",
    "    imageio.mimsave(res_path.joinpath('tracks.gif'), [plot_tff(x[i,...,0], y[i,...,0], y.min(), y.max())\n",
    "                        for i in range(y_seg.shape[0])])\n",
    "                                "
   ]
  },
  {
   "cell_type": "code",
   "execution_count": 12,
   "metadata": {},
   "outputs": [],
   "source": [
    "tif_files = list(tif_path.glob('*.tif'))\n",
    "well_dict = {}\n",
    "for tif_file in tif_files:\n",
    "    file_name = tif_file.stem.split('_')\n",
    "    well_name = file_name[2]\n",
    "    view_name = file_name[3]\n",
    "    \n",
    "    if well_name not in well_dict:\n",
    "        well_dict[well_name] = {}\n",
    "    if view_name not in well_dict[well_name]:\n",
    "        well_dict[well_name][view_name] = []\n",
    "\n",
    "    well_dict[well_name][view_name].append(tif_file)\n",
    "\n",
    "for well, views in well_dict.items():\n",
    "    for view , view_tif in views.items():\n",
    "        print(f'well:{well} , view:{view}, {len(view_tif)}')"
   ]
  },
  {
   "cell_type": "code",
   "execution_count": 15,
   "metadata": {},
   "outputs": [],
   "source": [
    "for well, views in well_dict.items():\n",
    "    for view , view_tif in views.items():\n",
    "        print(f'well:{well} , view:{view}, {len(view_tif)}')\n",
    "        view_tif.sort()\n",
    "        cord_list = get_cord_for_crop(view_tif)"
   ]
  },
  {
   "cell_type": "code",
   "execution_count": 14,
   "metadata": {},
   "outputs": [],
   "source": [
    "for well, views in well_dict.items():\n",
    "    for view , view_tif in views.items():\n",
    "        print(f'well:{well} , view:{view}, {len(view_tif)}')\n",
    "        view_tif.sort()\n",
    "        cord_list = get_cord_for_crop(view_tif)\n",
    "        for i,cord in enumerate(cord_list):\n",
    "            print(cord)\n",
    "            merged_tff = merge_tff_even_crop(view_tif,cord) # , seq_length = 30\n",
    "            merged_tff = merged_tff[5:,...]\n",
    "            print(merged_tff.shape)\n",
    "            # tff = pick_channel(tff,0)\n",
    "            print(\"Segmentation\")\n",
    "            seg_tff = segmentation(merged_tff, mpp=1.24) \n",
    "            #(Drop if is empty)\n",
    "            print(\"Tracking\")\n",
    "            track_tff = tracking(merged_tff,seg_tff)\n",
    "            save_results(merged_tff,seg_tff,track_tff,tif_path,well,f'{view}_crop_{i}')\n",
    "\n",
    "        "
   ]
  },
  {
   "cell_type": "code",
   "execution_count": null,
   "metadata": {},
   "outputs": [
    {
     "name": "stdout",
     "output_type": "stream",
     "text": [
      "well:D2 , view:2, 95\n",
      "Segmentation\n",
      "WARNING:tensorflow:No training configuration found in save file, so the model was *not* compiled. Compile it manually.\n"
     ]
    },
    {
     "name": "stderr",
     "output_type": "stream",
     "text": [
      "c:\\Projects\\DeepCell\\deepcell-tf\\Environments\\deepcell_mod\\lib\\site-packages\\deepcell_toolbox\\deep_watershed.py:179: FutureWarning: `selem` is a deprecated argument name for `h_maxima`. It will be removed in version 1.0. Please use `footprint` instead.\n",
      "  markers = h_maxima(image=maxima,\n"
     ]
    },
    {
     "name": "stdout",
     "output_type": "stream",
     "text": [
      "Tracking\n",
      "WARNING:tensorflow:No training configuration found in save file, so the model was *not* compiled. Compile it manually.\n"
     ]
    },
    {
     "name": "stderr",
     "output_type": "stream",
     "text": [
      "WARNING:tensorflow:No training configuration found in save file, so the model was *not* compiled. Compile it manually.\n"
     ]
    },
    {
     "name": "stdout",
     "output_type": "stream",
     "text": [
      "WARNING:tensorflow:No training configuration found in save file, so the model was *not* compiled. Compile it manually.\n"
     ]
    },
    {
     "name": "stderr",
     "output_type": "stream",
     "text": [
      "WARNING:tensorflow:No training configuration found in save file, so the model was *not* compiled. Compile it manually.\n"
     ]
    },
    {
     "ename": "ResourceExhaustedError",
     "evalue": "Graph execution error:\n\nDetected at node 'neighborhood_encoder/ln_ae0/FusedBatchNormV3' defined at (most recent call last):\n    File \"C:\\Users\\asafavra\\AppData\\Local\\Programs\\Python\\Python39\\lib\\runpy.py\", line 197, in _run_module_as_main\n      return _run_code(code, main_globals, None,\n    File \"C:\\Users\\asafavra\\AppData\\Local\\Programs\\Python\\Python39\\lib\\runpy.py\", line 87, in _run_code\n      exec(code, run_globals)\n    File \"c:\\Projects\\DeepCell\\deepcell-tf\\Environments\\deepcell_mod\\lib\\site-packages\\ipykernel_launcher.py\", line 17, in <module>\n      app.launch_new_instance()\n    File \"c:\\Projects\\DeepCell\\deepcell-tf\\Environments\\deepcell_mod\\lib\\site-packages\\traitlets\\config\\application.py\", line 976, in launch_instance\n      app.start()\n    File \"c:\\Projects\\DeepCell\\deepcell-tf\\Environments\\deepcell_mod\\lib\\site-packages\\ipykernel\\kernelapp.py\", line 712, in start\n      self.io_loop.start()\n    File \"c:\\Projects\\DeepCell\\deepcell-tf\\Environments\\deepcell_mod\\lib\\site-packages\\tornado\\platform\\asyncio.py\", line 215, in start\n      self.asyncio_loop.run_forever()\n    File \"C:\\Users\\asafavra\\AppData\\Local\\Programs\\Python\\Python39\\lib\\asyncio\\base_events.py\", line 601, in run_forever\n      self._run_once()\n    File \"C:\\Users\\asafavra\\AppData\\Local\\Programs\\Python\\Python39\\lib\\asyncio\\base_events.py\", line 1905, in _run_once\n      handle._run()\n    File \"C:\\Users\\asafavra\\AppData\\Local\\Programs\\Python\\Python39\\lib\\asyncio\\events.py\", line 80, in _run\n      self._context.run(self._callback, *self._args)\n    File \"c:\\Projects\\DeepCell\\deepcell-tf\\Environments\\deepcell_mod\\lib\\site-packages\\ipykernel\\kernelbase.py\", line 510, in dispatch_queue\n      await self.process_one()\n    File \"c:\\Projects\\DeepCell\\deepcell-tf\\Environments\\deepcell_mod\\lib\\site-packages\\ipykernel\\kernelbase.py\", line 499, in process_one\n      await dispatch(*args)\n    File \"c:\\Projects\\DeepCell\\deepcell-tf\\Environments\\deepcell_mod\\lib\\site-packages\\ipykernel\\kernelbase.py\", line 406, in dispatch_shell\n      await result\n    File \"c:\\Projects\\DeepCell\\deepcell-tf\\Environments\\deepcell_mod\\lib\\site-packages\\ipykernel\\kernelbase.py\", line 730, in execute_request\n      reply_content = await reply_content\n    File \"c:\\Projects\\DeepCell\\deepcell-tf\\Environments\\deepcell_mod\\lib\\site-packages\\ipykernel\\ipkernel.py\", line 383, in do_execute\n      res = shell.run_cell(\n    File \"c:\\Projects\\DeepCell\\deepcell-tf\\Environments\\deepcell_mod\\lib\\site-packages\\ipykernel\\zmqshell.py\", line 528, in run_cell\n      return super().run_cell(*args, **kwargs)\n    File \"c:\\Projects\\DeepCell\\deepcell-tf\\Environments\\deepcell_mod\\lib\\site-packages\\IPython\\core\\interactiveshell.py\", line 2881, in run_cell\n      result = self._run_cell(\n    File \"c:\\Projects\\DeepCell\\deepcell-tf\\Environments\\deepcell_mod\\lib\\site-packages\\IPython\\core\\interactiveshell.py\", line 2936, in _run_cell\n      return runner(coro)\n    File \"c:\\Projects\\DeepCell\\deepcell-tf\\Environments\\deepcell_mod\\lib\\site-packages\\IPython\\core\\async_helpers.py\", line 129, in _pseudo_sync_runner\n      coro.send(None)\n    File \"c:\\Projects\\DeepCell\\deepcell-tf\\Environments\\deepcell_mod\\lib\\site-packages\\IPython\\core\\interactiveshell.py\", line 3135, in run_cell_async\n      has_raised = await self.run_ast_nodes(code_ast.body, cell_name,\n    File \"c:\\Projects\\DeepCell\\deepcell-tf\\Environments\\deepcell_mod\\lib\\site-packages\\IPython\\core\\interactiveshell.py\", line 3338, in run_ast_nodes\n      if await self.run_code(code, result, async_=asy):\n    File \"c:\\Projects\\DeepCell\\deepcell-tf\\Environments\\deepcell_mod\\lib\\site-packages\\IPython\\core\\interactiveshell.py\", line 3398, in run_code\n      exec(code_obj, self.user_global_ns, self.user_ns)\n    File \"C:\\Users\\asafavra\\AppData\\Local\\Temp\\2\\ipykernel_7812\\1532390696.py\", line 9, in <cell line: 1>\n      track_tff = tracking(merged_tff,seg_tff)\n    File \"C:\\Users\\asafavra\\AppData\\Local\\Temp\\2\\ipykernel_7812\\579725018.py\", line 3, in tracking\n      tracked_data = tracker.track(np.copy(x), y_seg)\n    File \"c:\\Projects\\DeepCell\\deepcell-tf\\deepcell\\applications\\cell_tracking.py\", line 155, in track\n      return self.predict(image, labels, **kwargs)\n    File \"c:\\Projects\\DeepCell\\deepcell-tf\\deepcell\\applications\\cell_tracking.py\", line 140, in predict\n      cell_tracker = deepcell_tracking.CellTracker(\n    File \"c:\\Projects\\DeepCell\\deepcell-tf\\Environments\\deepcell_mod\\lib\\site-packages\\deepcell_tracking\\tracking.py\", line 147, in __init__\n      embeddings = self._get_neighborhood_embeddings(\n    File \"c:\\Projects\\DeepCell\\deepcell-tf\\Environments\\deepcell_mod\\lib\\site-packages\\deepcell_tracking\\tracking.py\", line 248, in _get_neighborhood_embeddings\n      embeddings = self.neighborhood_encoder.predict(inputs)[self.embedding_axis]\n    File \"c:\\Projects\\DeepCell\\deepcell-tf\\Environments\\deepcell_mod\\lib\\site-packages\\keras\\utils\\traceback_utils.py\", line 64, in error_handler\n      return fn(*args, **kwargs)\n    File \"c:\\Projects\\DeepCell\\deepcell-tf\\Environments\\deepcell_mod\\lib\\site-packages\\keras\\engine\\training.py\", line 1982, in predict\n      tmp_batch_outputs = self.predict_function(iterator)\n    File \"c:\\Projects\\DeepCell\\deepcell-tf\\Environments\\deepcell_mod\\lib\\site-packages\\keras\\engine\\training.py\", line 1801, in predict_function\n      return step_function(self, iterator)\n    File \"c:\\Projects\\DeepCell\\deepcell-tf\\Environments\\deepcell_mod\\lib\\site-packages\\keras\\engine\\training.py\", line 1790, in step_function\n      outputs = model.distribute_strategy.run(run_step, args=(data,))\n    File \"c:\\Projects\\DeepCell\\deepcell-tf\\Environments\\deepcell_mod\\lib\\site-packages\\keras\\engine\\training.py\", line 1783, in run_step\n      outputs = model.predict_step(data)\n    File \"c:\\Projects\\DeepCell\\deepcell-tf\\Environments\\deepcell_mod\\lib\\site-packages\\keras\\engine\\training.py\", line 1751, in predict_step\n      return self(x, training=False)\n    File \"c:\\Projects\\DeepCell\\deepcell-tf\\Environments\\deepcell_mod\\lib\\site-packages\\keras\\utils\\traceback_utils.py\", line 64, in error_handler\n      return fn(*args, **kwargs)\n    File \"c:\\Projects\\DeepCell\\deepcell-tf\\Environments\\deepcell_mod\\lib\\site-packages\\keras\\engine\\base_layer.py\", line 1096, in __call__\n      outputs = call_fn(inputs, *args, **kwargs)\n    File \"c:\\Projects\\DeepCell\\deepcell-tf\\Environments\\deepcell_mod\\lib\\site-packages\\keras\\utils\\traceback_utils.py\", line 92, in error_handler\n      return fn(*args, **kwargs)\n    File \"c:\\Projects\\DeepCell\\deepcell-tf\\Environments\\deepcell_mod\\lib\\site-packages\\keras\\engine\\functional.py\", line 451, in call\n      return self._run_internal_graph(\n    File \"c:\\Projects\\DeepCell\\deepcell-tf\\Environments\\deepcell_mod\\lib\\site-packages\\keras\\engine\\functional.py\", line 589, in _run_internal_graph\n      outputs = node.layer(*args, **kwargs)\n    File \"c:\\Projects\\DeepCell\\deepcell-tf\\Environments\\deepcell_mod\\lib\\site-packages\\keras\\utils\\traceback_utils.py\", line 64, in error_handler\n      return fn(*args, **kwargs)\n    File \"c:\\Projects\\DeepCell\\deepcell-tf\\Environments\\deepcell_mod\\lib\\site-packages\\keras\\engine\\base_layer.py\", line 1096, in __call__\n      outputs = call_fn(inputs, *args, **kwargs)\n    File \"c:\\Projects\\DeepCell\\deepcell-tf\\Environments\\deepcell_mod\\lib\\site-packages\\keras\\utils\\traceback_utils.py\", line 92, in error_handler\n      return fn(*args, **kwargs)\n    File \"c:\\Projects\\DeepCell\\deepcell-tf\\Environments\\deepcell_mod\\lib\\site-packages\\keras\\layers\\normalization\\layer_normalization.py\", line 325, in call\n      outputs, _, _ = tf.compat.v1.nn.fused_batch_norm(\nNode: 'neighborhood_encoder/ln_ae0/FusedBatchNormV3'\nOOM when allocating tensor with shape[91914240] and type float on /job:localhost/replica:0/task:0/device:CPU:0 by allocator cpu\n\t [[{{node neighborhood_encoder/ln_ae0/FusedBatchNormV3}}]]\nHint: If you want to see a list of allocated tensors when OOM happens, add report_tensor_allocations_upon_oom to RunOptions for current allocation info. This isn't available when running in Eager mode.\n [Op:__inference_predict_function_164304]",
     "output_type": "error",
     "traceback": [
      "\u001b[1;31m---------------------------------------------------------------------------\u001b[0m",
      "\u001b[1;31mResourceExhaustedError\u001b[0m                    Traceback (most recent call last)",
      "\u001b[1;32mc:\\Projects\\DeepCell\\deepcell-tf\\notebooks\\students-notebook-all-in-once.ipynb Cell 13\u001b[0m in \u001b[0;36m<cell line: 1>\u001b[1;34m()\u001b[0m\n\u001b[0;32m      <a href='vscode-notebook-cell:/c%3A/Projects/DeepCell/deepcell-tf/notebooks/students-notebook-all-in-once.ipynb#X13sZmlsZQ%3D%3D?line=6'>7</a>\u001b[0m seg_tff \u001b[39m=\u001b[39m segmentation(merged_tff, mpp\u001b[39m=\u001b[39m\u001b[39m1.24\u001b[39m) \n\u001b[0;32m      <a href='vscode-notebook-cell:/c%3A/Projects/DeepCell/deepcell-tf/notebooks/students-notebook-all-in-once.ipynb#X13sZmlsZQ%3D%3D?line=7'>8</a>\u001b[0m \u001b[39mprint\u001b[39m(\u001b[39m\"\u001b[39m\u001b[39mTracking\u001b[39m\u001b[39m\"\u001b[39m)\n\u001b[1;32m----> <a href='vscode-notebook-cell:/c%3A/Projects/DeepCell/deepcell-tf/notebooks/students-notebook-all-in-once.ipynb#X13sZmlsZQ%3D%3D?line=8'>9</a>\u001b[0m track_tff \u001b[39m=\u001b[39m tracking(merged_tff,seg_tff)\n\u001b[0;32m     <a href='vscode-notebook-cell:/c%3A/Projects/DeepCell/deepcell-tf/notebooks/students-notebook-all-in-once.ipynb#X13sZmlsZQ%3D%3D?line=9'>10</a>\u001b[0m save_results(merged_tff,seg_tff,track_tff,tif_path,well,view)\n\u001b[0;32m     <a href='vscode-notebook-cell:/c%3A/Projects/DeepCell/deepcell-tf/notebooks/students-notebook-all-in-once.ipynb#X13sZmlsZQ%3D%3D?line=10'>11</a>\u001b[0m \u001b[39mdel\u001b[39;00m track_tff\n",
      "\u001b[1;32mc:\\Projects\\DeepCell\\deepcell-tf\\notebooks\\students-notebook-all-in-once.ipynb Cell 13\u001b[0m in \u001b[0;36mtracking\u001b[1;34m(x, y_seg)\u001b[0m\n\u001b[0;32m      <a href='vscode-notebook-cell:/c%3A/Projects/DeepCell/deepcell-tf/notebooks/students-notebook-all-in-once.ipynb#X13sZmlsZQ%3D%3D?line=0'>1</a>\u001b[0m \u001b[39mdef\u001b[39;00m \u001b[39mtracking\u001b[39m(x, y_seg):\n\u001b[0;32m      <a href='vscode-notebook-cell:/c%3A/Projects/DeepCell/deepcell-tf/notebooks/students-notebook-all-in-once.ipynb#X13sZmlsZQ%3D%3D?line=1'>2</a>\u001b[0m     tracker \u001b[39m=\u001b[39m CellTracking()\n\u001b[1;32m----> <a href='vscode-notebook-cell:/c%3A/Projects/DeepCell/deepcell-tf/notebooks/students-notebook-all-in-once.ipynb#X13sZmlsZQ%3D%3D?line=2'>3</a>\u001b[0m     tracked_data \u001b[39m=\u001b[39m tracker\u001b[39m.\u001b[39;49mtrack(np\u001b[39m.\u001b[39;49mcopy(x), y_seg)\n\u001b[0;32m      <a href='vscode-notebook-cell:/c%3A/Projects/DeepCell/deepcell-tf/notebooks/students-notebook-all-in-once.ipynb#X13sZmlsZQ%3D%3D?line=3'>4</a>\u001b[0m     \u001b[39mreturn\u001b[39;00m tracked_data\n",
      "File \u001b[1;32mc:\\Projects\\DeepCell\\deepcell-tf\\deepcell\\applications\\cell_tracking.py:155\u001b[0m, in \u001b[0;36mCellTracking.track\u001b[1;34m(self, image, labels, **kwargs)\u001b[0m\n\u001b[0;32m    153\u001b[0m \u001b[39mdef\u001b[39;00m \u001b[39mtrack\u001b[39m(\u001b[39mself\u001b[39m, image, labels, \u001b[39m*\u001b[39m\u001b[39m*\u001b[39mkwargs):\n\u001b[0;32m    154\u001b[0m     \u001b[39m\"\"\"Wrapper around predict() for convenience.\"\"\"\u001b[39;00m\n\u001b[1;32m--> 155\u001b[0m     \u001b[39mreturn\u001b[39;00m \u001b[39mself\u001b[39m\u001b[39m.\u001b[39mpredict(image, labels, \u001b[39m*\u001b[39m\u001b[39m*\u001b[39mkwargs)\n",
      "File \u001b[1;32mc:\\Projects\\DeepCell\\deepcell-tf\\deepcell\\applications\\cell_tracking.py:140\u001b[0m, in \u001b[0;36mCellTracking.predict\u001b[1;34m(self, image, labels, **kwargs)\u001b[0m\n\u001b[0;32m    128\u001b[0m \u001b[39m\"\"\"Using both raw image data and segmentation masks,\u001b[39;00m\n\u001b[0;32m    129\u001b[0m \u001b[39mtrack objects across all frames.\u001b[39;00m\n\u001b[0;32m    130\u001b[0m \n\u001b[1;32m   (...)\u001b[0m\n\u001b[0;32m    136\u001b[0m \u001b[39m    dict: Tracked labels and lineage information.\u001b[39;00m\n\u001b[0;32m    137\u001b[0m \u001b[39m\"\"\"\u001b[39;00m\n\u001b[0;32m    138\u001b[0m image_norm \u001b[39m=\u001b[39m normalize(image)\n\u001b[1;32m--> 140\u001b[0m cell_tracker \u001b[39m=\u001b[39m deepcell_tracking\u001b[39m.\u001b[39;49mCellTracker(\n\u001b[0;32m    141\u001b[0m     image_norm, labels, \u001b[39mself\u001b[39;49m\u001b[39m.\u001b[39;49mmodel,\n\u001b[0;32m    142\u001b[0m     neighborhood_encoder\u001b[39m=\u001b[39;49m\u001b[39mself\u001b[39;49m\u001b[39m.\u001b[39;49mneighborhood_encoder,\n\u001b[0;32m    143\u001b[0m     distance_threshold\u001b[39m=\u001b[39;49m\u001b[39mself\u001b[39;49m\u001b[39m.\u001b[39;49mdistance_threshold,\n\u001b[0;32m    144\u001b[0m     track_length\u001b[39m=\u001b[39;49m\u001b[39mself\u001b[39;49m\u001b[39m.\u001b[39;49mtrack_length,\n\u001b[0;32m    145\u001b[0m     embedding_axis\u001b[39m=\u001b[39;49m\u001b[39mself\u001b[39;49m\u001b[39m.\u001b[39;49membedding_axis,\n\u001b[0;32m    146\u001b[0m     birth\u001b[39m=\u001b[39;49m\u001b[39mself\u001b[39;49m\u001b[39m.\u001b[39;49mbirth, death\u001b[39m=\u001b[39;49m\u001b[39mself\u001b[39;49m\u001b[39m.\u001b[39;49mdeath,\n\u001b[0;32m    147\u001b[0m     division\u001b[39m=\u001b[39;49m\u001b[39mself\u001b[39;49m\u001b[39m.\u001b[39;49mdivision)\n\u001b[0;32m    149\u001b[0m cell_tracker\u001b[39m.\u001b[39mtrack_cells()\n\u001b[0;32m    151\u001b[0m \u001b[39mreturn\u001b[39;00m cell_tracker\u001b[39m.\u001b[39m_track_review_dict()\n",
      "File \u001b[1;32mc:\\Projects\\DeepCell\\deepcell-tf\\Environments\\deepcell_mod\\lib\\site-packages\\deepcell_tracking\\tracking.py:147\u001b[0m, in \u001b[0;36mCellTracker.__init__\u001b[1;34m(self, movie, annotation, tracking_model, neighborhood_encoder, distance_threshold, appearance_dim, death, birth, division, track_length, embedding_axis, dtype, data_format)\u001b[0m\n\u001b[0;32m    144\u001b[0m adj_matrices, appearances, morphologies, centroids \u001b[39m=\u001b[39m \u001b[39mself\u001b[39m\u001b[39m.\u001b[39m_est_feats()\n\u001b[0;32m    146\u001b[0m \u001b[39m# Compute embeddings for every instance of every cell in the movie\u001b[39;00m\n\u001b[1;32m--> 147\u001b[0m embeddings \u001b[39m=\u001b[39m \u001b[39mself\u001b[39;49m\u001b[39m.\u001b[39;49m_get_neighborhood_embeddings(\n\u001b[0;32m    148\u001b[0m     appearances\u001b[39m=\u001b[39;49mappearances,\n\u001b[0;32m    149\u001b[0m     morphologies\u001b[39m=\u001b[39;49mmorphologies,\n\u001b[0;32m    150\u001b[0m     centroids\u001b[39m=\u001b[39;49mcentroids,\n\u001b[0;32m    151\u001b[0m     adj_matrices\u001b[39m=\u001b[39;49madj_matrices)\n\u001b[0;32m    153\u001b[0m \u001b[39m# TODO: immutable dict for safety? these values should never change.\u001b[39;00m\n\u001b[0;32m    154\u001b[0m \u001b[39mself\u001b[39m\u001b[39m.\u001b[39mfeatures \u001b[39m=\u001b[39m {\n\u001b[0;32m    155\u001b[0m     \u001b[39m'\u001b[39m\u001b[39membedding\u001b[39m\u001b[39m'\u001b[39m: embeddings,\n\u001b[0;32m    156\u001b[0m     \u001b[39m'\u001b[39m\u001b[39mcentroid\u001b[39m\u001b[39m'\u001b[39m: centroids,\n\u001b[0;32m    157\u001b[0m     \u001b[39m'\u001b[39m\u001b[39mmorphologies\u001b[39m\u001b[39m'\u001b[39m:morphologies\n\u001b[0;32m    158\u001b[0m }\n",
      "File \u001b[1;32mc:\\Projects\\DeepCell\\deepcell-tf\\Environments\\deepcell_mod\\lib\\site-packages\\deepcell_tracking\\tracking.py:248\u001b[0m, in \u001b[0;36mCellTracker._get_neighborhood_embeddings\u001b[1;34m(self, appearances, morphologies, centroids, adj_matrices)\u001b[0m\n\u001b[0;32m    239\u001b[0m inputs \u001b[39m=\u001b[39m {\n\u001b[0;32m    240\u001b[0m     \u001b[39m'\u001b[39m\u001b[39mencoder_app_input\u001b[39m\u001b[39m'\u001b[39m: appearances,\n\u001b[0;32m    241\u001b[0m     \u001b[39m'\u001b[39m\u001b[39mencoder_morph_input\u001b[39m\u001b[39m'\u001b[39m: morphologies,\n\u001b[0;32m    242\u001b[0m     \u001b[39m'\u001b[39m\u001b[39mencoder_centroid_input\u001b[39m\u001b[39m'\u001b[39m: centroids,\n\u001b[0;32m    243\u001b[0m     \u001b[39m'\u001b[39m\u001b[39mencoder_adj_input\u001b[39m\u001b[39m'\u001b[39m: adj_matrices,\n\u001b[0;32m    244\u001b[0m }\n\u001b[0;32m    246\u001b[0m \u001b[39m# TODO: current model doesnt organize outputs according to ordered list\u001b[39;00m\n\u001b[0;32m    247\u001b[0m \u001b[39m#       patching with embedding_axis\u001b[39;00m\n\u001b[1;32m--> 248\u001b[0m embeddings \u001b[39m=\u001b[39m \u001b[39mself\u001b[39;49m\u001b[39m.\u001b[39;49mneighborhood_encoder\u001b[39m.\u001b[39;49mpredict(inputs)[\u001b[39mself\u001b[39m\u001b[39m.\u001b[39membedding_axis]\n\u001b[0;32m    249\u001b[0m embeddings \u001b[39m=\u001b[39m np\u001b[39m.\u001b[39marray(embeddings)\n\u001b[0;32m    250\u001b[0m \u001b[39mreturn\u001b[39;00m embeddings\n",
      "File \u001b[1;32mc:\\Projects\\DeepCell\\deepcell-tf\\Environments\\deepcell_mod\\lib\\site-packages\\keras\\utils\\traceback_utils.py:67\u001b[0m, in \u001b[0;36mfilter_traceback.<locals>.error_handler\u001b[1;34m(*args, **kwargs)\u001b[0m\n\u001b[0;32m     65\u001b[0m \u001b[39mexcept\u001b[39;00m \u001b[39mException\u001b[39;00m \u001b[39mas\u001b[39;00m e:  \u001b[39m# pylint: disable=broad-except\u001b[39;00m\n\u001b[0;32m     66\u001b[0m   filtered_tb \u001b[39m=\u001b[39m _process_traceback_frames(e\u001b[39m.\u001b[39m__traceback__)\n\u001b[1;32m---> 67\u001b[0m   \u001b[39mraise\u001b[39;00m e\u001b[39m.\u001b[39mwith_traceback(filtered_tb) \u001b[39mfrom\u001b[39;00m \u001b[39mNone\u001b[39m\n\u001b[0;32m     68\u001b[0m \u001b[39mfinally\u001b[39;00m:\n\u001b[0;32m     69\u001b[0m   \u001b[39mdel\u001b[39;00m filtered_tb\n",
      "File \u001b[1;32mc:\\Projects\\DeepCell\\deepcell-tf\\Environments\\deepcell_mod\\lib\\site-packages\\tensorflow\\python\\eager\\execute.py:54\u001b[0m, in \u001b[0;36mquick_execute\u001b[1;34m(op_name, num_outputs, inputs, attrs, ctx, name)\u001b[0m\n\u001b[0;32m     52\u001b[0m \u001b[39mtry\u001b[39;00m:\n\u001b[0;32m     53\u001b[0m   ctx\u001b[39m.\u001b[39mensure_initialized()\n\u001b[1;32m---> 54\u001b[0m   tensors \u001b[39m=\u001b[39m pywrap_tfe\u001b[39m.\u001b[39mTFE_Py_Execute(ctx\u001b[39m.\u001b[39m_handle, device_name, op_name,\n\u001b[0;32m     55\u001b[0m                                       inputs, attrs, num_outputs)\n\u001b[0;32m     56\u001b[0m \u001b[39mexcept\u001b[39;00m core\u001b[39m.\u001b[39m_NotOkStatusException \u001b[39mas\u001b[39;00m e:\n\u001b[0;32m     57\u001b[0m   \u001b[39mif\u001b[39;00m name \u001b[39mis\u001b[39;00m \u001b[39mnot\u001b[39;00m \u001b[39mNone\u001b[39;00m:\n",
      "\u001b[1;31mResourceExhaustedError\u001b[0m: Graph execution error:\n\nDetected at node 'neighborhood_encoder/ln_ae0/FusedBatchNormV3' defined at (most recent call last):\n    File \"C:\\Users\\asafavra\\AppData\\Local\\Programs\\Python\\Python39\\lib\\runpy.py\", line 197, in _run_module_as_main\n      return _run_code(code, main_globals, None,\n    File \"C:\\Users\\asafavra\\AppData\\Local\\Programs\\Python\\Python39\\lib\\runpy.py\", line 87, in _run_code\n      exec(code, run_globals)\n    File \"c:\\Projects\\DeepCell\\deepcell-tf\\Environments\\deepcell_mod\\lib\\site-packages\\ipykernel_launcher.py\", line 17, in <module>\n      app.launch_new_instance()\n    File \"c:\\Projects\\DeepCell\\deepcell-tf\\Environments\\deepcell_mod\\lib\\site-packages\\traitlets\\config\\application.py\", line 976, in launch_instance\n      app.start()\n    File \"c:\\Projects\\DeepCell\\deepcell-tf\\Environments\\deepcell_mod\\lib\\site-packages\\ipykernel\\kernelapp.py\", line 712, in start\n      self.io_loop.start()\n    File \"c:\\Projects\\DeepCell\\deepcell-tf\\Environments\\deepcell_mod\\lib\\site-packages\\tornado\\platform\\asyncio.py\", line 215, in start\n      self.asyncio_loop.run_forever()\n    File \"C:\\Users\\asafavra\\AppData\\Local\\Programs\\Python\\Python39\\lib\\asyncio\\base_events.py\", line 601, in run_forever\n      self._run_once()\n    File \"C:\\Users\\asafavra\\AppData\\Local\\Programs\\Python\\Python39\\lib\\asyncio\\base_events.py\", line 1905, in _run_once\n      handle._run()\n    File \"C:\\Users\\asafavra\\AppData\\Local\\Programs\\Python\\Python39\\lib\\asyncio\\events.py\", line 80, in _run\n      self._context.run(self._callback, *self._args)\n    File \"c:\\Projects\\DeepCell\\deepcell-tf\\Environments\\deepcell_mod\\lib\\site-packages\\ipykernel\\kernelbase.py\", line 510, in dispatch_queue\n      await self.process_one()\n    File \"c:\\Projects\\DeepCell\\deepcell-tf\\Environments\\deepcell_mod\\lib\\site-packages\\ipykernel\\kernelbase.py\", line 499, in process_one\n      await dispatch(*args)\n    File \"c:\\Projects\\DeepCell\\deepcell-tf\\Environments\\deepcell_mod\\lib\\site-packages\\ipykernel\\kernelbase.py\", line 406, in dispatch_shell\n      await result\n    File \"c:\\Projects\\DeepCell\\deepcell-tf\\Environments\\deepcell_mod\\lib\\site-packages\\ipykernel\\kernelbase.py\", line 730, in execute_request\n      reply_content = await reply_content\n    File \"c:\\Projects\\DeepCell\\deepcell-tf\\Environments\\deepcell_mod\\lib\\site-packages\\ipykernel\\ipkernel.py\", line 383, in do_execute\n      res = shell.run_cell(\n    File \"c:\\Projects\\DeepCell\\deepcell-tf\\Environments\\deepcell_mod\\lib\\site-packages\\ipykernel\\zmqshell.py\", line 528, in run_cell\n      return super().run_cell(*args, **kwargs)\n    File \"c:\\Projects\\DeepCell\\deepcell-tf\\Environments\\deepcell_mod\\lib\\site-packages\\IPython\\core\\interactiveshell.py\", line 2881, in run_cell\n      result = self._run_cell(\n    File \"c:\\Projects\\DeepCell\\deepcell-tf\\Environments\\deepcell_mod\\lib\\site-packages\\IPython\\core\\interactiveshell.py\", line 2936, in _run_cell\n      return runner(coro)\n    File \"c:\\Projects\\DeepCell\\deepcell-tf\\Environments\\deepcell_mod\\lib\\site-packages\\IPython\\core\\async_helpers.py\", line 129, in _pseudo_sync_runner\n      coro.send(None)\n    File \"c:\\Projects\\DeepCell\\deepcell-tf\\Environments\\deepcell_mod\\lib\\site-packages\\IPython\\core\\interactiveshell.py\", line 3135, in run_cell_async\n      has_raised = await self.run_ast_nodes(code_ast.body, cell_name,\n    File \"c:\\Projects\\DeepCell\\deepcell-tf\\Environments\\deepcell_mod\\lib\\site-packages\\IPython\\core\\interactiveshell.py\", line 3338, in run_ast_nodes\n      if await self.run_code(code, result, async_=asy):\n    File \"c:\\Projects\\DeepCell\\deepcell-tf\\Environments\\deepcell_mod\\lib\\site-packages\\IPython\\core\\interactiveshell.py\", line 3398, in run_code\n      exec(code_obj, self.user_global_ns, self.user_ns)\n    File \"C:\\Users\\asafavra\\AppData\\Local\\Temp\\2\\ipykernel_7812\\1532390696.py\", line 9, in <cell line: 1>\n      track_tff = tracking(merged_tff,seg_tff)\n    File \"C:\\Users\\asafavra\\AppData\\Local\\Temp\\2\\ipykernel_7812\\579725018.py\", line 3, in tracking\n      tracked_data = tracker.track(np.copy(x), y_seg)\n    File \"c:\\Projects\\DeepCell\\deepcell-tf\\deepcell\\applications\\cell_tracking.py\", line 155, in track\n      return self.predict(image, labels, **kwargs)\n    File \"c:\\Projects\\DeepCell\\deepcell-tf\\deepcell\\applications\\cell_tracking.py\", line 140, in predict\n      cell_tracker = deepcell_tracking.CellTracker(\n    File \"c:\\Projects\\DeepCell\\deepcell-tf\\Environments\\deepcell_mod\\lib\\site-packages\\deepcell_tracking\\tracking.py\", line 147, in __init__\n      embeddings = self._get_neighborhood_embeddings(\n    File \"c:\\Projects\\DeepCell\\deepcell-tf\\Environments\\deepcell_mod\\lib\\site-packages\\deepcell_tracking\\tracking.py\", line 248, in _get_neighborhood_embeddings\n      embeddings = self.neighborhood_encoder.predict(inputs)[self.embedding_axis]\n    File \"c:\\Projects\\DeepCell\\deepcell-tf\\Environments\\deepcell_mod\\lib\\site-packages\\keras\\utils\\traceback_utils.py\", line 64, in error_handler\n      return fn(*args, **kwargs)\n    File \"c:\\Projects\\DeepCell\\deepcell-tf\\Environments\\deepcell_mod\\lib\\site-packages\\keras\\engine\\training.py\", line 1982, in predict\n      tmp_batch_outputs = self.predict_function(iterator)\n    File \"c:\\Projects\\DeepCell\\deepcell-tf\\Environments\\deepcell_mod\\lib\\site-packages\\keras\\engine\\training.py\", line 1801, in predict_function\n      return step_function(self, iterator)\n    File \"c:\\Projects\\DeepCell\\deepcell-tf\\Environments\\deepcell_mod\\lib\\site-packages\\keras\\engine\\training.py\", line 1790, in step_function\n      outputs = model.distribute_strategy.run(run_step, args=(data,))\n    File \"c:\\Projects\\DeepCell\\deepcell-tf\\Environments\\deepcell_mod\\lib\\site-packages\\keras\\engine\\training.py\", line 1783, in run_step\n      outputs = model.predict_step(data)\n    File \"c:\\Projects\\DeepCell\\deepcell-tf\\Environments\\deepcell_mod\\lib\\site-packages\\keras\\engine\\training.py\", line 1751, in predict_step\n      return self(x, training=False)\n    File \"c:\\Projects\\DeepCell\\deepcell-tf\\Environments\\deepcell_mod\\lib\\site-packages\\keras\\utils\\traceback_utils.py\", line 64, in error_handler\n      return fn(*args, **kwargs)\n    File \"c:\\Projects\\DeepCell\\deepcell-tf\\Environments\\deepcell_mod\\lib\\site-packages\\keras\\engine\\base_layer.py\", line 1096, in __call__\n      outputs = call_fn(inputs, *args, **kwargs)\n    File \"c:\\Projects\\DeepCell\\deepcell-tf\\Environments\\deepcell_mod\\lib\\site-packages\\keras\\utils\\traceback_utils.py\", line 92, in error_handler\n      return fn(*args, **kwargs)\n    File \"c:\\Projects\\DeepCell\\deepcell-tf\\Environments\\deepcell_mod\\lib\\site-packages\\keras\\engine\\functional.py\", line 451, in call\n      return self._run_internal_graph(\n    File \"c:\\Projects\\DeepCell\\deepcell-tf\\Environments\\deepcell_mod\\lib\\site-packages\\keras\\engine\\functional.py\", line 589, in _run_internal_graph\n      outputs = node.layer(*args, **kwargs)\n    File \"c:\\Projects\\DeepCell\\deepcell-tf\\Environments\\deepcell_mod\\lib\\site-packages\\keras\\utils\\traceback_utils.py\", line 64, in error_handler\n      return fn(*args, **kwargs)\n    File \"c:\\Projects\\DeepCell\\deepcell-tf\\Environments\\deepcell_mod\\lib\\site-packages\\keras\\engine\\base_layer.py\", line 1096, in __call__\n      outputs = call_fn(inputs, *args, **kwargs)\n    File \"c:\\Projects\\DeepCell\\deepcell-tf\\Environments\\deepcell_mod\\lib\\site-packages\\keras\\utils\\traceback_utils.py\", line 92, in error_handler\n      return fn(*args, **kwargs)\n    File \"c:\\Projects\\DeepCell\\deepcell-tf\\Environments\\deepcell_mod\\lib\\site-packages\\keras\\layers\\normalization\\layer_normalization.py\", line 325, in call\n      outputs, _, _ = tf.compat.v1.nn.fused_batch_norm(\nNode: 'neighborhood_encoder/ln_ae0/FusedBatchNormV3'\nOOM when allocating tensor with shape[91914240] and type float on /job:localhost/replica:0/task:0/device:CPU:0 by allocator cpu\n\t [[{{node neighborhood_encoder/ln_ae0/FusedBatchNormV3}}]]\nHint: If you want to see a list of allocated tensors when OOM happens, add report_tensor_allocations_upon_oom to RunOptions for current allocation info. This isn't available when running in Eager mode.\n [Op:__inference_predict_function_164304]"
     ]
    }
   ],
   "source": [
    "# for well, views in well_dict.items():\n",
    "#     for view , view_tif in views.items():\n",
    "#         print(f'well:{well} , view:{view}, {len(view_tif)}')\n",
    "#         merged_tff = merge_tff(view_tif) #, seq_length= 30\n",
    "#         merged_tff = merged_tff[5:,...]\n",
    "#         # tff = pick_channel(tff,0)\n",
    "#         print(\"Segmentation\")\n",
    "#         seg_tff = segmentation(merged_tff, mpp=1.24) \n",
    "#         print(\"Tracking\")\n",
    "#         track_tff = tracking(merged_tff,seg_tff)\n",
    "#         save_results(merged_tff,seg_tff,track_tff,tif_path,well,view)\n",
    "#         del track_tff\n",
    "#         del seg_tff"
   ]
  },
  {
   "cell_type": "code",
   "execution_count": 16,
   "metadata": {},
   "outputs": [
    {
     "data": {
      "text/plain": [
       "(48, 1040, 1408, 1)"
      ]
     },
     "execution_count": 16,
     "metadata": {},
     "output_type": "execute_result"
    }
   ],
   "source": [
    "merged_tff.shape"
   ]
  },
  {
   "cell_type": "code",
   "execution_count": 15,
   "metadata": {},
   "outputs": [
    {
     "data": {
      "text/plain": [
       "(48, 1040, 1408, 1)"
      ]
     },
     "execution_count": 15,
     "metadata": {},
     "output_type": "execute_result"
    }
   ],
   "source": [
    "seg_tff.shape"
   ]
  },
  {
   "cell_type": "code",
   "execution_count": 17,
   "metadata": {},
   "outputs": [],
   "source": [
    "merged_tff = merged_tff[18:,...]\n",
    "seg_tff = seg_tff[18:,...]"
   ]
  },
  {
   "cell_type": "code",
   "execution_count": 18,
   "metadata": {},
   "outputs": [
    {
     "data": {
      "text/plain": [
       "(30, 1040, 1408, 1)"
      ]
     },
     "execution_count": 18,
     "metadata": {},
     "output_type": "execute_result"
    }
   ],
   "source": [
    "print(merged_tff.shape , seg_tff.shape)"
   ]
  },
  {
   "cell_type": "code",
   "execution_count": 19,
   "metadata": {},
   "outputs": [
    {
     "data": {
      "text/plain": [
       "(30, 1040, 1408, 1)"
      ]
     },
     "execution_count": 19,
     "metadata": {},
     "output_type": "execute_result"
    }
   ],
   "source": []
  },
  {
   "cell_type": "code",
   "execution_count": 20,
   "metadata": {},
   "outputs": [
    {
     "name": "stdout",
     "output_type": "stream",
     "text": [
      "WARNING:tensorflow:No training configuration found in save file, so the model was *not* compiled. Compile it manually.\n"
     ]
    },
    {
     "name": "stderr",
     "output_type": "stream",
     "text": [
      "WARNING:tensorflow:No training configuration found in save file, so the model was *not* compiled. Compile it manually.\n"
     ]
    },
    {
     "name": "stdout",
     "output_type": "stream",
     "text": [
      "WARNING:tensorflow:No training configuration found in save file, so the model was *not* compiled. Compile it manually.\n"
     ]
    },
    {
     "name": "stderr",
     "output_type": "stream",
     "text": [
      "WARNING:tensorflow:No training configuration found in save file, so the model was *not* compiled. Compile it manually.\n"
     ]
    },
    {
     "ename": "ResourceExhaustedError",
     "evalue": "Graph execution error:\n\nDetected at node 'neighborhood_encoder/ln_ae0/FusedBatchNormV3' defined at (most recent call last):\n    File \"C:\\Users\\asafavra\\AppData\\Local\\Programs\\Python\\Python39\\lib\\runpy.py\", line 197, in _run_module_as_main\n      return _run_code(code, main_globals, None,\n    File \"C:\\Users\\asafavra\\AppData\\Local\\Programs\\Python\\Python39\\lib\\runpy.py\", line 87, in _run_code\n      exec(code, run_globals)\n    File \"c:\\Projects\\DeepCell\\deepcell-tf\\Environments\\deepcell_mod\\lib\\site-packages\\ipykernel_launcher.py\", line 17, in <module>\n      app.launch_new_instance()\n    File \"c:\\Projects\\DeepCell\\deepcell-tf\\Environments\\deepcell_mod\\lib\\site-packages\\traitlets\\config\\application.py\", line 976, in launch_instance\n      app.start()\n    File \"c:\\Projects\\DeepCell\\deepcell-tf\\Environments\\deepcell_mod\\lib\\site-packages\\ipykernel\\kernelapp.py\", line 712, in start\n      self.io_loop.start()\n    File \"c:\\Projects\\DeepCell\\deepcell-tf\\Environments\\deepcell_mod\\lib\\site-packages\\tornado\\platform\\asyncio.py\", line 215, in start\n      self.asyncio_loop.run_forever()\n    File \"C:\\Users\\asafavra\\AppData\\Local\\Programs\\Python\\Python39\\lib\\asyncio\\base_events.py\", line 601, in run_forever\n      self._run_once()\n    File \"C:\\Users\\asafavra\\AppData\\Local\\Programs\\Python\\Python39\\lib\\asyncio\\base_events.py\", line 1905, in _run_once\n      handle._run()\n    File \"C:\\Users\\asafavra\\AppData\\Local\\Programs\\Python\\Python39\\lib\\asyncio\\events.py\", line 80, in _run\n      self._context.run(self._callback, *self._args)\n    File \"c:\\Projects\\DeepCell\\deepcell-tf\\Environments\\deepcell_mod\\lib\\site-packages\\ipykernel\\kernelbase.py\", line 510, in dispatch_queue\n      await self.process_one()\n    File \"c:\\Projects\\DeepCell\\deepcell-tf\\Environments\\deepcell_mod\\lib\\site-packages\\ipykernel\\kernelbase.py\", line 499, in process_one\n      await dispatch(*args)\n    File \"c:\\Projects\\DeepCell\\deepcell-tf\\Environments\\deepcell_mod\\lib\\site-packages\\ipykernel\\kernelbase.py\", line 406, in dispatch_shell\n      await result\n    File \"c:\\Projects\\DeepCell\\deepcell-tf\\Environments\\deepcell_mod\\lib\\site-packages\\ipykernel\\kernelbase.py\", line 730, in execute_request\n      reply_content = await reply_content\n    File \"c:\\Projects\\DeepCell\\deepcell-tf\\Environments\\deepcell_mod\\lib\\site-packages\\ipykernel\\ipkernel.py\", line 383, in do_execute\n      res = shell.run_cell(\n    File \"c:\\Projects\\DeepCell\\deepcell-tf\\Environments\\deepcell_mod\\lib\\site-packages\\ipykernel\\zmqshell.py\", line 528, in run_cell\n      return super().run_cell(*args, **kwargs)\n    File \"c:\\Projects\\DeepCell\\deepcell-tf\\Environments\\deepcell_mod\\lib\\site-packages\\IPython\\core\\interactiveshell.py\", line 2881, in run_cell\n      result = self._run_cell(\n    File \"c:\\Projects\\DeepCell\\deepcell-tf\\Environments\\deepcell_mod\\lib\\site-packages\\IPython\\core\\interactiveshell.py\", line 2936, in _run_cell\n      return runner(coro)\n    File \"c:\\Projects\\DeepCell\\deepcell-tf\\Environments\\deepcell_mod\\lib\\site-packages\\IPython\\core\\async_helpers.py\", line 129, in _pseudo_sync_runner\n      coro.send(None)\n    File \"c:\\Projects\\DeepCell\\deepcell-tf\\Environments\\deepcell_mod\\lib\\site-packages\\IPython\\core\\interactiveshell.py\", line 3135, in run_cell_async\n      has_raised = await self.run_ast_nodes(code_ast.body, cell_name,\n    File \"c:\\Projects\\DeepCell\\deepcell-tf\\Environments\\deepcell_mod\\lib\\site-packages\\IPython\\core\\interactiveshell.py\", line 3338, in run_ast_nodes\n      if await self.run_code(code, result, async_=asy):\n    File \"c:\\Projects\\DeepCell\\deepcell-tf\\Environments\\deepcell_mod\\lib\\site-packages\\IPython\\core\\interactiveshell.py\", line 3398, in run_code\n      exec(code_obj, self.user_global_ns, self.user_ns)\n    File \"C:\\Users\\asafavra\\AppData\\Local\\Temp\\2\\ipykernel_7812\\1721055318.py\", line 1, in <cell line: 1>\n      track_tff = tracking(merged_tff,seg_tff)\n    File \"C:\\Users\\asafavra\\AppData\\Local\\Temp\\2\\ipykernel_7812\\579725018.py\", line 3, in tracking\n      tracked_data = tracker.track(np.copy(x), y_seg)\n    File \"c:\\Projects\\DeepCell\\deepcell-tf\\deepcell\\applications\\cell_tracking.py\", line 155, in track\n      return self.predict(image, labels, **kwargs)\n    File \"c:\\Projects\\DeepCell\\deepcell-tf\\deepcell\\applications\\cell_tracking.py\", line 140, in predict\n      cell_tracker = deepcell_tracking.CellTracker(\n    File \"c:\\Projects\\DeepCell\\deepcell-tf\\Environments\\deepcell_mod\\lib\\site-packages\\deepcell_tracking\\tracking.py\", line 147, in __init__\n      embeddings = self._get_neighborhood_embeddings(\n    File \"c:\\Projects\\DeepCell\\deepcell-tf\\Environments\\deepcell_mod\\lib\\site-packages\\deepcell_tracking\\tracking.py\", line 248, in _get_neighborhood_embeddings\n      embeddings = self.neighborhood_encoder.predict(inputs)[self.embedding_axis]\n    File \"c:\\Projects\\DeepCell\\deepcell-tf\\Environments\\deepcell_mod\\lib\\site-packages\\keras\\utils\\traceback_utils.py\", line 64, in error_handler\n      return fn(*args, **kwargs)\n    File \"c:\\Projects\\DeepCell\\deepcell-tf\\Environments\\deepcell_mod\\lib\\site-packages\\keras\\engine\\training.py\", line 1982, in predict\n      tmp_batch_outputs = self.predict_function(iterator)\n    File \"c:\\Projects\\DeepCell\\deepcell-tf\\Environments\\deepcell_mod\\lib\\site-packages\\keras\\engine\\training.py\", line 1801, in predict_function\n      return step_function(self, iterator)\n    File \"c:\\Projects\\DeepCell\\deepcell-tf\\Environments\\deepcell_mod\\lib\\site-packages\\keras\\engine\\training.py\", line 1790, in step_function\n      outputs = model.distribute_strategy.run(run_step, args=(data,))\n    File \"c:\\Projects\\DeepCell\\deepcell-tf\\Environments\\deepcell_mod\\lib\\site-packages\\keras\\engine\\training.py\", line 1783, in run_step\n      outputs = model.predict_step(data)\n    File \"c:\\Projects\\DeepCell\\deepcell-tf\\Environments\\deepcell_mod\\lib\\site-packages\\keras\\engine\\training.py\", line 1751, in predict_step\n      return self(x, training=False)\n    File \"c:\\Projects\\DeepCell\\deepcell-tf\\Environments\\deepcell_mod\\lib\\site-packages\\keras\\utils\\traceback_utils.py\", line 64, in error_handler\n      return fn(*args, **kwargs)\n    File \"c:\\Projects\\DeepCell\\deepcell-tf\\Environments\\deepcell_mod\\lib\\site-packages\\keras\\engine\\base_layer.py\", line 1096, in __call__\n      outputs = call_fn(inputs, *args, **kwargs)\n    File \"c:\\Projects\\DeepCell\\deepcell-tf\\Environments\\deepcell_mod\\lib\\site-packages\\keras\\utils\\traceback_utils.py\", line 92, in error_handler\n      return fn(*args, **kwargs)\n    File \"c:\\Projects\\DeepCell\\deepcell-tf\\Environments\\deepcell_mod\\lib\\site-packages\\keras\\engine\\functional.py\", line 451, in call\n      return self._run_internal_graph(\n    File \"c:\\Projects\\DeepCell\\deepcell-tf\\Environments\\deepcell_mod\\lib\\site-packages\\keras\\engine\\functional.py\", line 589, in _run_internal_graph\n      outputs = node.layer(*args, **kwargs)\n    File \"c:\\Projects\\DeepCell\\deepcell-tf\\Environments\\deepcell_mod\\lib\\site-packages\\keras\\utils\\traceback_utils.py\", line 64, in error_handler\n      return fn(*args, **kwargs)\n    File \"c:\\Projects\\DeepCell\\deepcell-tf\\Environments\\deepcell_mod\\lib\\site-packages\\keras\\engine\\base_layer.py\", line 1096, in __call__\n      outputs = call_fn(inputs, *args, **kwargs)\n    File \"c:\\Projects\\DeepCell\\deepcell-tf\\Environments\\deepcell_mod\\lib\\site-packages\\keras\\utils\\traceback_utils.py\", line 92, in error_handler\n      return fn(*args, **kwargs)\n    File \"c:\\Projects\\DeepCell\\deepcell-tf\\Environments\\deepcell_mod\\lib\\site-packages\\keras\\layers\\normalization\\layer_normalization.py\", line 325, in call\n      outputs, _, _ = tf.compat.v1.nn.fused_batch_norm(\nNode: 'neighborhood_encoder/ln_ae0/FusedBatchNormV3'\nOOM when allocating tensor with shape[1,64,1,86169600] and type float on /job:localhost/replica:0/task:0/device:CPU:0 by allocator cpu\n\t [[{{node neighborhood_encoder/ln_ae0/FusedBatchNormV3}}]]\nHint: If you want to see a list of allocated tensors when OOM happens, add report_tensor_allocations_upon_oom to RunOptions for current allocation info. This isn't available when running in Eager mode.\n [Op:__inference_predict_function_191015]",
     "output_type": "error",
     "traceback": [
      "\u001b[1;31m---------------------------------------------------------------------------\u001b[0m",
      "\u001b[1;31mResourceExhaustedError\u001b[0m                    Traceback (most recent call last)",
      "\u001b[1;32mc:\\Projects\\DeepCell\\deepcell-tf\\notebooks\\students-notebook-all-in-once.ipynb Cell 19\u001b[0m in \u001b[0;36m<cell line: 1>\u001b[1;34m()\u001b[0m\n\u001b[1;32m----> <a href='vscode-notebook-cell:/c%3A/Projects/DeepCell/deepcell-tf/notebooks/students-notebook-all-in-once.ipynb#X21sZmlsZQ%3D%3D?line=0'>1</a>\u001b[0m track_tff \u001b[39m=\u001b[39m tracking(merged_tff,seg_tff)\n\u001b[0;32m      <a href='vscode-notebook-cell:/c%3A/Projects/DeepCell/deepcell-tf/notebooks/students-notebook-all-in-once.ipynb#X21sZmlsZQ%3D%3D?line=1'>2</a>\u001b[0m save_results(merged_tff,seg_tff,track_tff,tif_path,well,view)\n",
      "\u001b[1;32mc:\\Projects\\DeepCell\\deepcell-tf\\notebooks\\students-notebook-all-in-once.ipynb Cell 19\u001b[0m in \u001b[0;36mtracking\u001b[1;34m(x, y_seg)\u001b[0m\n\u001b[0;32m      <a href='vscode-notebook-cell:/c%3A/Projects/DeepCell/deepcell-tf/notebooks/students-notebook-all-in-once.ipynb#X21sZmlsZQ%3D%3D?line=0'>1</a>\u001b[0m \u001b[39mdef\u001b[39;00m \u001b[39mtracking\u001b[39m(x, y_seg):\n\u001b[0;32m      <a href='vscode-notebook-cell:/c%3A/Projects/DeepCell/deepcell-tf/notebooks/students-notebook-all-in-once.ipynb#X21sZmlsZQ%3D%3D?line=1'>2</a>\u001b[0m     tracker \u001b[39m=\u001b[39m CellTracking()\n\u001b[1;32m----> <a href='vscode-notebook-cell:/c%3A/Projects/DeepCell/deepcell-tf/notebooks/students-notebook-all-in-once.ipynb#X21sZmlsZQ%3D%3D?line=2'>3</a>\u001b[0m     tracked_data \u001b[39m=\u001b[39m tracker\u001b[39m.\u001b[39;49mtrack(np\u001b[39m.\u001b[39;49mcopy(x), y_seg)\n\u001b[0;32m      <a href='vscode-notebook-cell:/c%3A/Projects/DeepCell/deepcell-tf/notebooks/students-notebook-all-in-once.ipynb#X21sZmlsZQ%3D%3D?line=3'>4</a>\u001b[0m     \u001b[39mreturn\u001b[39;00m tracked_data\n",
      "File \u001b[1;32mc:\\Projects\\DeepCell\\deepcell-tf\\deepcell\\applications\\cell_tracking.py:155\u001b[0m, in \u001b[0;36mCellTracking.track\u001b[1;34m(self, image, labels, **kwargs)\u001b[0m\n\u001b[0;32m    153\u001b[0m \u001b[39mdef\u001b[39;00m \u001b[39mtrack\u001b[39m(\u001b[39mself\u001b[39m, image, labels, \u001b[39m*\u001b[39m\u001b[39m*\u001b[39mkwargs):\n\u001b[0;32m    154\u001b[0m     \u001b[39m\"\"\"Wrapper around predict() for convenience.\"\"\"\u001b[39;00m\n\u001b[1;32m--> 155\u001b[0m     \u001b[39mreturn\u001b[39;00m \u001b[39mself\u001b[39m\u001b[39m.\u001b[39mpredict(image, labels, \u001b[39m*\u001b[39m\u001b[39m*\u001b[39mkwargs)\n",
      "File \u001b[1;32mc:\\Projects\\DeepCell\\deepcell-tf\\deepcell\\applications\\cell_tracking.py:140\u001b[0m, in \u001b[0;36mCellTracking.predict\u001b[1;34m(self, image, labels, **kwargs)\u001b[0m\n\u001b[0;32m    128\u001b[0m \u001b[39m\"\"\"Using both raw image data and segmentation masks,\u001b[39;00m\n\u001b[0;32m    129\u001b[0m \u001b[39mtrack objects across all frames.\u001b[39;00m\n\u001b[0;32m    130\u001b[0m \n\u001b[1;32m   (...)\u001b[0m\n\u001b[0;32m    136\u001b[0m \u001b[39m    dict: Tracked labels and lineage information.\u001b[39;00m\n\u001b[0;32m    137\u001b[0m \u001b[39m\"\"\"\u001b[39;00m\n\u001b[0;32m    138\u001b[0m image_norm \u001b[39m=\u001b[39m normalize(image)\n\u001b[1;32m--> 140\u001b[0m cell_tracker \u001b[39m=\u001b[39m deepcell_tracking\u001b[39m.\u001b[39;49mCellTracker(\n\u001b[0;32m    141\u001b[0m     image_norm, labels, \u001b[39mself\u001b[39;49m\u001b[39m.\u001b[39;49mmodel,\n\u001b[0;32m    142\u001b[0m     neighborhood_encoder\u001b[39m=\u001b[39;49m\u001b[39mself\u001b[39;49m\u001b[39m.\u001b[39;49mneighborhood_encoder,\n\u001b[0;32m    143\u001b[0m     distance_threshold\u001b[39m=\u001b[39;49m\u001b[39mself\u001b[39;49m\u001b[39m.\u001b[39;49mdistance_threshold,\n\u001b[0;32m    144\u001b[0m     track_length\u001b[39m=\u001b[39;49m\u001b[39mself\u001b[39;49m\u001b[39m.\u001b[39;49mtrack_length,\n\u001b[0;32m    145\u001b[0m     embedding_axis\u001b[39m=\u001b[39;49m\u001b[39mself\u001b[39;49m\u001b[39m.\u001b[39;49membedding_axis,\n\u001b[0;32m    146\u001b[0m     birth\u001b[39m=\u001b[39;49m\u001b[39mself\u001b[39;49m\u001b[39m.\u001b[39;49mbirth, death\u001b[39m=\u001b[39;49m\u001b[39mself\u001b[39;49m\u001b[39m.\u001b[39;49mdeath,\n\u001b[0;32m    147\u001b[0m     division\u001b[39m=\u001b[39;49m\u001b[39mself\u001b[39;49m\u001b[39m.\u001b[39;49mdivision)\n\u001b[0;32m    149\u001b[0m cell_tracker\u001b[39m.\u001b[39mtrack_cells()\n\u001b[0;32m    151\u001b[0m \u001b[39mreturn\u001b[39;00m cell_tracker\u001b[39m.\u001b[39m_track_review_dict()\n",
      "File \u001b[1;32mc:\\Projects\\DeepCell\\deepcell-tf\\Environments\\deepcell_mod\\lib\\site-packages\\deepcell_tracking\\tracking.py:147\u001b[0m, in \u001b[0;36mCellTracker.__init__\u001b[1;34m(self, movie, annotation, tracking_model, neighborhood_encoder, distance_threshold, appearance_dim, death, birth, division, track_length, embedding_axis, dtype, data_format)\u001b[0m\n\u001b[0;32m    144\u001b[0m adj_matrices, appearances, morphologies, centroids \u001b[39m=\u001b[39m \u001b[39mself\u001b[39m\u001b[39m.\u001b[39m_est_feats()\n\u001b[0;32m    146\u001b[0m \u001b[39m# Compute embeddings for every instance of every cell in the movie\u001b[39;00m\n\u001b[1;32m--> 147\u001b[0m embeddings \u001b[39m=\u001b[39m \u001b[39mself\u001b[39;49m\u001b[39m.\u001b[39;49m_get_neighborhood_embeddings(\n\u001b[0;32m    148\u001b[0m     appearances\u001b[39m=\u001b[39;49mappearances,\n\u001b[0;32m    149\u001b[0m     morphologies\u001b[39m=\u001b[39;49mmorphologies,\n\u001b[0;32m    150\u001b[0m     centroids\u001b[39m=\u001b[39;49mcentroids,\n\u001b[0;32m    151\u001b[0m     adj_matrices\u001b[39m=\u001b[39;49madj_matrices)\n\u001b[0;32m    153\u001b[0m \u001b[39m# TODO: immutable dict for safety? these values should never change.\u001b[39;00m\n\u001b[0;32m    154\u001b[0m \u001b[39mself\u001b[39m\u001b[39m.\u001b[39mfeatures \u001b[39m=\u001b[39m {\n\u001b[0;32m    155\u001b[0m     \u001b[39m'\u001b[39m\u001b[39membedding\u001b[39m\u001b[39m'\u001b[39m: embeddings,\n\u001b[0;32m    156\u001b[0m     \u001b[39m'\u001b[39m\u001b[39mcentroid\u001b[39m\u001b[39m'\u001b[39m: centroids,\n\u001b[0;32m    157\u001b[0m     \u001b[39m'\u001b[39m\u001b[39mmorphologies\u001b[39m\u001b[39m'\u001b[39m:morphologies\n\u001b[0;32m    158\u001b[0m }\n",
      "File \u001b[1;32mc:\\Projects\\DeepCell\\deepcell-tf\\Environments\\deepcell_mod\\lib\\site-packages\\deepcell_tracking\\tracking.py:248\u001b[0m, in \u001b[0;36mCellTracker._get_neighborhood_embeddings\u001b[1;34m(self, appearances, morphologies, centroids, adj_matrices)\u001b[0m\n\u001b[0;32m    239\u001b[0m inputs \u001b[39m=\u001b[39m {\n\u001b[0;32m    240\u001b[0m     \u001b[39m'\u001b[39m\u001b[39mencoder_app_input\u001b[39m\u001b[39m'\u001b[39m: appearances,\n\u001b[0;32m    241\u001b[0m     \u001b[39m'\u001b[39m\u001b[39mencoder_morph_input\u001b[39m\u001b[39m'\u001b[39m: morphologies,\n\u001b[0;32m    242\u001b[0m     \u001b[39m'\u001b[39m\u001b[39mencoder_centroid_input\u001b[39m\u001b[39m'\u001b[39m: centroids,\n\u001b[0;32m    243\u001b[0m     \u001b[39m'\u001b[39m\u001b[39mencoder_adj_input\u001b[39m\u001b[39m'\u001b[39m: adj_matrices,\n\u001b[0;32m    244\u001b[0m }\n\u001b[0;32m    246\u001b[0m \u001b[39m# TODO: current model doesnt organize outputs according to ordered list\u001b[39;00m\n\u001b[0;32m    247\u001b[0m \u001b[39m#       patching with embedding_axis\u001b[39;00m\n\u001b[1;32m--> 248\u001b[0m embeddings \u001b[39m=\u001b[39m \u001b[39mself\u001b[39;49m\u001b[39m.\u001b[39;49mneighborhood_encoder\u001b[39m.\u001b[39;49mpredict(inputs)[\u001b[39mself\u001b[39m\u001b[39m.\u001b[39membedding_axis]\n\u001b[0;32m    249\u001b[0m embeddings \u001b[39m=\u001b[39m np\u001b[39m.\u001b[39marray(embeddings)\n\u001b[0;32m    250\u001b[0m \u001b[39mreturn\u001b[39;00m embeddings\n",
      "File \u001b[1;32mc:\\Projects\\DeepCell\\deepcell-tf\\Environments\\deepcell_mod\\lib\\site-packages\\keras\\utils\\traceback_utils.py:67\u001b[0m, in \u001b[0;36mfilter_traceback.<locals>.error_handler\u001b[1;34m(*args, **kwargs)\u001b[0m\n\u001b[0;32m     65\u001b[0m \u001b[39mexcept\u001b[39;00m \u001b[39mException\u001b[39;00m \u001b[39mas\u001b[39;00m e:  \u001b[39m# pylint: disable=broad-except\u001b[39;00m\n\u001b[0;32m     66\u001b[0m   filtered_tb \u001b[39m=\u001b[39m _process_traceback_frames(e\u001b[39m.\u001b[39m__traceback__)\n\u001b[1;32m---> 67\u001b[0m   \u001b[39mraise\u001b[39;00m e\u001b[39m.\u001b[39mwith_traceback(filtered_tb) \u001b[39mfrom\u001b[39;00m \u001b[39mNone\u001b[39m\n\u001b[0;32m     68\u001b[0m \u001b[39mfinally\u001b[39;00m:\n\u001b[0;32m     69\u001b[0m   \u001b[39mdel\u001b[39;00m filtered_tb\n",
      "File \u001b[1;32mc:\\Projects\\DeepCell\\deepcell-tf\\Environments\\deepcell_mod\\lib\\site-packages\\tensorflow\\python\\eager\\execute.py:54\u001b[0m, in \u001b[0;36mquick_execute\u001b[1;34m(op_name, num_outputs, inputs, attrs, ctx, name)\u001b[0m\n\u001b[0;32m     52\u001b[0m \u001b[39mtry\u001b[39;00m:\n\u001b[0;32m     53\u001b[0m   ctx\u001b[39m.\u001b[39mensure_initialized()\n\u001b[1;32m---> 54\u001b[0m   tensors \u001b[39m=\u001b[39m pywrap_tfe\u001b[39m.\u001b[39mTFE_Py_Execute(ctx\u001b[39m.\u001b[39m_handle, device_name, op_name,\n\u001b[0;32m     55\u001b[0m                                       inputs, attrs, num_outputs)\n\u001b[0;32m     56\u001b[0m \u001b[39mexcept\u001b[39;00m core\u001b[39m.\u001b[39m_NotOkStatusException \u001b[39mas\u001b[39;00m e:\n\u001b[0;32m     57\u001b[0m   \u001b[39mif\u001b[39;00m name \u001b[39mis\u001b[39;00m \u001b[39mnot\u001b[39;00m \u001b[39mNone\u001b[39;00m:\n",
      "\u001b[1;31mResourceExhaustedError\u001b[0m: Graph execution error:\n\nDetected at node 'neighborhood_encoder/ln_ae0/FusedBatchNormV3' defined at (most recent call last):\n    File \"C:\\Users\\asafavra\\AppData\\Local\\Programs\\Python\\Python39\\lib\\runpy.py\", line 197, in _run_module_as_main\n      return _run_code(code, main_globals, None,\n    File \"C:\\Users\\asafavra\\AppData\\Local\\Programs\\Python\\Python39\\lib\\runpy.py\", line 87, in _run_code\n      exec(code, run_globals)\n    File \"c:\\Projects\\DeepCell\\deepcell-tf\\Environments\\deepcell_mod\\lib\\site-packages\\ipykernel_launcher.py\", line 17, in <module>\n      app.launch_new_instance()\n    File \"c:\\Projects\\DeepCell\\deepcell-tf\\Environments\\deepcell_mod\\lib\\site-packages\\traitlets\\config\\application.py\", line 976, in launch_instance\n      app.start()\n    File \"c:\\Projects\\DeepCell\\deepcell-tf\\Environments\\deepcell_mod\\lib\\site-packages\\ipykernel\\kernelapp.py\", line 712, in start\n      self.io_loop.start()\n    File \"c:\\Projects\\DeepCell\\deepcell-tf\\Environments\\deepcell_mod\\lib\\site-packages\\tornado\\platform\\asyncio.py\", line 215, in start\n      self.asyncio_loop.run_forever()\n    File \"C:\\Users\\asafavra\\AppData\\Local\\Programs\\Python\\Python39\\lib\\asyncio\\base_events.py\", line 601, in run_forever\n      self._run_once()\n    File \"C:\\Users\\asafavra\\AppData\\Local\\Programs\\Python\\Python39\\lib\\asyncio\\base_events.py\", line 1905, in _run_once\n      handle._run()\n    File \"C:\\Users\\asafavra\\AppData\\Local\\Programs\\Python\\Python39\\lib\\asyncio\\events.py\", line 80, in _run\n      self._context.run(self._callback, *self._args)\n    File \"c:\\Projects\\DeepCell\\deepcell-tf\\Environments\\deepcell_mod\\lib\\site-packages\\ipykernel\\kernelbase.py\", line 510, in dispatch_queue\n      await self.process_one()\n    File \"c:\\Projects\\DeepCell\\deepcell-tf\\Environments\\deepcell_mod\\lib\\site-packages\\ipykernel\\kernelbase.py\", line 499, in process_one\n      await dispatch(*args)\n    File \"c:\\Projects\\DeepCell\\deepcell-tf\\Environments\\deepcell_mod\\lib\\site-packages\\ipykernel\\kernelbase.py\", line 406, in dispatch_shell\n      await result\n    File \"c:\\Projects\\DeepCell\\deepcell-tf\\Environments\\deepcell_mod\\lib\\site-packages\\ipykernel\\kernelbase.py\", line 730, in execute_request\n      reply_content = await reply_content\n    File \"c:\\Projects\\DeepCell\\deepcell-tf\\Environments\\deepcell_mod\\lib\\site-packages\\ipykernel\\ipkernel.py\", line 383, in do_execute\n      res = shell.run_cell(\n    File \"c:\\Projects\\DeepCell\\deepcell-tf\\Environments\\deepcell_mod\\lib\\site-packages\\ipykernel\\zmqshell.py\", line 528, in run_cell\n      return super().run_cell(*args, **kwargs)\n    File \"c:\\Projects\\DeepCell\\deepcell-tf\\Environments\\deepcell_mod\\lib\\site-packages\\IPython\\core\\interactiveshell.py\", line 2881, in run_cell\n      result = self._run_cell(\n    File \"c:\\Projects\\DeepCell\\deepcell-tf\\Environments\\deepcell_mod\\lib\\site-packages\\IPython\\core\\interactiveshell.py\", line 2936, in _run_cell\n      return runner(coro)\n    File \"c:\\Projects\\DeepCell\\deepcell-tf\\Environments\\deepcell_mod\\lib\\site-packages\\IPython\\core\\async_helpers.py\", line 129, in _pseudo_sync_runner\n      coro.send(None)\n    File \"c:\\Projects\\DeepCell\\deepcell-tf\\Environments\\deepcell_mod\\lib\\site-packages\\IPython\\core\\interactiveshell.py\", line 3135, in run_cell_async\n      has_raised = await self.run_ast_nodes(code_ast.body, cell_name,\n    File \"c:\\Projects\\DeepCell\\deepcell-tf\\Environments\\deepcell_mod\\lib\\site-packages\\IPython\\core\\interactiveshell.py\", line 3338, in run_ast_nodes\n      if await self.run_code(code, result, async_=asy):\n    File \"c:\\Projects\\DeepCell\\deepcell-tf\\Environments\\deepcell_mod\\lib\\site-packages\\IPython\\core\\interactiveshell.py\", line 3398, in run_code\n      exec(code_obj, self.user_global_ns, self.user_ns)\n    File \"C:\\Users\\asafavra\\AppData\\Local\\Temp\\2\\ipykernel_7812\\1721055318.py\", line 1, in <cell line: 1>\n      track_tff = tracking(merged_tff,seg_tff)\n    File \"C:\\Users\\asafavra\\AppData\\Local\\Temp\\2\\ipykernel_7812\\579725018.py\", line 3, in tracking\n      tracked_data = tracker.track(np.copy(x), y_seg)\n    File \"c:\\Projects\\DeepCell\\deepcell-tf\\deepcell\\applications\\cell_tracking.py\", line 155, in track\n      return self.predict(image, labels, **kwargs)\n    File \"c:\\Projects\\DeepCell\\deepcell-tf\\deepcell\\applications\\cell_tracking.py\", line 140, in predict\n      cell_tracker = deepcell_tracking.CellTracker(\n    File \"c:\\Projects\\DeepCell\\deepcell-tf\\Environments\\deepcell_mod\\lib\\site-packages\\deepcell_tracking\\tracking.py\", line 147, in __init__\n      embeddings = self._get_neighborhood_embeddings(\n    File \"c:\\Projects\\DeepCell\\deepcell-tf\\Environments\\deepcell_mod\\lib\\site-packages\\deepcell_tracking\\tracking.py\", line 248, in _get_neighborhood_embeddings\n      embeddings = self.neighborhood_encoder.predict(inputs)[self.embedding_axis]\n    File \"c:\\Projects\\DeepCell\\deepcell-tf\\Environments\\deepcell_mod\\lib\\site-packages\\keras\\utils\\traceback_utils.py\", line 64, in error_handler\n      return fn(*args, **kwargs)\n    File \"c:\\Projects\\DeepCell\\deepcell-tf\\Environments\\deepcell_mod\\lib\\site-packages\\keras\\engine\\training.py\", line 1982, in predict\n      tmp_batch_outputs = self.predict_function(iterator)\n    File \"c:\\Projects\\DeepCell\\deepcell-tf\\Environments\\deepcell_mod\\lib\\site-packages\\keras\\engine\\training.py\", line 1801, in predict_function\n      return step_function(self, iterator)\n    File \"c:\\Projects\\DeepCell\\deepcell-tf\\Environments\\deepcell_mod\\lib\\site-packages\\keras\\engine\\training.py\", line 1790, in step_function\n      outputs = model.distribute_strategy.run(run_step, args=(data,))\n    File \"c:\\Projects\\DeepCell\\deepcell-tf\\Environments\\deepcell_mod\\lib\\site-packages\\keras\\engine\\training.py\", line 1783, in run_step\n      outputs = model.predict_step(data)\n    File \"c:\\Projects\\DeepCell\\deepcell-tf\\Environments\\deepcell_mod\\lib\\site-packages\\keras\\engine\\training.py\", line 1751, in predict_step\n      return self(x, training=False)\n    File \"c:\\Projects\\DeepCell\\deepcell-tf\\Environments\\deepcell_mod\\lib\\site-packages\\keras\\utils\\traceback_utils.py\", line 64, in error_handler\n      return fn(*args, **kwargs)\n    File \"c:\\Projects\\DeepCell\\deepcell-tf\\Environments\\deepcell_mod\\lib\\site-packages\\keras\\engine\\base_layer.py\", line 1096, in __call__\n      outputs = call_fn(inputs, *args, **kwargs)\n    File \"c:\\Projects\\DeepCell\\deepcell-tf\\Environments\\deepcell_mod\\lib\\site-packages\\keras\\utils\\traceback_utils.py\", line 92, in error_handler\n      return fn(*args, **kwargs)\n    File \"c:\\Projects\\DeepCell\\deepcell-tf\\Environments\\deepcell_mod\\lib\\site-packages\\keras\\engine\\functional.py\", line 451, in call\n      return self._run_internal_graph(\n    File \"c:\\Projects\\DeepCell\\deepcell-tf\\Environments\\deepcell_mod\\lib\\site-packages\\keras\\engine\\functional.py\", line 589, in _run_internal_graph\n      outputs = node.layer(*args, **kwargs)\n    File \"c:\\Projects\\DeepCell\\deepcell-tf\\Environments\\deepcell_mod\\lib\\site-packages\\keras\\utils\\traceback_utils.py\", line 64, in error_handler\n      return fn(*args, **kwargs)\n    File \"c:\\Projects\\DeepCell\\deepcell-tf\\Environments\\deepcell_mod\\lib\\site-packages\\keras\\engine\\base_layer.py\", line 1096, in __call__\n      outputs = call_fn(inputs, *args, **kwargs)\n    File \"c:\\Projects\\DeepCell\\deepcell-tf\\Environments\\deepcell_mod\\lib\\site-packages\\keras\\utils\\traceback_utils.py\", line 92, in error_handler\n      return fn(*args, **kwargs)\n    File \"c:\\Projects\\DeepCell\\deepcell-tf\\Environments\\deepcell_mod\\lib\\site-packages\\keras\\layers\\normalization\\layer_normalization.py\", line 325, in call\n      outputs, _, _ = tf.compat.v1.nn.fused_batch_norm(\nNode: 'neighborhood_encoder/ln_ae0/FusedBatchNormV3'\nOOM when allocating tensor with shape[1,64,1,86169600] and type float on /job:localhost/replica:0/task:0/device:CPU:0 by allocator cpu\n\t [[{{node neighborhood_encoder/ln_ae0/FusedBatchNormV3}}]]\nHint: If you want to see a list of allocated tensors when OOM happens, add report_tensor_allocations_upon_oom to RunOptions for current allocation info. This isn't available when running in Eager mode.\n [Op:__inference_predict_function_191015]"
     ]
    }
   ],
   "source": [
    "track_tff = tracking(merged_tff,seg_tff)\n",
    "save_results(merged_tff,seg_tff,track_tff,tif_path,well,view)"
   ]
  },
  {
   "cell_type": "code",
   "execution_count": null,
   "metadata": {},
   "outputs": [],
   "source": [
    "embeddings = pd.DataFrame(columns = range(merged_tff.shape[0]))\n",
    "\n",
    "for cell_id, cell_dict in track_tff['tracks'].items():\n",
    "    for i,frame in enumerate(cell_dict['frames']):\n",
    "        embeddings.at[cell_id,frame] = cell_dict['embedding'][i]"
   ]
  }
 ],
 "metadata": {
  "kernelspec": {
   "display_name": "dl_work_mod",
   "language": "python",
   "name": "dl_work_mod"
  },
  "language_info": {
   "codemirror_mode": {
    "name": "ipython",
    "version": 3
   },
   "file_extension": ".py",
   "mimetype": "text/x-python",
   "name": "python",
   "nbconvert_exporter": "python",
   "pygments_lexer": "ipython3",
   "version": "3.9.13"
  },
  "orig_nbformat": 4,
  "vscode": {
   "interpreter": {
    "hash": "ae58896e52c45fae7315903cfd07c296a3e53df373752534943e5167468f64ac"
   }
  }
 },
 "nbformat": 4,
 "nbformat_minor": 2
}
