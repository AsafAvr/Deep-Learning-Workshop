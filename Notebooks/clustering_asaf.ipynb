{
 "cells": [
  {
   "cell_type": "markdown",
   "metadata": {},
   "source": [
    "### Loading the Data\n",
    "- Length of track\n",
    "- Division by wells\n",
    "- Division by genes\n",
    "- Being able to reconstruct the trajectory"
   ]
  },
  {
   "cell_type": "markdown",
   "metadata": {},
   "source": [
    "### Deep clustering\n",
    "  - Autoencoders for extracting latent features\n",
    "  - Loss = Minimizing reconstruction loss + Minimizing clustering loss (?)\n",
    "  - Examining different encoding methods\n",
    "    - Fully Connected\n",
    "    - Convolutional\n",
    "    - RNN (LSTM , GRU)\n",
    "  - Examining different clustering losses\n",
    "    - ?\n",
    "    - ?\n",
    "  - Visualizing with UMAP, PCA, TSNE ,DBSCAN ?\n",
    "  - Visualizing representatives from each clustering as atrajectory\n"
   ]
  },
  {
   "cell_type": "code",
   "execution_count": 3,
   "metadata": {},
   "outputs": [],
   "source": [
    "import numpy as np\n",
    "import pandas as pd\n",
    "import time\n",
    "import os\n",
    "import tensorflow as tf\n",
    "from sklearn.manifold import TSNE\n",
    "from sklearn.decomposition import TruncatedSVD\n",
    "import numpy as np\n",
    "from random import randint\n",
    "import os\n",
    "import matplotlib.pyplot as plt\n",
    "from sklearn import preprocessing\n"
   ]
  },
  {
   "cell_type": "code",
   "execution_count": 4,
   "metadata": {},
   "outputs": [
    {
     "name": "stdout",
     "output_type": "stream",
     "text": [
      "1878 1878\n"
     ]
    }
   ],
   "source": [
    "X = np.load('../npy_files/features_All25.npy')\n",
    "y = np.load('../npy_files/labels_All25.npy')\n",
    "labs = preprocessing.LabelEncoder().fit_transform(y)\n",
    "print(len(X),len(y))"
   ]
  },
  {
   "cell_type": "code",
   "execution_count": 5,
   "metadata": {},
   "outputs": [],
   "source": [
    "X_train, y_train = X, labs"
   ]
  },
  {
   "cell_type": "code",
   "execution_count": 6,
   "metadata": {},
   "outputs": [
    {
     "data": {
      "text/plain": [
       "G4     286\n",
       "F4     254\n",
       "D7     210\n",
       "D4     198\n",
       "D3     195\n",
       "D2     153\n",
       "G2     136\n",
       "E6     118\n",
       "F3      78\n",
       "F2      54\n",
       "G5      44\n",
       "G6      43\n",
       "G3      38\n",
       "E7      35\n",
       "E8      26\n",
       "E9       6\n",
       "E10      4\n",
       "dtype: int64"
      ]
     },
     "execution_count": 6,
     "metadata": {},
     "output_type": "execute_result"
    }
   ],
   "source": [
    "pd.Series(y).value_counts()"
   ]
  },
  {
   "cell_type": "code",
   "execution_count": null,
   "metadata": {},
   "outputs": [],
   "source": []
  }
 ],
 "metadata": {
  "kernelspec": {
   "display_name": "Python 3.9.13 ('dl_work_mod': venv)",
   "language": "python",
   "name": "python3"
  },
  "language_info": {
   "codemirror_mode": {
    "name": "ipython",
    "version": 3
   },
   "file_extension": ".py",
   "mimetype": "text/x-python",
   "name": "python",
   "nbconvert_exporter": "python",
   "pygments_lexer": "ipython3",
   "version": "3.9.13"
  },
  "orig_nbformat": 4,
  "vscode": {
   "interpreter": {
    "hash": "c034c402205727166c9c9dd79643745cea02dc6588a665f44be427a01cecf0b0"
   }
  }
 },
 "nbformat": 4,
 "nbformat_minor": 2
}
