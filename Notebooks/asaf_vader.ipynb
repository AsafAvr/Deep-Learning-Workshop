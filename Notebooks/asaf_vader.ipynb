{
 "cells": [
  {
   "cell_type": "code",
   "execution_count": 7,
   "metadata": {},
   "outputs": [],
   "source": [
    "# python -m ipykernel install --user --name=dl_work_mod\n",
    "import numpy as np\n",
    "import pandas as pd\n",
    "import time\n",
    "import os\n",
    "import tensorflow as tf\n",
    "tf.config.run_functions_eagerly(False)\n",
    "from VaDER.vader import VADER\n",
    "\n",
    "save_path = os.path.join('test_vader', 'vader.ckpt')\n",
    "\n",
    "np.random.seed(123)"
   ]
  },
  {
   "cell_type": "code",
   "execution_count": 4,
   "metadata": {},
   "outputs": [
    {
     "name": "stdout",
     "output_type": "stream",
     "text": [
      "1878 1878\n"
     ]
    }
   ],
   "source": [
    "X = np.load(r'C:\\Projects\\TAU\\DL-Workshop\\Git Folder\\DL-WORKSHOP\\npy_files\\features_All25.npy')\n",
    "y = np.load(r'C:\\Projects\\TAU\\DL-Workshop\\Git Folder\\DL-WORKSHOP\\npy_files\\labels_All25.npy')\n",
    "print(len(X),len(y))\n",
    "X_train, y_train = X, y"
   ]
  },
  {
   "cell_type": "code",
   "execution_count": 5,
   "metadata": {},
   "outputs": [],
   "source": [
    "# normalize (better for fitting)\n",
    "for i in np.arange(X_train.shape[2]):\n",
    "    X_train[:,:,i] = (X_train[:,:,i] - np.mean(X_train[:,:,i])) / np.std(X_train[:,:,i])"
   ]
  },
  {
   "cell_type": "code",
   "execution_count": 8,
   "metadata": {},
   "outputs": [
    {
     "name": "stderr",
     "output_type": "stream",
     "text": [
      "WARNING:absl:Found untraced functions such as imputation_layer_layer_call_fn, imputation_layer_layer_call_and_return_conditional_losses, z_layer_call_fn, z_layer_call_and_return_conditional_losses, mu_tilde_layer_call_fn while saving (showing 5 of 40). These functions will not be directly callable after loading.\n"
     ]
    },
    {
     "name": "stdout",
     "output_type": "stream",
     "text": [
      "INFO:tensorflow:Assets written to: test_vader\\vader.ckpt\\assets\n"
     ]
    },
    {
     "name": "stderr",
     "output_type": "stream",
     "text": [
      "INFO:tensorflow:Assets written to: test_vader\\vader.ckpt\\assets\n",
      "WARNING:absl:<tensorflow_addons.rnn.peephole_lstm_cell.PeepholeLSTMCell object at 0x00000275677E60A0> has the same name 'PeepholeLSTMCell' as a built-in Keras object. Consider renaming <class 'tensorflow_addons.rnn.peephole_lstm_cell.PeepholeLSTMCell'> to avoid naming conflicts when loading with `tf.keras.models.load_model`. If renaming is not possible, pass the object in the `custom_objects` parameter of the load function.\n",
      "WARNING:absl:<tensorflow_addons.rnn.peephole_lstm_cell.PeepholeLSTMCell object at 0x0000027567A7C460> has the same name 'PeepholeLSTMCell' as a built-in Keras object. Consider renaming <class 'tensorflow_addons.rnn.peephole_lstm_cell.PeepholeLSTMCell'> to avoid naming conflicts when loading with `tf.keras.models.load_model`. If renaming is not possible, pass the object in the `custom_objects` parameter of the load function.\n"
     ]
    },
    {
     "name": "stdout",
     "output_type": "stream",
     "text": [
      "-1 tot_loss: 156.78 \trec_loss: 141.53 \tlat_loss: 15.25\n",
      "1 tot_loss: 122.70 \trec_loss: 122.70 \tlat_loss: 43199.14\n",
      "2 tot_loss: 85.75 \trec_loss: 85.75 \tlat_loss: 4880776704.00\n",
      "3 tot_loss: 77.32 \trec_loss: 77.32 \tlat_loss: 55347528.00\n",
      "4 tot_loss: 72.87 \trec_loss: 72.87 \tlat_loss: 1569043.25\n",
      "5 tot_loss: 69.44 \trec_loss: 69.44 \tlat_loss: 480285.19\n",
      "6 tot_loss: 78.53 \trec_loss: 78.53 \tlat_loss: 1351404.00\n",
      "7 tot_loss: 73.49 \trec_loss: 73.49 \tlat_loss: 1204088.88\n",
      "8 tot_loss: 60.38 \trec_loss: 60.38 \tlat_loss: 439.02\n",
      "9 tot_loss: 60.80 \trec_loss: 60.80 \tlat_loss: 863241.69\n",
      "10 tot_loss: 66.04 \trec_loss: 66.04 \tlat_loss: 579.97\n",
      "11 tot_loss: 55.92 \trec_loss: 55.92 \tlat_loss: 608.93\n",
      "12 tot_loss: 61.85 \trec_loss: 61.85 \tlat_loss: 652.66\n",
      "13 tot_loss: 55.40 \trec_loss: 55.40 \tlat_loss: 617.76\n",
      "14 tot_loss: 61.92 \trec_loss: 61.92 \tlat_loss: 663.38\n",
      "15 tot_loss: 57.57 \trec_loss: 57.57 \tlat_loss: 636.31\n",
      "16 tot_loss: 59.68 \trec_loss: 59.68 \tlat_loss: 3927.25\n",
      "17 tot_loss: 57.66 \trec_loss: 57.66 \tlat_loss: 678.60\n",
      "18 tot_loss: 59.85 \trec_loss: 59.85 \tlat_loss: 11681.80\n",
      "19 tot_loss: 59.16 \trec_loss: 59.16 \tlat_loss: 786.53\n",
      "20 tot_loss: 55.64 \trec_loss: 55.64 \tlat_loss: 834.09\n",
      "21 tot_loss: 54.24 \trec_loss: 54.24 \tlat_loss: 779.10\n",
      "22 tot_loss: 52.70 \trec_loss: 52.70 \tlat_loss: 807.16\n",
      "23 tot_loss: 56.30 \trec_loss: 56.30 \tlat_loss: 838.02\n",
      "24 tot_loss: 53.04 \trec_loss: 53.04 \tlat_loss: 810.80\n",
      "25 tot_loss: 53.65 \trec_loss: 53.65 \tlat_loss: 787.23\n",
      "26 tot_loss: 49.84 \trec_loss: 49.84 \tlat_loss: 814.29\n",
      "27 tot_loss: 52.86 \trec_loss: 52.86 \tlat_loss: 843.46\n",
      "28 tot_loss: 51.42 \trec_loss: 51.42 \tlat_loss: 877.35\n",
      "29 tot_loss: 54.59 \trec_loss: 54.59 \tlat_loss: 888.96\n",
      "30 tot_loss: 60.14 \trec_loss: 60.14 \tlat_loss: 863.52\n",
      "31 tot_loss: 49.97 \trec_loss: 49.97 \tlat_loss: 884.27\n",
      "32 tot_loss: 51.54 \trec_loss: 51.54 \tlat_loss: 930.32\n",
      "33 tot_loss: 49.68 \trec_loss: 49.68 \tlat_loss: 930.26\n",
      "34 tot_loss: 48.90 \trec_loss: 48.90 \tlat_loss: 853.62\n"
     ]
    }
   ],
   "source": [
    "vader = VADER(X_train=X_train, W_train=None, save_path=save_path, n_hidden=[64,32,16], k=3,\n",
    "              learning_rate=1e-3, output_activation=None, recurrent=True, cell_type=\"LSTM\", batch_size=64)\n",
    "# pre-train without latent loss\n",
    "start = time.time()\n",
    "vader.pre_fit(n_epoch=50, verbose=True)\n",
    "# train with latent loss\n",
    "vader.fit(n_epoch=50, verbose=True)\n",
    "end = time.time()\n",
    "print(\"Elapsed: \", end - start)"
   ]
  },
  {
   "cell_type": "code",
   "execution_count": null,
   "metadata": {},
   "outputs": [],
   "source": []
  }
 ],
 "metadata": {
  "kernelspec": {
   "display_name": "dl_work_mod",
   "language": "python",
   "name": "dl_work_mod"
  },
  "language_info": {
   "codemirror_mode": {
    "name": "ipython",
    "version": 3
   },
   "file_extension": ".py",
   "mimetype": "text/x-python",
   "name": "python",
   "nbconvert_exporter": "python",
   "pygments_lexer": "ipython3",
   "version": "3.9.13"
  },
  "orig_nbformat": 4,
  "vscode": {
   "interpreter": {
    "hash": "ae58896e52c45fae7315903cfd07c296a3e53df373752534943e5167468f64ac"
   }
  }
 },
 "nbformat": 4,
 "nbformat_minor": 2
}
