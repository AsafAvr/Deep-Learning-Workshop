{
 "cells": [
  {
   "cell_type": "code",
   "execution_count": 32,
   "metadata": {},
   "outputs": [],
   "source": [
    "from time import time\n",
    "import numpy as np\n",
    "import keras.backend as K\n",
    "from tensorflow.keras.layers import Layer, InputSpec\n",
    "from keras.models import Model\n",
    "from keras.utils.vis_utils import plot_model\n",
    "from sklearn.cluster import KMeans\n",
    "from sklearn.preprocessing import StandardScaler\n",
    "import pandas as pd\n",
    "\n",
    "from sklearn.manifold import TSNE\n",
    "from sklearn.decomposition import TruncatedSVD\n",
    "import numpy as np\n",
    "from random import randint\n",
    "import os\n",
    "import matplotlib.pyplot as plt\n",
    "import matplotlib.cm as cm"
   ]
  },
  {
   "cell_type": "code",
   "execution_count": 143,
   "metadata": {},
   "outputs": [],
   "source": [
    "import math"
   ]
  },
  {
   "cell_type": "code",
   "execution_count": 146,
   "metadata": {},
   "outputs": [
    {
     "data": {
      "text/plain": [
       "(7484, 16, 2)"
      ]
     },
     "execution_count": 146,
     "metadata": {},
     "output_type": "execute_result"
    }
   ],
   "source": [
    "x = np.load(r'C:\\Projects\\TAU\\DL-Workshop\\Git Folder\\DL-WORKSHOP\\npy_files\\features_All16.npy')\n",
    "traj = x[:,:,:2].copy()\n",
    "traj.shape"
   ]
  },
  {
   "cell_type": "code",
   "execution_count": 167,
   "metadata": {},
   "outputs": [
    {
     "data": {
      "text/plain": [
       "(14330,)"
      ]
     },
     "execution_count": 167,
     "metadata": {},
     "output_type": "execute_result"
    }
   ],
   "source": [
    "label = np.load(r'C:\\Projects\\TAU\\DL-Workshop\\Git Folder\\DL-WORKSHOP\\npy_files\\labels_All12.npy')\n",
    "label.shape"
   ]
  },
  {
   "cell_type": "code",
   "execution_count": 168,
   "metadata": {},
   "outputs": [
    {
     "data": {
      "text/plain": [
       "G4     1867\n",
       "F4     1697\n",
       "D7     1604\n",
       "D3     1477\n",
       "D4     1316\n",
       "D2      917\n",
       "G2      896\n",
       "E6      818\n",
       "F3      749\n",
       "E8      591\n",
       "G3      498\n",
       "G5      435\n",
       "F2      381\n",
       "E7      371\n",
       "G6      326\n",
       "E9      255\n",
       "E10     132\n",
       "dtype: int64"
      ]
     },
     "execution_count": 168,
     "metadata": {},
     "output_type": "execute_result"
    }
   ],
   "source": [
    "pd.Series(label).value_counts()"
   ]
  },
  {
   "cell_type": "code",
   "execution_count": 147,
   "metadata": {},
   "outputs": [
    {
     "data": {
      "text/plain": [
       "(7484, 15, 2)"
      ]
     },
     "execution_count": 147,
     "metadata": {},
     "output_type": "execute_result"
    }
   ],
   "source": [
    "y = traj[:,:-1,].copy()\n",
    "y.shape"
   ]
  },
  {
   "cell_type": "code",
   "execution_count": 150,
   "metadata": {},
   "outputs": [
    {
     "name": "stderr",
     "output_type": "stream",
     "text": [
      "C:\\Users\\asafavra\\AppData\\Local\\Temp\\ipykernel_22992\\100010063.py:4: RuntimeWarning: divide by zero encountered in double_scalars\n",
      "  y[j,i,1] = math.atan( (traj[j,i+1,1]-traj[j,i,1])/(traj[j,i+1,0]-traj[j,i,0]) )\n"
     ]
    }
   ],
   "source": [
    "for j in range(traj.shape[0]):\n",
    "    for i in range(traj.shape[1]-1):\n",
    "        y[j,i,0] = (np.sqrt( (traj[j,i+1,1]-traj[j,i,1])**2 + (traj[j,i+1,0]-traj[j,i,0])**2 ))\n",
    "        y[j,i,1] = np.arctan( (traj[j,i+1,1]-traj[j,i,1])/(traj[j,i+1,0]-traj[j,i,0]) )"
   ]
  },
  {
   "cell_type": "code",
   "execution_count": 151,
   "metadata": {},
   "outputs": [
    {
     "data": {
      "text/plain": [
       "array([[  0.      ,   0.      ],\n",
       "       [ -5.132004,   1.02059 ],\n",
       "       [ 11.144676,   0.60886 ],\n",
       "       [ -2.018394,  -3.55016 ],\n",
       "       [ -3.045874,   1.77981 ],\n",
       "       [ -1.466469,  -3.380145],\n",
       "       [ -6.450284,   3.437726],\n",
       "       [  2.151346,  -4.89317 ],\n",
       "       [  9.835216,  -0.441554],\n",
       "       [  7.227026,  -3.09118 ],\n",
       "       [  6.574662,  -8.82205 ],\n",
       "       [  6.402741, -12.45315 ],\n",
       "       [ 11.814196, -11.968105],\n",
       "       [  7.506726, -13.33242 ],\n",
       "       [ 10.829706, -19.947536],\n",
       "       [  2.376956, -21.0877  ]])"
      ]
     },
     "execution_count": 151,
     "metadata": {},
     "output_type": "execute_result"
    }
   ],
   "source": [
    "traj[0,:,:]"
   ]
  },
  {
   "cell_type": "code",
   "execution_count": 152,
   "metadata": {},
   "outputs": [
    {
     "data": {
      "text/plain": [
       "array([[ 5.23250122, -0.1963066 ],\n",
       "       [16.28188667, -0.02529031],\n",
       "       [13.80448692,  0.30603506],\n",
       "       [ 5.42810237, -1.38035833],\n",
       "       [ 5.39626313, -1.27376278],\n",
       "       [ 8.44522214, -0.93957118],\n",
       "       [11.97463431, -0.76941054],\n",
       "       [ 8.88024455,  0.52509395],\n",
       "       [ 3.7179528 ,  0.79327884],\n",
       "       [ 5.76788087,  1.4574509 ],\n",
       "       [ 3.63516768,  1.52348485],\n",
       "       [ 5.43314953,  0.08939412],\n",
       "       [ 4.51836842,  0.306736  ],\n",
       "       [ 7.40283431, -1.1052854 ],\n",
       "       [ 8.52929988,  0.13407751]])"
      ]
     },
     "execution_count": 152,
     "metadata": {},
     "output_type": "execute_result"
    }
   ],
   "source": [
    "y[0,:,:]"
   ]
  },
  {
   "cell_type": "code",
   "execution_count": 11,
   "metadata": {},
   "outputs": [],
   "source": [
    "traj = x[:,:,:2]"
   ]
  },
  {
   "cell_type": "code",
   "execution_count": 108,
   "metadata": {},
   "outputs": [
    {
     "data": {
      "text/plain": [
       "(32, 2)"
      ]
     },
     "execution_count": 108,
     "metadata": {},
     "output_type": "execute_result"
    }
   ],
   "source": [
    "traj[0,:,:].shape"
   ]
  },
  {
   "cell_type": "code",
   "execution_count": 22,
   "metadata": {},
   "outputs": [],
   "source": [
    "scaler = StandardScaler()\n",
    "traj_norm = scaler.fit_transform(traj.reshape(-1, traj.shape[-1])).reshape(traj.shape)"
   ]
  },
  {
   "cell_type": "code",
   "execution_count": 23,
   "metadata": {},
   "outputs": [],
   "source": [
    "import traj_dist.distance as tdist"
   ]
  },
  {
   "cell_type": "code",
   "execution_count": 87,
   "metadata": {},
   "outputs": [],
   "source": [
    "def plot_representatives(rep_groups , figsize =(5,10)):\n",
    "    cmap = cm.get_cmap(name='rainbow')\n",
    "    l = len(rep_groups[0])\n",
    "    L = len(rep_groups)\n",
    "    fig, axs = plt.subplots(l,L, figsize=figsize,sharey=True,sharex=True)\n",
    "    fig.tight_layout()\n",
    "    for j,reps in enumerate(rep_groups):\n",
    "        for i,rep in enumerate(reps):\n",
    "            axs[i,j].plot(rep[:,0],rep[:,1])\n",
    "    fig.show()"
   ]
  },
  {
   "cell_type": "code",
   "execution_count": 88,
   "metadata": {},
   "outputs": [],
   "source": [
    "traj_A = [traj_norm[0,:,:] ,traj_norm[1,:,:],traj_norm[2,:,:] ,traj_norm[3,:,:]]\n",
    "traj_B = [traj_norm[10,:,:] , traj_norm[11,:,:],traj_norm[12,:,:] , traj_norm[13,:,:]]"
   ]
  },
  {
   "cell_type": "code",
   "execution_count": 89,
   "metadata": {},
   "outputs": [],
   "source": [
    "traj_A = [traj_norm[0,:,:] ,traj_norm[1,:,:]]\n",
    "traj_B = [traj_norm[10,:,:] , traj_norm[11,:,:]]"
   ]
  },
  {
   "cell_type": "code",
   "execution_count": 90,
   "metadata": {},
   "outputs": [],
   "source": [
    "rep_groups = [traj_A,traj_B]"
   ]
  },
  {
   "cell_type": "code",
   "execution_count": 92,
   "metadata": {},
   "outputs": [
    {
     "name": "stderr",
     "output_type": "stream",
     "text": [
      "C:\\Users\\asafavra\\AppData\\Local\\Temp\\ipykernel_22992\\4106673651.py:10: UserWarning: Matplotlib is currently using module://matplotlib_inline.backend_inline, which is a non-GUI backend, so cannot show the figure.\n",
      "  fig.show()\n"
     ]
    },
    {
     "data": {
      "image/png": "[encoded data removed]",
      "text/plain": [
       "<Figure size 400x600 with 4 Axes>"
      ]
     },
     "metadata": {},
     "output_type": "display_data"
    }
   ],
   "source": [
    "plot_representatives(rep_groups, figsize=(4,6))"
   ]
  },
  {
   "cell_type": "code",
   "execution_count": 107,
   "metadata": {},
   "outputs": [
    {
     "data": {
      "text/plain": [
       "<matplotlib.collections.PathCollection at 0x25d32df6a30>"
      ]
     },
     "execution_count": 107,
     "metadata": {},
     "output_type": "execute_result"
    },
    {
     "data": {
      "image/png": "[encoded data removed]",
      "text/plain": [
       "<Figure size 200x300 with 1 Axes>"
      ]
     },
     "metadata": {},
     "output_type": "display_data"
    }
   ],
   "source": [
    "plt.subplots(figsize = (2,3))\n",
    "plt.scatter(traj_norm[1,:,0],traj_norm[1,:,1])"
   ]
  },
  {
   "cell_type": "code",
   "execution_count": 95,
   "metadata": {},
   "outputs": [],
   "source": [
    "# plt.subplots(figsize = (2,3))\n",
    "# plt.plot(traj_norm[10,:,0],traj_norm[10,:,1])\n"
   ]
  },
  {
   "cell_type": "code",
   "execution_count": 97,
   "metadata": {},
   "outputs": [],
   "source": [
    "traj_A = traj_norm[0,:,:]\n",
    "traj_B = traj_norm[10,:,:]"
   ]
  },
  {
   "cell_type": "code",
   "execution_count": 98,
   "metadata": {},
   "outputs": [
    {
     "data": {
      "text/plain": [
       "3.277194185635209"
      ]
     },
     "execution_count": 98,
     "metadata": {},
     "output_type": "execute_result"
    }
   ],
   "source": [
    "import sklearn\n",
    "sklearn.metrics.mean_squared_error(traj_A,traj_B)"
   ]
  },
  {
   "cell_type": "code",
   "execution_count": 99,
   "metadata": {},
   "outputs": [
    {
     "name": "stdout",
     "output_type": "stream",
     "text": [
      "3.513636939148362\n"
     ]
    }
   ],
   "source": [
    "dist = tdist.frechet(traj_A, traj_B)\n",
    "print(dist)"
   ]
  },
  {
   "cell_type": "code",
   "execution_count": 100,
   "metadata": {},
   "outputs": [
    {
     "name": "stdout",
     "output_type": "stream",
     "text": [
      "2.8986644482461434\n"
     ]
    }
   ],
   "source": [
    "dist = tdist.hausdorff(traj_A, traj_B)\n",
    "print(dist)"
   ]
  },
  {
   "cell_type": "code",
   "execution_count": 101,
   "metadata": {},
   "outputs": [
    {
     "name": "stdout",
     "output_type": "stream",
     "text": [
      "73.69328350972748\n"
     ]
    }
   ],
   "source": [
    "dist = tdist.dtw(traj_A, traj_B)\n",
    "print(dist)"
   ]
  },
  {
   "cell_type": "code",
   "execution_count": 102,
   "metadata": {},
   "outputs": [],
   "source": [
    "traj_A = traj_norm[10,:,:]\n",
    "traj_B = traj_norm[11,:,:]"
   ]
  },
  {
   "cell_type": "code",
   "execution_count": 103,
   "metadata": {},
   "outputs": [
    {
     "data": {
      "text/plain": [
       "0.935793774342217"
      ]
     },
     "execution_count": 103,
     "metadata": {},
     "output_type": "execute_result"
    }
   ],
   "source": [
    "sklearn.metrics.mean_squared_error(traj_A,traj_B)"
   ]
  },
  {
   "cell_type": "code",
   "execution_count": 104,
   "metadata": {},
   "outputs": [
    {
     "name": "stdout",
     "output_type": "stream",
     "text": [
      "1.5550991116432744\n"
     ]
    }
   ],
   "source": [
    "dist = tdist.frechet(traj_A, traj_B)\n",
    "print(dist)"
   ]
  },
  {
   "cell_type": "code",
   "execution_count": 105,
   "metadata": {},
   "outputs": [
    {
     "name": "stdout",
     "output_type": "stream",
     "text": [
      "1.5550991116432744\n"
     ]
    }
   ],
   "source": [
    "dist = tdist.hausdorff(traj_A, traj_B)\n",
    "print(dist)"
   ]
  },
  {
   "cell_type": "code",
   "execution_count": 106,
   "metadata": {},
   "outputs": [
    {
     "name": "stdout",
     "output_type": "stream",
     "text": [
      "37.51429347295684\n"
     ]
    }
   ],
   "source": [
    "dist = tdist.dtw(traj_A, traj_B)\n",
    "print(dist)"
   ]
  },
  {
   "cell_type": "code",
   "execution_count": 115,
   "metadata": {},
   "outputs": [],
   "source": [
    "x = np.array([[0,0],[1,1],[3,3]])"
   ]
  },
  {
   "cell_type": "code",
   "execution_count": 116,
   "metadata": {},
   "outputs": [
    {
     "data": {
      "text/plain": [
       "array([[0, 0],\n",
       "       [1, 1],\n",
       "       [3, 3]])"
      ]
     },
     "execution_count": 116,
     "metadata": {},
     "output_type": "execute_result"
    }
   ],
   "source": [
    "x"
   ]
  },
  {
   "cell_type": "code",
   "execution_count": 121,
   "metadata": {},
   "outputs": [
    {
     "data": {
      "text/plain": [
       "0"
      ]
     },
     "execution_count": 121,
     "metadata": {},
     "output_type": "execute_result"
    }
   ],
   "source": [
    "x[0][1]"
   ]
  },
  {
   "cell_type": "code",
   "execution_count": 123,
   "metadata": {},
   "outputs": [
    {
     "data": {
      "text/plain": [
       "(4668, 32, 2)"
      ]
     },
     "execution_count": 123,
     "metadata": {},
     "output_type": "execute_result"
    }
   ],
   "source": [
    "traj.shape"
   ]
  },
  {
   "cell_type": "code",
   "execution_count": 135,
   "metadata": {},
   "outputs": [],
   "source": [
    "y = traj[0,:-1,:].copy()"
   ]
  },
  {
   "cell_type": "code",
   "execution_count": 136,
   "metadata": {},
   "outputs": [
    {
     "data": {
      "text/plain": [
       "(31, 2)"
      ]
     },
     "execution_count": 136,
     "metadata": {},
     "output_type": "execute_result"
    }
   ],
   "source": [
    "y.shape"
   ]
  },
  {
   "cell_type": "code",
   "execution_count": 128,
   "metadata": {},
   "outputs": [],
   "source": [
    "import math"
   ]
  },
  {
   "cell_type": "code",
   "execution_count": 137,
   "metadata": {},
   "outputs": [],
   "source": [
    "x = traj[0,:,:]\n",
    "for i in range(y.shape[0]-1):\n",
    "    y[i,0] = (np.sqrt( (x[i+1][1]-x[i][1])**2 + (x[i+1][0]-x[i][0])**2 ))\n",
    "    y[i,1] = math.atan( (x[i+1][1]-x[i][1])/(x[i+1][0]-x[i][0]) )"
   ]
  },
  {
   "cell_type": "code",
   "execution_count": 138,
   "metadata": {},
   "outputs": [
    {
     "data": {
      "text/plain": [
       "array([[ 0.       ,  0.       ],\n",
       "       [ 9.1120926, -0.72662  ],\n",
       "       [ 3.1325976, -9.90161  ],\n",
       "       [ 0.3921823,  0.57111  ],\n",
       "       [-1.003263 ,  2.25294  ],\n",
       "       [ 5.9441056,  2.11344  ],\n",
       "       [ 3.7143336,  1.81204  ],\n",
       "       [ 0.4055834,  3.81564  ],\n",
       "       [-1.3951804,  1.78484  ],\n",
       "       [ 1.503746 ,  3.31314  ],\n",
       "       [-1.5694487,  4.81884  ],\n",
       "       [ 0.9185033,  3.86104  ],\n",
       "       [ 2.5079946,  1.95789  ],\n",
       "       [-1.2642279,  3.836    ],\n",
       "       [ 3.6965566,  6.19384  ],\n",
       "       [ 0.8062849,  8.5788   ],\n",
       "       [ 7.8191056,  4.18794  ],\n",
       "       [-1.4608944, -8.63656  ],\n",
       "       [-4.4308944, -2.03656  ],\n",
       "       [-2.5239177,  2.49834  ],\n",
       "       [ 7.2421096,  1.42544  ],\n",
       "       [ 4.6783486,  4.0769   ],\n",
       "       [ 1.7774391,  5.05514  ],\n",
       "       [ 1.3611056,  1.63944  ],\n",
       "       [-1.3938574, -4.06436  ],\n",
       "       [ 1.5135503,  6.06659  ],\n",
       "       [10.1145606,  1.73614  ],\n",
       "       [12.0691056, 15.34149  ],\n",
       "       [ 1.8761921, 17.2666   ],\n",
       "       [-0.2453274, 18.89644  ],\n",
       "       [-0.489718 , 18.58948  ],\n",
       "       [-0.7694359,  8.96344  ]])"
      ]
     },
     "execution_count": 138,
     "metadata": {},
     "output_type": "execute_result"
    }
   ],
   "source": [
    "x"
   ]
  },
  {
   "cell_type": "code",
   "execution_count": 140,
   "metadata": {},
   "outputs": [
    {
     "data": {
      "text/plain": [
       "(31, 2)"
      ]
     },
     "execution_count": 140,
     "metadata": {},
     "output_type": "execute_result"
    }
   ],
   "source": [
    "y.shape"
   ]
  },
  {
   "cell_type": "code",
   "execution_count": null,
   "metadata": {},
   "outputs": [],
   "source": [
    "from geopy.distance import vincenty\n"
   ]
  }
 ],
 "metadata": {
  "kernelspec": {
   "display_name": "Python 3.9.13 ('dl_work_mod': venv)",
   "language": "python",
   "name": "python3"
  },
  "language_info": {
   "codemirror_mode": {
    "name": "ipython",
    "version": 3
   },
   "file_extension": ".py",
   "mimetype": "text/x-python",
   "name": "python",
   "nbconvert_exporter": "python",
   "pygments_lexer": "ipython3",
   "version": "3.9.13"
  },
  "orig_nbformat": 4,
  "vscode": {
   "interpreter": {
    "hash": "c034c402205727166c9c9dd79643745cea02dc6588a665f44be427a01cecf0b0"
   }
  }
 },
 "nbformat": 4,
 "nbformat_minor": 2
}
